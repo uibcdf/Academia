{
 "cells": [
  {
   "cell_type": "markdown",
   "metadata": {},
   "source": [
    "<img src=\"https://assets-cdn.github.com/images/modules/logos_page/GitHub-Logo.png\" width=\"400\">\n",
    "<img src=\"https://assets-cdn.github.com/images/modules/logos_page/Octocat.png\" width=\"200\">\n",
    "\n",
    "---\n",
    "`Nota: Si crees que este notebook necesita algún cambio no dudes en contribuir a su desarrollo.`\n",
    "\n",
    "---\n",
    "\n",
    "# ¿Qué es GitHub?\n",
    "\n",
    "GitHub es un repositorio central de proyectos en la nube, principalmente de software, implementado para el desarrollo en colaboración que opera el controlador de versiones Git. En esencia, puedes pensar que GitHub es la evolución social de Git, ya que nace para facilitar el intercambio de información y colaboración.\n",
    "\n",
    "En la UIBCDF conocemos que existen otros repositorios en la nube, como GitLab, pero por motivos historicos y por que muchas de las herramientas computacionales que usamos son proyectos abiertos en GitHub, es [aquí donde tenemos nuestros repositorios](https://github.com/uibcdf).\n",
    "\n",
    "GitHub, como cualquier servicio en la nube de centralización de repositorios, incluyen herramientas útiles para la comunicación entre los colaboradores: [un panel donde colgar reportes de errores, sugerencias o dudas](https://github.com/uibcdf/Academia/issues); [secciones de visualización del progreso del proyecto](https://github.com/uibcdf/Academia/pulse) [o de la contribución de los desarrolladores](https://github.com/uibcdf/Academia/graphs/contributors), [una sección wiki](https://github.com/uibcdf/Academia/wiki), [un servidor gratuito de webs para documentación](https://pages.github.com/), etc. \n",
    "\n",
    "# ¿Cómo se usa?\n",
    "\n",
    "Debido a que su comunidad de usuarios es muy grande, existe buena documentación propia y ajena para entender su uso. Además de recomendar la lectura del [notebook anterior](Git.ipynb) dedicado al controlador de versiones Git, te sugerimos que dediques en este punto unos minutos a revisar las siguientes páginas:\n",
    "\n",
    "https://services.github.com/on-demand/es/  (obsoleta... esperando a la nueva versión en español)   \n",
    "https://guides.github.com/   \n",
    "https://lab.github.com    \n",
    "\n",
    "---\n",
    "\n",
    "# Dudas de uso, problemas técnicos y soluciones.\n",
    "\n",
    "Para centralizar esas dudas, sugerencias o soluciones técnicas sobre el tema de este notebook, haz uso del siguiente canal:\n",
    "\n",
    "[Foro Técnico: GitHub](https://github.com/uibcdf/Academia/issues/3)\n",
    "\n",
    "## Documentación, tutoriales y recursos útiles\n",
    "\n",
    "El propósito de este notebook es ser un documento únicamente introductorio. Puedes encontrar -o contribuir añadiendo- más información útil en el siguiente listado:\n",
    "\n",
    "### Español:\n",
    "https://conociendogithub.readthedocs.io/en/latest/data/dinamica-de-uso/  \n",
    "https://medium.com/@sthefany/primeros-pasos-con-github-7d5e0769158c  \n",
    "https://developer.mozilla.org/es/docs/Learn/Using_Github_pages  \n",
    "https://reviblog.net/2018/03/29/tutorial-de-git-aprende-git-y-github-gitlab-de-manera-facil-rapida-y-sencilla-parte-1/  \n",
    "\n",
    "### Inglés:\n",
    "https://jahya.net/blog/git-vs-github/  \n",
    "https://www.youtube.com/githubguides  \n",
    "https://try.github.io/  \n",
    "https://www.edureka.co/blog/how-to-use-github/  \n"
   ]
  }
 ],
 "metadata": {
  "kernelspec": {
   "display_name": "Python 3",
   "language": "python",
   "name": "python3"
  },
  "language_info": {
   "codemirror_mode": {
    "name": "ipython",
    "version": 3
   },
   "file_extension": ".py",
   "mimetype": "text/x-python",
   "name": "python",
   "nbconvert_exporter": "python",
   "pygments_lexer": "ipython3",
   "version": "3.7.3"
  },
  "latex_envs": {
   "LaTeX_envs_menu_present": true,
   "autoclose": false,
   "autocomplete": true,
   "bibliofile": "biblio.bib",
   "cite_by": "apalike",
   "current_citInitial": 1,
   "eqLabelWithNumbers": true,
   "eqNumInitial": 1,
   "hotkeys": {
    "equation": "Ctrl-E",
    "itemize": "Ctrl-I"
   },
   "labels_anchors": false,
   "latex_user_defs": false,
   "report_style_numbering": false,
   "user_envs_cfg": false
  }
 },
 "nbformat": 4,
 "nbformat_minor": 4
}
