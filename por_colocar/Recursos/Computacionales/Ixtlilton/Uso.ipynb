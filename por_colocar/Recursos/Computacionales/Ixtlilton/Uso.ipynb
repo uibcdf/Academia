{
 "cells": [
  {
   "cell_type": "markdown",
   "metadata": {},
   "source": [
    "# Acceso\n",
    "\n",
    "## Desde la UIBCDF\n",
    "\n",
    "La IP del nodo de acceso a Ixtlilton desde la red local de la UIBCDF es 192.168.0.100. Si prefieres no memorizar esta IP, tu sistema operativo cuenta con un fichero para guardar una relación de IPs con suu correspondientes hostnames. En el caso de Ubuntu, este fichero es `/etc/hosts`. Puedes incluir al final del fichero una linea como la siguiente:\n",
    "\n",
    "```bash\n",
    "# Ixtlilton\n",
    "192.168.0.100 ixtlilton\n",
    "```\n",
    "\n",
    "De esta manera, desde la misma red de la UIBCDF, ya puedes acceder a Ixtlilton mediante el correspondiente comando ssh:\n",
    "\n",
    "```bash\n",
    "ssh nombre_usuario@ixtlilton\n",
    "```\n",
    "\n",
    "## Desde fuera de la UIBCDF\n",
    "\n",
    "Para acceder a Ixtlilton desde fuera de la UIBCDF, como miembro de la unidad o como colaborador, has tenido que recibir un email con instrucciones. Si lo has extraviado ponte en contacto con los responsables de la unidad o con el administrador de Ixtlilton.\n",
    "\n"
   ]
  }
 ],
 "metadata": {
  "kernelspec": {
   "display_name": "Python 3",
   "language": "python",
   "name": "python3"
  },
  "language_info": {
   "codemirror_mode": {
    "name": "ipython",
    "version": 3
   },
   "file_extension": ".py",
   "mimetype": "text/x-python",
   "name": "python",
   "nbconvert_exporter": "python",
   "pygments_lexer": "ipython3",
   "version": "3.7.1"
  }
 },
 "nbformat": 4,
 "nbformat_minor": 2
}
