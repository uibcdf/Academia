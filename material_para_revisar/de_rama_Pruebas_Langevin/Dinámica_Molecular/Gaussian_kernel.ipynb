{
 "cells": [
  {
   "cell_type": "code",
   "execution_count": null,
   "metadata": {},
   "outputs": [],
   "source": [
    "import numpy as np\n",
    "import h5py as h5py\n",
    "import sympy as sy\n",
    "import matplotlib.pyplot as plt\n",
    "from tqdm import tqdm\n",
    "from mayavi import mlab"
   ]
  },
  {
   "cell_type": "code",
   "execution_count": null,
   "metadata": {},
   "outputs": [],
   "source": [
    "# Para usar mayavi por el momento hay que cambiar a Jupyter Notebook (no lab)\n",
    "# En lab funciona con mlab.init_notebook('png')"
   ]
  },
  {
   "cell_type": "code",
   "execution_count": null,
   "metadata": {},
   "outputs": [],
   "source": [
    "mlab.init_notebook()"
   ]
  },
  {
   "cell_type": "code",
   "execution_count": null,
   "metadata": {},
   "outputs": [],
   "source": [
    "plt.rcParams['figure.figsize'] = 8, 8"
   ]
  },
  {
   "cell_type": "markdown",
   "metadata": {},
   "source": [
    "# Elliptical Gaussian Kernel 1D"
   ]
  },
  {
   "cell_type": "code",
   "execution_count": null,
   "metadata": {},
   "outputs": [],
   "source": [
    "def elliptical_gaussian_kernel_1D(x,xo,A=-1.0,cxx=0.0):\n",
    "    inc_x = x-xo\n",
    "    B = cxx*inc_x*inc_x\n",
    "    return A*np.exp(-B)"
   ]
  },
  {
   "cell_type": "code",
   "execution_count": null,
   "metadata": {},
   "outputs": [],
   "source": [
    "A   = -1\n",
    "xo  = 0.0\n",
    "cxx = 1.0"
   ]
  },
  {
   "cell_type": "code",
   "execution_count": null,
   "metadata": {},
   "outputs": [],
   "source": [
    "xlim = [-4,4]\n",
    "xbins = 100\n",
    "\n",
    "x = np.linspace(xlim[0], xlim[1], xbins)\n",
    "\n",
    "y = elliptical_gaussian_kernel_1D(x,xo,A,cxx)\n",
    "\n",
    "plt.plot(x,y)\n",
    "\n",
    "plt.show()"
   ]
  },
  {
   "cell_type": "code",
   "execution_count": null,
   "metadata": {},
   "outputs": [],
   "source": [
    "x = sy.symbols('x')\n",
    "f = A*sy.exp(-(cxx*(x-xo)**2))\n",
    "gradient = sy.diff(f,x)\n",
    "hessian  = sy.diff(gradient,x)"
   ]
  },
  {
   "cell_type": "code",
   "execution_count": null,
   "metadata": {},
   "outputs": [],
   "source": [
    "M = hessian.subs(x,xo)"
   ]
  },
  {
   "cell_type": "code",
   "execution_count": null,
   "metadata": {},
   "outputs": [],
   "source": [
    "effective_k = M"
   ]
  },
  {
   "cell_type": "code",
   "execution_count": null,
   "metadata": {},
   "outputs": [],
   "source": [
    "xlim = [-4,4]\n",
    "xbins = 100\n",
    "\n",
    "x  = np.linspace(xlim[0], xlim[1], xbins)\n",
    "y  = elliptical_gaussian_kernel_1D(x,xo,A,cxx)\n",
    "y2 = 0.5*effective_k*x**2+A\n",
    "plt.plot(x,y)\n",
    "plt.plot(x,y2)\n",
    "plt.ylim([-1.2,0.2])\n",
    "plt.show()"
   ]
  },
  {
   "cell_type": "markdown",
   "metadata": {},
   "source": [
    "# Elliptical Gaussian Kernel 2D"
   ]
  },
  {
   "cell_type": "code",
   "execution_count": null,
   "metadata": {},
   "outputs": [],
   "source": [
    "def elliptical_gaussian_kernel_2D(x,y,xo,yo,A=-1.0,cxx=0.0,cxy=0.0,cyy=0.0):\n",
    "    inc_x = x-xo\n",
    "    inc_y = y-yo\n",
    "    B = cxx*inc_x*inc_x + 2*cxy*inc_x*inc_y + cyy*inc_y*inc_y\n",
    "    return A*np.exp(-B)"
   ]
  },
  {
   "cell_type": "code",
   "execution_count": null,
   "metadata": {},
   "outputs": [],
   "source": [
    "xo, yo = [0.0,0.0]\n",
    "A   = -1.0\n",
    "cxx = 0.5\n",
    "cxy = 0.5\n",
    "cyy = 2.0"
   ]
  },
  {
   "cell_type": "code",
   "execution_count": null,
   "metadata": {},
   "outputs": [],
   "source": [
    "# Debe ser positiva\n",
    "M = np.array([[cxx, cxy],[cxy, cyy]])\n",
    "np.all(np.linalg.eigvals(M+M.transpose()) > 0)"
   ]
  },
  {
   "cell_type": "code",
   "execution_count": null,
   "metadata": {},
   "outputs": [],
   "source": [
    "xlim = [-4,4]\n",
    "ylim = [-4,4]\n",
    "xbins = 100\n",
    "ybins = 100\n",
    "\n",
    "x = np.linspace(xlim[0], xlim[1], xbins)\n",
    "y = np.linspace(ylim[0], ylim[1], ybins)\n",
    "\n",
    "X,Y = np.meshgrid(x, y)\n",
    "Z = elliptical_gaussian_kernel_2D(X,Y,xo,yo,A,cxx,cxy,cyy)\n",
    "\n",
    "extent = [xlim[0], xlim[1], ylim[0], ylim[1]]\n",
    "im = plt.imshow(Z, extent=extent, origin='lower',\n",
    "                cmap=plt.cm.RdBu, interpolation='gaussian')\n",
    "\n",
    "cset = plt.contour(Z, np.arange(A,0,0.2), extent=extent, origin='lower',\n",
    "                   linewidths=1, cmap=plt.cm.Set1)\n",
    "\n",
    "plt.clabel(cset,inline=True,fmt='%1.1f',fontsize=10)\n",
    "plt.colorbar(im, alpha=0.5)\n",
    "\n",
    "plt.show()"
   ]
  },
  {
   "cell_type": "code",
   "execution_count": null,
   "metadata": {},
   "outputs": [],
   "source": [
    "x = sy.symbols('x')\n",
    "y = sy.symbols('y')\n",
    "f = A*sy.exp(-(cxx*(x-xo)**2 + 2*cxy*(x-xo)*(y-yo) + cyy*(y-yo)*(y-yo)))\n",
    "gradient = sy.derive_by_array(f,(x,y))\n",
    "hessian = sy.derive_by_array(gradient,(x,y))"
   ]
  },
  {
   "cell_type": "code",
   "execution_count": null,
   "metadata": {},
   "outputs": [],
   "source": [
    "M = hessian.subs(x,xo).subs(y,yo)\n",
    "M = np.array(M.tolist(),dtype=float)"
   ]
  },
  {
   "cell_type": "code",
   "execution_count": null,
   "metadata": {},
   "outputs": [],
   "source": [
    "eigenvals, eigenvecs = np.linalg.eig(np.array(M))"
   ]
  },
  {
   "cell_type": "code",
   "execution_count": null,
   "metadata": {},
   "outputs": [],
   "source": [
    "print('Autovalores:',eigenvals)\n",
    "print('Autovectores:',eigenvecs)\n",
    "print('')\n",
    "\n",
    "for ii in range(eigenvals.shape[0]):\n",
    "    print('Autovalor y Autovector ',str(ii),':')\n",
    "    print('')\n",
    "    print('\\t',eigenvals[ii],eigenvecs[:,ii])\n",
    "    print('')"
   ]
  },
  {
   "cell_type": "markdown",
   "metadata": {},
   "source": [
    "# Elliptical Gaussian Kernel 3D"
   ]
  },
  {
   "cell_type": "code",
   "execution_count": null,
   "metadata": {},
   "outputs": [],
   "source": [
    "def elliptical_gaussian_kernel_3D(x,y,z,xo,yo,zo,A=-1.0,cxx=0.0,cxy=0.0,cxz=0.0,\n",
    "                                  cyy=0.0,cyz=0.0,czz=0.0):\n",
    "    inc_x = x-xo\n",
    "    inc_y = y-yo\n",
    "    inc_z = z-zo\n",
    "    B = cxx*inc_x*inc_x + cyy*inc_y*inc_y + czz*inc_z*inc_z + \\\n",
    "        2*cxy*inc_x*inc_y + 2*cxz*inc_x*inc_z + 2*cyz*inc_y*inc_z\n",
    "    return A*np.exp(-B)"
   ]
  },
  {
   "cell_type": "code",
   "execution_count": null,
   "metadata": {},
   "outputs": [],
   "source": [
    "xo, yo, zo = [0.0,0.0,0.0]\n",
    "A   = -1.0\n",
    "cxx = 1.0\n",
    "cxy = 0.0\n",
    "cxz = 0.0\n",
    "cyy = 1.0\n",
    "cyz = 0.0\n",
    "czz = 1.0"
   ]
  },
  {
   "cell_type": "code",
   "execution_count": null,
   "metadata": {},
   "outputs": [],
   "source": [
    "# Debe ser positiva\n",
    "M = np.array([[cxx, cxy, cxz], [cxy, cyy, cyz], [cxz, cyz, czz]])\n",
    "np.all(np.linalg.eigvals(M+M.transpose()) > 0)"
   ]
  },
  {
   "cell_type": "code",
   "execution_count": null,
   "metadata": {},
   "outputs": [],
   "source": [
    "# plot 3d"
   ]
  },
  {
   "cell_type": "code",
   "execution_count": null,
   "metadata": {},
   "outputs": [],
   "source": [
    "x = sy.symbols('x')\n",
    "y = sy.symbols('y')\n",
    "z = sy.symbols('z')\n",
    "f = A*sy.exp(-(cxx*(x-xo)**2 + 2*cxy*(x-xo)*(y-yo) + 2*cxz*(x-xo)*(z-zo) + cyy*(y-yo)*(y-yo) + 2*cyz*(y-yo)*(z-zo) + czz*(z-zo)**2 ))\n",
    "gradient = sy.derive_by_array(f,(x,y,z))\n",
    "hessian = sy.derive_by_array(gradient,(x,y,z))"
   ]
  },
  {
   "cell_type": "code",
   "execution_count": null,
   "metadata": {},
   "outputs": [],
   "source": [
    "M = hessian.subs(x,xo).subs(y,yo).subs(z,zo)\n",
    "M = np.array(M.tolist(),dtype=float)"
   ]
  },
  {
   "cell_type": "code",
   "execution_count": null,
   "metadata": {},
   "outputs": [],
   "source": [
    "M"
   ]
  },
  {
   "cell_type": "code",
   "execution_count": null,
   "metadata": {},
   "outputs": [],
   "source": [
    "eigenvals, eigenvecs = np.linalg.eig(np.array(M))"
   ]
  },
  {
   "cell_type": "code",
   "execution_count": null,
   "metadata": {},
   "outputs": [],
   "source": [
    "print('Autovalores:',eigenvals)\n",
    "print('Autovectores:',eigenvecs)\n",
    "print('')\n",
    "\n",
    "for ii in range(eigenvals.shape[0]):\n",
    "    print('Autovalor y Autovector ',str(ii),':')\n",
    "    print('')\n",
    "    print('\\t',eigenvals[ii],eigenvecs[:,ii])\n",
    "    print('')"
   ]
  },
  {
   "cell_type": "markdown",
   "metadata": {},
   "source": [
    "# Potencial tipo embudo 2D"
   ]
  },
  {
   "cell_type": "code",
   "execution_count": null,
   "metadata": {},
   "outputs": [],
   "source": [
    "def check_positive_2d(embudo):\n",
    "    pot_i=0\n",
    "    for pot in embudo:\n",
    "        xo, yo, A, cxx, cxy, cyy = pot\n",
    "        M = np.array([[cxx, cxy],[cxy, cyy]])\n",
    "        is_positive = np.all(np.linalg.eigvals(M+M.transpose()) > 0)\n",
    "        if not is_positive:\n",
    "            print('La gaussiana',pot_i, 'no es definida positiva')\n",
    "        pot_i+=1"
   ]
  },
  {
   "cell_type": "code",
   "execution_count": null,
   "metadata": {},
   "outputs": [],
   "source": [
    "def effective_ks_2D(embudo):\n",
    "    \n",
    "    effective_ks = []\n",
    "    pot_i = 0\n",
    "    for pot in embudo:\n",
    "        xo, yo, A, cxx, cxy, cyy = pot\n",
    "        x = sy.symbols('x')\n",
    "        y = sy.symbols('y')\n",
    "        f = A*sy.exp(-(cxx*(x-xo)**2 + 2*cxy*(x-xo)*(y-yo) + cyy*(y-yo)**2))\n",
    "        gradient = sy.derive_by_array(f,(x,y))\n",
    "        hessian = sy.derive_by_array(gradient,(x,y))\n",
    "        M = hessian.subs(x,xo).subs(y,yo)\n",
    "        M = np.array(M.tolist(),dtype=float)\n",
    "        eigenvals, eigenvecs = np.linalg.eig(np.array(M))\n",
    "        #print('Gaussiana',pot_i)\n",
    "        for ii in range(eigenvals.shape[0]):\n",
    "            eff_k = eigenvals[ii]\n",
    "            if eff_k > 0.0:\n",
    "                effective_ks.append(eff_k)\n",
    "            #print('\\t effective k',eff_k,'en modo',eigenvecs[:,ii])\n",
    "        pot_i+=1\n",
    "        #print('')\n",
    "    print(effective_ks)"
   ]
  },
  {
   "cell_type": "code",
   "execution_count": null,
   "metadata": {},
   "outputs": [],
   "source": [
    "def plot_embudo_2D(embudo):\n",
    "    \n",
    "    xlim = [-8,8]\n",
    "    ylim = [-8,8]\n",
    "    xbins = 100\n",
    "    ybins = 100\n",
    "\n",
    "    x = np.linspace(xlim[0], xlim[1], xbins)\n",
    "    y = np.linspace(ylim[0], ylim[1], ybins)\n",
    "\n",
    "    X,Y = np.meshgrid(x, y)\n",
    "    Z = 0.0\n",
    "    for pot in embudo:\n",
    "        xo, yo, A, cxx, cxy, cyy = pot\n",
    "        Z += elliptical_gaussian_kernel_2D(X,Y,xo,yo,A,cxx,cxy,cyy)\n",
    "\n",
    "    plt.rcParams['figure.figsize'] = 12, 12\n",
    "    extent = [xlim[0], xlim[1], ylim[0], ylim[1]]\n",
    "    #im = plt.imshow(Z, extent=extent, origin='lower',\n",
    "    #                cmap=plt.cm.RdBu, interpolation='gaussian')\n",
    "\n",
    "    cset = plt.contour(Z, np.arange(-4,0,0.1), extent=extent, origin='lower',\n",
    "                       linewidths=1, cmap=plt.cm.Set1)\n",
    "\n",
    "    plt.clabel(cset,inline=True,fmt='%1.1f',fontsize=10)\n",
    "    #plt.colorbar(im, alpha=0.5)\n",
    "\n",
    "    plt.show()\n",
    "    \n",
    "def plot_embudo_surface_2D(embudo):\n",
    "    \n",
    "    from mpl_toolkits.mplot3d import Axes3D\n",
    "    fig = plt.figure()\n",
    "    ax = fig.add_subplot(111, projection='3d')\n",
    "    \n",
    "    xlim = [-8,8]\n",
    "    ylim = [-8,8]\n",
    "    xbins = 100\n",
    "    ybins = 100\n",
    "\n",
    "    x = np.linspace(xlim[0], xlim[1], xbins)\n",
    "    y = np.linspace(ylim[0], ylim[1], ybins)\n",
    "\n",
    "    X,Y = np.meshgrid(x, y)\n",
    "    Z = 0.0\n",
    "    for pot in embudo:\n",
    "        xo, yo, A, cxx, cxy, cyy = pot\n",
    "        Z += elliptical_gaussian_kernel_2D(X,Y,xo,yo,A,cxx,cxy,cyy)\n",
    "\n",
    "    plt.rcParams['figure.figsize'] = 12, 12\n",
    "    extent = [xlim[0], xlim[1], ylim[0], ylim[1]]\n",
    "    \n",
    "    ax.plot_surface(X, Y, Z, cmap=plt.cm.coolwarm,\n",
    "                       linewidth=0, antialiased=False)\n",
    "\n",
    "    ax.view_init(30, 45)\n",
    "    \n",
    "    plt.show()\n",
    "    \n",
    "def plot_embudo_mayavi_2D(embudo):\n",
    "    \n",
    "    xlim = [-8,8]\n",
    "    ylim = [-8,8]\n",
    "    xbins = 100\n",
    "    ybins = 100\n",
    "\n",
    "    x = np.linspace(xlim[0], xlim[1], xbins)\n",
    "    y = np.linspace(ylim[0], ylim[1], ybins)\n",
    "\n",
    "    X,Y = np.meshgrid(x, y)\n",
    "    Z = 0.0\n",
    "    for pot in embudo:\n",
    "        xo, yo, A, cxx, cxy, cyy = pot\n",
    "        Z += elliptical_gaussian_kernel_2D(X,Y,xo,yo,A,cxx,cxy,cyy)\n",
    "\n",
    "\n",
    "    return mlab.surf(Z, warp_scale='auto')"
   ]
  },
  {
   "cell_type": "code",
   "execution_count": null,
   "metadata": {},
   "outputs": [],
   "source": [
    "#pot_i = [xo, yo, A, cxx, cxy, cyy]\n",
    "pot_0 =  [ 0.0,  0.0, -2.0, 0.05, 0.0, 0.05]\n",
    "pot_1 =  [ 0.0,  0.0, -0.4,  2.0,  0.0, 2.0]\n",
    "pot_2 =  [ 3.0,  3.0, -0.8,  1.0,  0.5, 1.0]\n",
    "pot_3 =  [ 0.0,  5.0, -0.6,  1.0,  0.0, 1.0]\n",
    "pot_4 =  [-2.5, -2.0, -0.5,  1.0,  0.0, 1.0]\n",
    "pot_5 =  [ 2.2, -2.0, -0.8,  2.0,  0.0, 2.0]\n",
    "pot_6 =  [ 3.0,  6.0, -0.8,  2.0,  0.8, 2.0]\n",
    "pot_7 =  [-4.5,  1.0, -0.8,  2.0,  0.0, 2.0]\n",
    "pot_8 =  [-3.0,  4.0, -0.6,  1.0,  0.4, 0.7]\n",
    "pot_9 =  [ 0.0, -4.0, -0.8,  2.0,  0.2, 2.0]\n",
    "pot_10 = [-2.0,  5.8, -0.8,  1.0,  0.1, 1.0]\n",
    "pot_11 = [-1.8,  0.8, -0.5,  0.9,  0.0, 2.0]\n",
    "pot_12 = [ 5.0, -0.3, -0.8,  1.0,  0.4, 1.0]\n",
    "pot_13 = [ 4.0, -4.0, -0.8,  1.0,  0.0, 1.0]\n",
    "pot_14 = [ 5.0, -2.5, -0.6,  2.0,  0.0, 1.0]\n",
    "pot_15 = [-3.0, -4.0, -1.0,  0.8,  0.3, 1.0]\n",
    "pot_16 = [-4.0,  3.0, -0.7,  3.5,  0.0, 3.5]\n",
    "pot_17 = [-5.0, -2.0, -1.2,  1.5,  0.0, 1.5]\n",
    "pot_18 = [-6.0, -1.8, -0.8,  1.0,  0.2, 0.8]\n",
    "pot_19 = [ 2.0, -5.0, -1.0,  1.5,  0.0, 1.5]\n",
    "pot_20 = [-6.0,  0.0, -1.0,  1.5,  0.1, 1.5]\n",
    "pot_21 = [-6.0,  6.0, -1.2,  1.0,  0.5, 0.9]\n",
    "pot_22 = [ 6.2,  2.0, -1.2,  1.0,  0.0, 1.0]\n",
    "\n",
    "pot_23 = [-2.0,  2.0,  0.2, 1.5, 0.0, 1.5]\n",
    "pot_24 = [ 1.5,  1.8,  0.8, 1.0, 0.2, 0.8]\n",
    "pot_25 = [ 2.5,  0.5,  0.4, 1.5, 0.0, 1.5]\n",
    "pot_26 = [-4.0, -1.0,  0.4, 1.2, 0.1, 1.5]\n",
    "pot_27 = [-1.5, -1.0,  0.3, 0.7, 0.5, 0.9]\n",
    "pot_28 = [-4.2,  2.0,  0.5, 1.2, 0.0, 0.8]\n",
    "pot_29 = [ 4.0,  4.0,  0.2, 0.8, 0.5, 0.9]\n",
    "pot_30 = [ 4.2, -2.0,  0.2, 1.0, 0.0, 1.0]\n",
    "\n",
    "embudo = [pot_0, pot_1, pot_2, pot_3, pot_4, pot_5, pot_6, pot_7, pot_8, pot_9, \n",
    "         pot_10, pot_11, pot_12, pot_13, pot_14, pot_15, pot_16, pot_17, pot_18,\n",
    "         pot_19, pot_20, pot_21, pot_22, pot_23, pot_24, pot_25, pot_26, pot_27,\n",
    "         pot_28, pot_29, pot_30]\n",
    "\n",
    "check_positive_2d(embudo)\n",
    "effective_ks_2D(embudo)\n",
    "\n",
    "plot_embudo_2D(embudo)\n",
    "\n",
    "plot_embudo_surface_2D(embudo)"
   ]
  },
  {
   "cell_type": "code",
   "execution_count": null,
   "metadata": {},
   "outputs": [],
   "source": [
    "#plot_embudo_mayavi_2D(embudo)"
   ]
  },
  {
   "cell_type": "markdown",
   "metadata": {},
   "source": [
    "# Potencial tipo embudo 3D"
   ]
  },
  {
   "cell_type": "code",
   "execution_count": null,
   "metadata": {},
   "outputs": [],
   "source": [
    "def check_positive_3D(embudo):\n",
    "    \n",
    "    pot_i=0\n",
    "    for pot in embudo:\n",
    "        xo, yo, zo, A, cxx, cxy, cxz, cyy, cyz, czz = pot\n",
    "        M = np.array([[cxx, cxy, cxz], [cxy, cyy, cyz], [cxz, cyz, czz]])\n",
    "        is_positive = np.all(np.linalg.eigvals(M+M.transpose()) > 0)\n",
    "        if not is_positive:\n",
    "            print('La gaussiana',pot_i, 'no es definida positiva')\n",
    "        pot_i+=1"
   ]
  },
  {
   "cell_type": "code",
   "execution_count": null,
   "metadata": {},
   "outputs": [],
   "source": [
    "def effective_ks_3D(embudo):\n",
    "    \n",
    "    effective_ks = []\n",
    "    pot_i=0\n",
    "    for pot in embudo:\n",
    "\n",
    "        xo, yo, zo, A, cxx, cxy, cxz, cyy, cyz, czz = pot\n",
    "        x = sy.symbols('x')\n",
    "        y = sy.symbols('y')\n",
    "        z = sy.symbols('z')\n",
    "        f = A*sy.exp(-(cxx*(x-xo)**2 + 2*cxy*(x-xo)*(y-yo) + 2*cxz*(x-xo)*(z-zo) + cyy*(y-yo)*(y-yo) + 2*cyz*(y-yo)*(z-zo) + czz*(z-zo)**2 ))\n",
    "        gradient = sy.derive_by_array(f,(x,y,z))\n",
    "        hessian = sy.derive_by_array(gradient,(x,y,z))\n",
    "        M = hessian.subs(x,xo).subs(y,yo).subs(z,zo)\n",
    "        M = np.array(M.tolist(),dtype=float)\n",
    "        eigenvals, eigenvecs = np.linalg.eig(np.array(M))\n",
    "        #print('Gaussiana',pot_i)\n",
    "        for ii in range(eigenvals.shape[0]):\n",
    "            eff_k = eigenvals[ii]\n",
    "            if eff_k > 0.0:\n",
    "                effective_ks.append(eff_k)\n",
    "            #print('\\t effective k',eff_d,'en modo',eigenvecs[:,ii])\n",
    "        pot_i+=1\n",
    "        #print('')\n",
    "    print(effective_ks)"
   ]
  },
  {
   "cell_type": "code",
   "execution_count": null,
   "metadata": {},
   "outputs": [],
   "source": [
    "def plot_embudo_mayavi_3D(embudo):\n",
    "    \n",
    "    xlim = [-10,10]\n",
    "    ylim = [-10,10]\n",
    "    zlim = [-10,10]\n",
    "    xbins = 200\n",
    "    ybins = 200\n",
    "    zbins = 200\n",
    "\n",
    "    x = np.linspace(xlim[0], xlim[1], xbins)\n",
    "    y = np.linspace(ylim[0], ylim[1], ybins)\n",
    "    z = np.linspace(zlim[0], zlim[1], zbins)\n",
    "\n",
    "    X,Y,Z = np.meshgrid(x, y, z)\n",
    "    scalars = 0.0\n",
    "    for pot in embudo:\n",
    "        xo, yo, zo, A, cxx, cxy, cxz, cyy, cyz, czz = pot\n",
    "        scalars += elliptical_gaussian_kernel_3D(X,Y,Z,xo,yo,zo,A,cxx,cxy,cxz,cyy,cyz,czz)\n",
    "\n",
    "\n",
    "    return mlab.contour3d(scalars, contours=14, opacity = 0.2)"
   ]
  },
  {
   "cell_type": "code",
   "execution_count": null,
   "metadata": {},
   "outputs": [],
   "source": [
    "#pot_i = [  xo,   yo,  zo,    A,  cxx,  cxy, cxz, cyy, cyz, czz]\n",
    "pot_0 =  [ 0.0,  0.0, 0.0, -2.0, 0.05,  0.0, 0.0, 0.05, 0.0, 0.05]\n",
    "pot_1 =  [ 0.0,  0.0, 0.0, -0.6,  2.0,  0.0, 0.0,  2.0, 0.0, 2.0]\n",
    "pot_2 =  [ 3.0,  3.0, 3.0, -0.8,  1.0,  0.5, 0.2,  1.0, 0.1, 1.0]\n",
    "pot_3 =  [ 0.0,  5.0, 0.0, -0.6,  1.0,  0.0, 0.0,  1.0, 0.2, 1.2]\n",
    "pot_4 =  [-2.5, -2.0,-2.0, -0.5,  1.0,  0.0, 0.4,  1.0, 0.0, 1.2]\n",
    "pot_5 =  [ 2.2, -2.0, 2.0, -0.8,  2.0,  0.0, 0.2,  2.0, 0.4, 0.8]\n",
    "pot_6 =  [ 3.0,  6.0, 3.0, -0.8,  2.0,  0.8, 0.0,  2.0, 0.2, 2.0]\n",
    "pot_7 =  [-4.5,  1.0, 2.0, -0.8,  2.0,  0.0, 0.1,  2.0, 0.0, 0.7]\n",
    "pot_8 =  [-3.0,  4.0, 1.0, -0.6,  1.0,  0.4, 0.0,  0.7, 0.0, 1.0]\n",
    "pot_9 =  [ 0.0, -4.0, 0.0, -0.8,  2.0,  0.2, 0.2,  2.0, 0.3, 2.0]\n",
    "pot_10 = [-2.0,  5.8,-3.0, -0.8,  1.0,  0.1, 0.0,  1.0, 0.0, 1.2]\n",
    "pot_11 = [-1.8,  0.8, 3.0, -0.5,  0.9,  0.0, 0.2,  2.0, 0.2, 1.5]\n",
    "pot_12 = [ 5.0, -0.3, 5.0, -0.8,  1.0,  0.4, 0.3,  1.0, 0.0, 1.2]\n",
    "pot_13 = [ 4.0, -4.0, 4.0, -0.8,  1.0,  0.0, 0.0,  1.0, 0.1, 0.7]\n",
    "pot_14 = [ 5.0, -2.5,-4.0, -0.6,  2.0,  0.0, 0.3,  1.0, 0.0, 0.8]\n",
    "pot_15 = [-3.0, -4.0,-4.0, -1.0,  0.8,  0.3, 0.0,  1.0, 0.3, 1.0]\n",
    "pot_16 = [-4.0,  3.0, 4.0, -0.7,  3.5,  0.0, 0.4,  3.5, 0.0, 1.2]\n",
    "pot_17 = [-5.0, -2.0, 6.0, -1.2,  1.5,  0.0, 0.0,  1.5, 0.2, 0.8]\n",
    "pot_18 = [-6.0, -1.8,-6.0, -0.8,  1.0,  0.2, 0.1,  0.8, 0.0, 1.0]\n",
    "pot_19 = [ 2.0, -5.0, 5.0, -1.0,  1.5,  0.0, 0.1,  1.5, 0.1, 1.5]\n",
    "pot_20 = [-6.0,  0.0, 2.0, -1.0,  1.5,  0.1, 0.0,  1.5, 0.0, 0.9]\n",
    "pot_21 = [-6.0,  6.0, 1.0, -1.2,  1.0,  0.5, 0.2,  0.9, 0.2, 0.9]\n",
    "pot_22 = [ 6.2,  2.0, 3.0, -1.2,  1.0,  0.0, 0.0,  1.0, 0.2, 1.0]\n",
    "pot_23 = [ 2.5,  0.5, 0.0, -1.0,  1.5,  0.0, 0.1,  1.5, 0.2, 1.5]\n",
    "pot_24 = [-4.0, -1.0, 3.0, -1.0,  1.2,  0.1, 0.0,  1.5, 0.2, 1.2]\n",
    "pot_25 = [-1.5, -2.0, 3.0, -0.9,  0.7,  0.5, 0.1,  0.9, 0.0, 0.9]\n",
    "pot_26 = [-4.2,  2.0,-3.0, -1.2,  1.2,  0.0, 0.3,  0.8, 0.1, 0.8]\n",
    "pot_27 = [ 4.0,  4.0, 3.0, -0.8,  0.8,  0.5, 0.0,  0.9, 0.0, 1.0]\n",
    "pot_28 = [ 4.2, -2.0,-3.0, -0.8,  1.0,  0.0, 0.4,  1.0, 0.2, 1.0]\n",
    "pot_29 = [-6.0, -1.8,-6.0, -0.8,  1.0,  0.2, 0.1,  0.8, 0.0, 1.0]\n",
    "pot_30 = [ 2.0, -5.0, 5.0, -1.0,  1.5,  0.0, 0.1,  1.5, 0.1, 1.5]\n",
    "pot_31 = [-6.0,  5.0, 2.0, -1.0,  0.8,  0.1, 0.0,  1.5, 0.0, 0.9]\n",
    "pot_32 = [ 6.0,  6.0, 1.0, -1.2,  0.8,  0.5, 0.2,  0.9, 0.2, 0.9]\n",
    "pot_33 = [ 0.2,  5.0, 5.0, -1.2,  1.0,  0.0, 0.0,  0.5, 0.6, 1.0]\n",
    "pot_34 = [-4.0,  2.0, 5.0, -1.2,  1.5,  0.0, 0.2,  1.0, 0.3, 1.5]\n",
    "pot_35 = [-3.0, -1.8,-2.0,  0.4,  1.0,  0.2, 0.1,  0.8, 0.0, 1.0]\n",
    "pot_36 = [ 2.0, -3.0, 4.0,  0.6,  1.5,  0.0, 0.1,  1.5, 0.1, 1.5]\n",
    "pot_37 = [ 3.0,  0.0, 1.0,  0.4,  0.8,  0.1, 0.0,  1.5, 0.0, 0.9]\n",
    "pot_38 = [ 2.0, -4.0,-1.0,  0.6,  0.8,  0.5, 0.2,  0.9, 0.2, 0.9]\n",
    "pot_39 = [ 0.2,  3.0, 3.0,  0.4,  1.0,  0.0, 0.0,  0.5, 0.6, 1.0]\n",
    "pot_40 = [-1.0,  2.0, 3.0,  0.6,  1.5,  0.0, 0.2,  1.0, 0.3, 1.5]\n",
    "\n",
    "\n",
    "embudo = [pot_0, pot_1, pot_2, pot_3, pot_4, pot_5, pot_6, pot_7, pot_8, pot_9, \n",
    "         pot_10, pot_11, pot_12, pot_13, pot_14, pot_15, pot_16, pot_17, pot_18,\n",
    "         pot_19, pot_20, pot_21, pot_22, pot_23, pot_24, pot_25, pot_26, pot_27,\n",
    "         pot_28, pot_29, pot_30, pot_31, pot_32, pot_33, pot_34, pot_35, pot_36,\n",
    "         pot_37, pot_38, pot_39, pot_40]\n",
    "\n",
    "check_positive_3D(embudo)\n",
    "effective_ks_3D(embudo)"
   ]
  },
  {
   "cell_type": "code",
   "execution_count": null,
   "metadata": {},
   "outputs": [],
   "source": [
    "plot_embudo_mayavi_3D(embudo)"
   ]
  },
  {
   "cell_type": "code",
   "execution_count": null,
   "metadata": {},
   "outputs": [],
   "source": []
  }
 ],
 "metadata": {
  "kernelspec": {
   "display_name": "Python 3",
   "language": "python",
   "name": "python3"
  },
  "language_info": {
   "codemirror_mode": {
    "name": "ipython",
    "version": 3
   },
   "file_extension": ".py",
   "mimetype": "text/x-python",
   "name": "python",
   "nbconvert_exporter": "python",
   "pygments_lexer": "ipython3",
   "version": "3.7.1"
  }
 },
 "nbformat": 4,
 "nbformat_minor": 2
}
