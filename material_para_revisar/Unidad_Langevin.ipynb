{
 "cells": [
  {
   "cell_type": "markdown",
   "metadata": {},
   "source": [
    "# Langevin\n",
    "\n",
    "## 1 Dimension\n",
    "\n",
    "$m \\frac{d^{2} x}{dt^{2}} = -m \\gamma \\frac{d x}{dt} - \\frac{\\delta U(x,t)}{\\delta x} + m \\xi(t)$\n",
    "\n",
    "Con:\n",
    "\n",
    "$<\\xi(t)> = 0$\n",
    "\n",
    "$<\\xi(t_{1})\\xi(t_{2}) > = 2D\\delta{(t_{1}-t_{2})}$\n",
    "\n",
    "Donde la función $\\delta$ es la función delta de kronecker que toma el valor $1$ cuando su argumento es cero, $\\delta{(0)}=1,$ y el valor cero en cualquier otro caso."
   ]
  },
  {
   "cell_type": "code",
   "execution_count": null,
   "metadata": {},
   "outputs": [],
   "source": []
  }
 ],
 "metadata": {
  "kernelspec": {
   "display_name": "Python 3",
   "language": "python",
   "name": "python3"
  },
  "language_info": {
   "codemirror_mode": {
    "name": "ipython",
    "version": 3
   },
   "file_extension": ".py",
   "mimetype": "text/x-python",
   "name": "python",
   "nbconvert_exporter": "python",
   "pygments_lexer": "ipython3",
   "version": "3.7.7"
  }
 },
 "nbformat": 4,
 "nbformat_minor": 4
}
