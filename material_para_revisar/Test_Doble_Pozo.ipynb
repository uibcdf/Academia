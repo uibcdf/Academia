{
 "cells": [
  {
   "cell_type": "code",
   "execution_count": 1,
   "metadata": {},
   "outputs": [],
   "source": [
    "import numpy as np\n",
    "import matplotlib.pyplot as plt\n",
    "import simtk.unit as unit\n",
    "\n",
    "kB = unit.BOLTZMANN_CONSTANT_kB* unit.AVOGADRO_CONSTANT_NA"
   ]
  },
  {
   "cell_type": "markdown",
   "metadata": {},
   "source": [
    "### Doble pozo unidimensional"
   ]
  },
  {
   "cell_type": "markdown",
   "metadata": {},
   "source": [
    "Definimos el potencial:"
   ]
  },
  {
   "cell_type": "code",
   "execution_count": 2,
   "metadata": {},
   "outputs": [],
   "source": [
    "def potential_energy (x):\n",
    "    \n",
    "    ''' V(x) = Eo(Cx^4-x^2)+mx '''\n",
    "    \n",
    "    Eo = 6.0 * unit.kilocalorie/(unit.mole * unit.nanometers**2)    # Factor de escala energía\n",
    "    C  = 0.5 * 1.0/unit.nanometers**2   # Factor de apertura de brazos\n",
    "    M  = -0.25 * unit.kilocalorie/(unit.mole * unit.nanometers) # Factor de asimetricidad\n",
    "\n",
    "    return Eo*(C*x**4-x**2)+M*x"
   ]
  },
  {
   "cell_type": "markdown",
   "metadata": {},
   "source": [
    "Definimos el peso de un punto, la función densidad de peso:"
   ]
  },
  {
   "cell_type": "code",
   "execution_count": 3,
   "metadata": {},
   "outputs": [],
   "source": [
    "def densidad (U, temperature, x):\n",
    "    return np.exp(-U(x)/(kB * temperature))"
   ]
  },
  {
   "cell_type": "markdown",
   "metadata": {},
   "source": [
    "Definimos antes del peso de una región, el método de integración numérica:"
   ]
  },
  {
   "cell_type": "code",
   "execution_count": 4,
   "metadata": {},
   "outputs": [],
   "source": [
    "def integral (function, limite_inferior, limite_superior, num_bins):\n",
    "    \n",
    "    ''' Integral numérica de cualquier función entre los limites inferior y superior'''\n",
    "    \n",
    "    x_series = np.linspace(limite_inferior, limite_superior, num_bins+1, endpoint=True)\n",
    "    delta_x = x_series[1]-x_series[0]\n",
    "    \n",
    "    area = 0.0\n",
    "    for x in x_series[:-1]:\n",
    "        y = function(x*unit.nanometers)\n",
    "        area_rectangulo = y*delta_x\n",
    "        area = area + area_rectangulo\n",
    "    \n",
    "    return area"
   ]
  },
  {
   "cell_type": "markdown",
   "metadata": {},
   "source": [
    "Definimos el peso de una región:"
   ]
  },
  {
   "cell_type": "code",
   "execution_count": 13,
   "metadata": {},
   "outputs": [],
   "source": [
    "def peso (U, temperature, limite_inferior, limite_superior, num_bins):\n",
    "    \n",
    "    x_series = np.linspace(limite_inferior, limite_superior, num_bins+1, endpoint=True)\n",
    "    delta_x = x_series[1]-x_series[0]\n",
    "    \n",
    "    area = 0.0\n",
    "    for x in x_series[:-1]:\n",
    "        y = np.exp(-U(x * unit.nanometers)/(kB * temperature))\n",
    "        area_rectangulo = y*delta_x\n",
    "        area = area + area_rectangulo\n",
    "    \n",
    "    return area"
   ]
  },
  {
   "cell_type": "markdown",
   "metadata": {},
   "source": [
    "Veamos primero el potencial en la región (-2.0, 2.0)"
   ]
  },
  {
   "cell_type": "code",
   "execution_count": 6,
   "metadata": {},
   "outputs": [],
   "source": [
    "x_series = np.linspace(-2.0, 2.0, 100, endpoint=True) * unit.nanometers"
   ]
  },
  {
   "cell_type": "code",
   "execution_count": 7,
   "metadata": {},
   "outputs": [],
   "source": [
    "potential_series = potential_energy(x_series)"
   ]
  },
  {
   "cell_type": "code",
   "execution_count": 8,
   "metadata": {},
   "outputs": [
    {
     "data": {
      "image/png": "[encoded data removed]",
      "text/plain": [
       "<Figure size 432x288 with 1 Axes>"
      ]
     },
     "metadata": {
      "needs_background": "light"
     },
     "output_type": "display_data"
    }
   ],
   "source": [
    "plt.plot(x_series, potential_series)\n",
    "plt.xlabel(x_series.unit)\n",
    "plt.ylabel(potential_series.unit)\n",
    "plt.show()"
   ]
  },
  {
   "cell_type": "code",
   "execution_count": 10,
   "metadata": {},
   "outputs": [],
   "source": [
    "densidad_series = densidad(potential_energy, 300*unit.kelvin, x_series)"
   ]
  },
  {
   "cell_type": "code",
   "execution_count": 11,
   "metadata": {},
   "outputs": [
    {
     "data": {
      "image/png": "[encoded data removed]",
      "text/plain": [
       "<Figure size 432x288 with 1 Axes>"
      ]
     },
     "metadata": {
      "needs_background": "light"
     },
     "output_type": "display_data"
    }
   ],
   "source": [
    "plt.plot(x_series, densidad_series)\n",
    "plt.xlabel(x_series.unit)\n",
    "plt.show()"
   ]
  },
  {
   "cell_type": "code",
   "execution_count": 32,
   "metadata": {},
   "outputs": [],
   "source": [
    "Peso_Off = peso (potential_energy, 100*unit.kelvin, 0, 5.0, 5000 )\n",
    "Peso_On = peso (potential_energy, 100*unit.kelvin, -5.0, 0.0, 5000 )\n",
    "Peso_Total = peso (potential_energy, 100*unit.kelvin, -5.0, 5.0, 10000 )"
   ]
  },
  {
   "cell_type": "code",
   "execution_count": 33,
   "metadata": {},
   "outputs": [
    {
     "name": "stdout",
     "output_type": "stream",
     "text": [
      "Peso_Off: 2899971.559243961\n",
      "Peso_On: 242257.41506120548\n",
      "Peso_Total: 3142228.9743061326\n"
     ]
    }
   ],
   "source": [
    "print(\"Peso_Off:\", Peso_Off)\n",
    "print(\"Peso_On:\", Peso_On)\n",
    "print(\"Peso_Total:\", Peso_Total)"
   ]
  },
  {
   "cell_type": "code",
   "execution_count": 34,
   "metadata": {},
   "outputs": [],
   "source": [
    "Probabilidad_Off = Peso_Off/Peso_Total\n",
    "Probabilidad_On = Peso_On/Peso_Total"
   ]
  },
  {
   "cell_type": "code",
   "execution_count": 35,
   "metadata": {},
   "outputs": [
    {
     "name": "stdout",
     "output_type": "stream",
     "text": [
      "Probabilidad_Off: 0.9229026856275911\n",
      "Probabilidad_On: 0.07709731437210135\n"
     ]
    }
   ],
   "source": [
    "print(\"Probabilidad_Off:\", Probabilidad_Off)\n",
    "print(\"Probabilidad_On:\", Probabilidad_On)"
   ]
  },
  {
   "cell_type": "markdown",
   "metadata": {},
   "source": [
    "$K_a = \\frac{P_{on}}{P_{off}}$"
   ]
  },
  {
   "cell_type": "code",
   "execution_count": 36,
   "metadata": {},
   "outputs": [],
   "source": [
    "Ka = Probabilidad_On / Probabilidad_Off"
   ]
  },
  {
   "cell_type": "code",
   "execution_count": 37,
   "metadata": {},
   "outputs": [
    {
     "name": "stdout",
     "output_type": "stream",
     "text": [
      "Ka: 0.08353785894519716\n"
     ]
    }
   ],
   "source": [
    "print(\"Ka:\", Ka)"
   ]
  },
  {
   "cell_type": "code",
   "execution_count": null,
   "metadata": {},
   "outputs": [],
   "source": []
  }
 ],
 "metadata": {
  "kernelspec": {
   "display_name": "Python 3",
   "language": "python",
   "name": "python3"
  },
  "language_info": {
   "codemirror_mode": {
    "name": "ipython",
    "version": 3
   },
   "file_extension": ".py",
   "mimetype": "text/x-python",
   "name": "python",
   "nbconvert_exporter": "python",
   "pygments_lexer": "ipython3",
   "version": "3.7.4"
  }
 },
 "nbformat": 4,
 "nbformat_minor": 4
}
