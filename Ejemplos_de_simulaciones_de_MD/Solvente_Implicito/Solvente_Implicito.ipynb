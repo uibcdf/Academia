{
 "cells": [
  {
   "cell_type": "markdown",
   "metadata": {},
   "source": [
    "# Solvente Implicito"
   ]
  },
  {
   "cell_type": "markdown",
   "metadata": {},
   "source": [
    "## Gromacs\n",
    "\n",
    "- pdb2gmx with water model equal to none.\n",
    "\n",
    "- after editconf go to energy minimization\n",
    "\n",
    "- NVT (V?)\n",
    "\n",
    "- No PBC, cutoffs all set to zero (this is equal to cutoffs infinite).\n",
    "- tcouple is ignored with sd integrator.\n",
    "- Position restrain makes no sense.\n",
    "- gen_vel equal to yes after energy minimization\n"
   ]
  },
  {
   "cell_type": "markdown",
   "metadata": {},
   "source": [
    "From\n",
    "\n",
    "```\n",
    "constraints         =  all-bonds\n",
    "integrator          =  md\n",
    "dt                  =  0.002    ; ps ! \n",
    "nsteps              =  -1\n",
    "nstlist             =  0  \n",
    "ns_type             =  grid\n",
    "rlist               =  0 \n",
    "coulombtype         =  cut-off\n",
    "vdwtype             =  cut-off\n",
    "rcoulomb            =  0 \n",
    "rvdw                =  0 \n",
    "pbc                 =  no\n",
    "epsilon_rf\t    =  0\n",
    "rgbradii            =  0\n",
    "comm_mode           = angular\n",
    "\n",
    "implicit_solvent    = GBSA\n",
    "gb_algorithm        = OBC\n",
    "gb_epsilon_solvent  = 78.3\n",
    "sa_surface_tension  = 2.25936\n",
    "\n",
    "nstxout             = 0\n",
    "nstfout             = 0\n",
    "nstvout             = 0\n",
    "nstxtcout           = 0\n",
    "nstlog              = 0\n",
    "nstcalcenergy       = -1\n",
    "nstenergy           = 0\n",
    "\n",
    "tcoupl              = berendsen\n",
    "tc-grps             = system\n",
    "tau-t               = 0.1\n",
    "ref-t               = 300\n",
    "```"
   ]
  },
  {
   "cell_type": "markdown",
   "metadata": {},
   "source": [
    "Más material:\n",
    "http://www.strodel.info/index_files/lecture/\n",
    "http://www.strodel.info/index_files/lecture/diala_implicit.pdf\n",
    "http://manual.gromacs.org/2019.1/download.html\n",
    "http://manual.gromacs.org/current/manual-2019.1.pdf"
   ]
  },
  {
   "cell_type": "code",
   "execution_count": null,
   "metadata": {},
   "outputs": [],
   "source": []
  }
 ],
 "metadata": {
  "kernelspec": {
   "display_name": "Python 3",
   "language": "python",
   "name": "python3"
  },
  "language_info": {
   "codemirror_mode": {
    "name": "ipython",
    "version": 3
   },
   "file_extension": ".py",
   "mimetype": "text/x-python",
   "name": "python",
   "nbconvert_exporter": "python",
   "pygments_lexer": "ipython3",
   "version": "3.7.1"
  }
 },
 "nbformat": 4,
 "nbformat_minor": 2
}
