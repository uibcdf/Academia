{
 "cells": [
  {
   "cell_type": "markdown",
   "metadata": {},
   "source": [
    "# Descripción del sistema"
   ]
  },
  {
   "cell_type": "markdown",
   "metadata": {},
   "source": [
    "El sistema viene descrito, en ausencia de fuerzas como la gravedad o fuerzas electrostácicas, por la masa $m_{i}$ de cada una de las partículas que lo componen. Por simplicidad, comenzaremos definiendo un sistema de una única partícula. Así que los subíndices que identifican a cada partícula son innecesarios ahora, el sistema viene determinado por $m_{1} \\equiv m$."
   ]
  },
  {
   "cell_type": "markdown",
   "metadata": {},
   "source": [
    "Supongamos ahora que para este caso sencillo el sistema se encuentra en un espacio unidimensional. A este "
   ]
  },
  {
   "cell_type": "code",
   "execution_count": null,
   "metadata": {},
   "outputs": [],
   "source": [
    "Fuentes:\n",
    "    \n",
    "    http://ccordoba12.github.io/modelacion/Texto/Sistemas%20Dinamicos/Ecuaciones%20de%20mvto.html    \n",
    "    http://ccordoba12.github.io/modelacion/index.html\n",
    "    https://www.cec.uchile.cl/cinetica/pcordero/todos/MetNum2013.pdf\n",
    "    https://www.cec.uchile.cl/cinetica/pcordero/todos/MetNum2013.pdf\n",
    "    http://codeflow.org/entries/2010/aug/28/integration-by-example-euler-vs-verlet-vs-runge-kutta/\n",
    "    https://embnet.vital-it.ch/MD_tutorial/pages/MD.Part1.html\n",
    "            "
   ]
  }
 ],
 "metadata": {
  "kernelspec": {
   "display_name": "Python 3",
   "language": "python",
   "name": "python3"
  },
  "language_info": {
   "codemirror_mode": {
    "name": "ipython",
    "version": 3
   },
   "file_extension": ".py",
   "mimetype": "text/x-python",
   "name": "python",
   "nbconvert_exporter": "python",
   "pygments_lexer": "ipython3",
   "version": "3.7.3"
  }
 },
 "nbformat": 4,
 "nbformat_minor": 2
}
