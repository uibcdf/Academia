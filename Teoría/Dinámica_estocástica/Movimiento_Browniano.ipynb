{
 "cells": [
  {
   "cell_type": "markdown",
   "metadata": {},
   "source": [
    "# Movimiento Browniano y dinámica estocástica"
   ]
  },
  {
   "cell_type": "markdown",
   "metadata": {},
   "source": [
    "## Dinámica de Langevin"
   ]
  },
  {
   "cell_type": "code",
   "execution_count": 3,
   "metadata": {},
   "outputs": [
    {
     "ename": "ModuleNotFoundError",
     "evalue": "No module named 'matplotlib'",
     "output_type": "error",
     "traceback": [
      "\u001b[0;31m---------------------------------------------------------------------------\u001b[0m",
      "\u001b[0;31mModuleNotFoundError\u001b[0m                       Traceback (most recent call last)",
      "\u001b[0;32m<ipython-input-3-975456476dec>\u001b[0m in \u001b[0;36m<module>\u001b[0;34m\u001b[0m\n\u001b[1;32m      3\u001b[0m \u001b[0;32mimport\u001b[0m \u001b[0mnumpy\u001b[0m \u001b[0;32mas\u001b[0m \u001b[0mnp\u001b[0m\u001b[0;34m\u001b[0m\u001b[0;34m\u001b[0m\u001b[0m\n\u001b[1;32m      4\u001b[0m \u001b[0;32mfrom\u001b[0m \u001b[0mtqdm\u001b[0m \u001b[0;32mimport\u001b[0m \u001b[0mtqdm\u001b[0m\u001b[0;34m\u001b[0m\u001b[0;34m\u001b[0m\u001b[0m\n\u001b[0;32m----> 5\u001b[0;31m \u001b[0;32mimport\u001b[0m \u001b[0mmatplotlib\u001b[0m\u001b[0;34m.\u001b[0m\u001b[0mpyplot\u001b[0m \u001b[0;32mas\u001b[0m \u001b[0mplt\u001b[0m\u001b[0;34m\u001b[0m\u001b[0;34m\u001b[0m\u001b[0m\n\u001b[0m\u001b[1;32m      6\u001b[0m \u001b[0;32mimport\u001b[0m \u001b[0msimtk\u001b[0m\u001b[0;34m.\u001b[0m\u001b[0mopenmm\u001b[0m \u001b[0;32mas\u001b[0m \u001b[0mmm\u001b[0m\u001b[0;34m\u001b[0m\u001b[0;34m\u001b[0m\u001b[0m\n\u001b[1;32m      7\u001b[0m \u001b[0;32mimport\u001b[0m \u001b[0msimtk\u001b[0m\u001b[0;34m.\u001b[0m\u001b[0munit\u001b[0m \u001b[0;32mas\u001b[0m \u001b[0munit\u001b[0m\u001b[0;34m\u001b[0m\u001b[0;34m\u001b[0m\u001b[0m\n",
      "\u001b[0;31mModuleNotFoundError\u001b[0m: No module named 'matplotlib'"
     ]
    }
   ],
   "source": [
    "# Simulación de una partícula libre con dinámica de Langevin\n",
    "\n",
    "import numpy as np\n",
    "from tqdm import tqdm\n",
    "import matplotlib.pyplot as plt\n",
    "import simtk.openmm as mm\n",
    "import simtk.unit as unit\n",
    "import simtk.openmm.app as app\n",
    "\n",
    "\n",
    "mass = 180.15 * unit.amu # masa de la glucosa\n",
    "initial_positions  = [[0.0, 0.0, 0.0]] * unit.angstroms\n",
    "initial_velocities = [[0.0, 0.0, 0.0]] * unit.angstroms/unit.picoseconds\n",
    "\n",
    "system = mm.System()\n",
    "system.addParticle(mass)\n",
    "\n",
    "step_size = 0.01*unit.picoseconds\n",
    "temperature = 300*unit.kelvin\n",
    "friction = 5.0/unit.picosecond\n",
    "integrator = mm.LangevinIntegrator(temperature, friction, step_size)\n",
    "\n",
    "platform_name = 'GPU'\n",
    "platform = mm.Platform.getPlatformByName(platform_name)\n",
    "\n",
    "context = mm.Context(system, integrator, platform)\n",
    "context.setPositions(initial_positions)\n",
    "context.setVelocities(initial_velocities)\n",
    "\n",
    "steps_per_period = 100\n",
    "num_periods = 10000\n",
    "\n",
    "times = np.zeros([num_periods], np.float32) * unit.picoseconds\n",
    "positions = np.zeros([num_periods,3], np.float32) * unit.angstroms\n",
    "velocities = np.zeros([num_periods,3], np.float32) * unit.angstroms/unit.picosecond\n",
    "\n",
    "state = context.getState(getPositions=True, getVelocities=True)\n",
    "times[0] = state.getTime()\n",
    "positions[0] = state.getPositions()[0]\n",
    "velocities[0] = state.getVelocities()[0]\n",
    "\n",
    "for ii in tqdm(range(num_periods)):\n",
    "    context.getIntegrator().step(steps_per_period)\n",
    "    state = context.getState(getPositions=True, getVelocities=True)\n",
    "    times[ii] = state.getTime()\n",
    "    positions[ii] = state.getPositions()[0]\n",
    "    velocities[ii] = state.getVelocities()[0]\n"
   ]
  },
  {
   "cell_type": "code",
   "execution_count": null,
   "metadata": {},
   "outputs": [],
   "source": []
  },
  {
   "cell_type": "code",
   "execution_count": null,
   "metadata": {},
   "outputs": [],
   "source": [
    "#kB = unit.BOLTZMANN_CONSTANT_kB * unit.AVOGADRO_CONSTANT_NA"
   ]
  },
  {
   "cell_type": "markdown",
   "metadata": {},
   "source": [
    "#kB = unit.BOLTZMANN_CONSTANT_kB * unit.AVOGADRO_CONSTANT_NA"
   ]
  }
 ],
 "metadata": {
  "kernelspec": {
   "display_name": "Python 3",
   "language": "python",
   "name": "python3"
  },
  "language_info": {
   "codemirror_mode": {
    "name": "ipython",
    "version": 3
   },
   "file_extension": ".py",
   "mimetype": "text/x-python",
   "name": "python",
   "nbconvert_exporter": "python",
   "pygments_lexer": "ipython3",
   "version": "3.7.3"
  }
 },
 "nbformat": 4,
 "nbformat_minor": 2
}
