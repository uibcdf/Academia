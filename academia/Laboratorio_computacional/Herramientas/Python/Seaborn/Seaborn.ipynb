{
 "cells": [
  {
   "cell_type": "markdown",
   "metadata": {},
   "source": [
    "<p style=\"text-align:left;\">\n",
    "   <a href=\"../README.md\">Ir al menú anterior</a>\n",
    "   <span style=\"float:right;\">\n",
    "        <a href=\"../Scikit-image/Scikit-image.ipynb\">Ir a la unidad anterior</a>\n",
    "   </span>\n",
    "</p>\n",
    "\n",
    "---\n",
    "\n",
    "# Representación gráfica de datos con Seaborn\n",
    "\n",
    "<div class=\"alert alert-info\" role=\"alert\">\n",
    "<strong>Info:</strong> Si crees que este notebook necesita algún cambio no dudes en <a href=\"../../../../UIBCDF-Academia/Como_contribuir/Como_contribuir.md\" class=\"alert-link\">contribuir a su desarrollo</a>.\n",
    "</div>\n",
    "\n",
    "<div class=\"alert alert-danger\" role=\"alert\">\n",
    "<strong>En desarrollo:</strong> 0%.\n",
    "</div>\n",
    "\n",
    "<br>\n",
    "\n",
    "\n",
    "- [Dudas, problemas técnicos y soluciones](#dudas)\n",
    "- [Más recursos útiles](#recursos)\n",
    "    - [Documentación](#documentacion)\n",
    "    - [Tutoriales, Webinars y cursos gratuitos](#tutoriales)"
   ]
  },
  {
   "cell_type": "markdown",
   "metadata": {},
   "source": [
    "---\n",
    "\n",
    "## Dudas, problemas técnicos y soluciones. <a class=\"anchor\" id=\"dudas\"></a>\n",
    "\n",
    "Para centralizar esas dudas técnicas sobre el tema de este notebook o proponer soluciones o sugerencias más técnicas que queremos encontrar en el futuro comentadas y visibles para todos, haz uso del siguiente canal:\n",
    "\n",
    "[Foro Técnico: Seaborn](https://github.com/uibcdf/Academia/issues/25)\n",
    "\n",
    "## Más recursos útiles <a class=\"anchor\" id=\"recursos\"></a>\n",
    "\n",
    "El propósito de este notebook es ser un documento únicamente introductorio. Puedes encontrar -o contribuir añadiendo- más información útil en el siguiente listado:\n",
    "\n",
    "### Documentación <a class=\"anchor\" id=\"documentacion\"></a>\n",
    "\n",
    "\n",
    "### Tutoriales, Webinars y cursos gratuitos <a class=\"anchor\" id=\"tutoriales\"></a>\n",
    "\n"
   ]
  },
  {
   "cell_type": "markdown",
   "metadata": {},
   "source": [
    "<br />\n",
    "\n",
    "<div style='text-align: right;'> <a href=\"../Bokeh/Bokeh.ipynb\">Ir a la siguiente unidad</a> </div>\n",
    "\n",
    "-------\n",
    "<p xmlns:cc=\"http://creativecommons.org/ns#\" xmlns:dct=\"http://purl.org/dc/terms/\"><a property=\"dct:title\" rel=\"cc:attributionURL\" href=\"https://github.com/uibcdf/Academia\">UIBCDF-Academia</a> por <a rel=\"cc:attributionURL dct:creator\" property=\"cc:attributionName\" href=\"https://github.com/uibcdf/Academia/graphs/contributors\">UIBCDF Lab, autores y colaboradores</a> es material protegido bajo una licencia <a href=\"http://creativecommons.org/licenses/by-nc-sa/4.0/deed.es?ref=chooser-v1\" target=\"_blank\" rel=\"license noopener noreferrer\" style=\"display:inline-block;\">Attribution-NonCommercial-ShareAlike 4.0 International<img style=\"height:22px!important;margin-left:3px;vertical-align:text-bottom;\" src=\"https://mirrors.creativecommons.org/presskit/icons/cc.svg?ref=chooser-v1\"><img style=\"height:22px!important;margin-left:3px;vertical-align:text-bottom;\" src=\"https://mirrors.creativecommons.org/presskit/icons/by.svg?ref=chooser-v1\"><img style=\"height:22px!important;margin-left:3px;vertical-align:text-bottom;\" src=\"https://mirrors.creativecommons.org/presskit/icons/nc.svg?ref=chooser-v1\"><img style=\"height:22px!important;margin-left:3px;vertical-align:text-bottom;\" src=\"https://mirrors.creativecommons.org/presskit/icons/sa.svg?ref=chooser-v1\"></a></p>"
   ]
  }
 ],
 "metadata": {
  "kernelspec": {
   "display_name": "Python 3",
   "language": "python",
   "name": "python3"
  },
  "language_info": {
   "codemirror_mode": {
    "name": "ipython",
    "version": 3
   },
   "file_extension": ".py",
   "mimetype": "text/x-python",
   "name": "python",
   "nbconvert_exporter": "python",
   "pygments_lexer": "ipython3",
   "version": "3.7.10"
  },
  "latex_envs": {
   "LaTeX_envs_menu_present": true,
   "autoclose": false,
   "autocomplete": true,
   "bibliofile": "biblio.bib",
   "cite_by": "apalike",
   "current_citInitial": 1,
   "eqLabelWithNumbers": true,
   "eqNumInitial": 1,
   "hotkeys": {
    "equation": "Ctrl-E",
    "itemize": "Ctrl-I"
   },
   "labels_anchors": false,
   "latex_user_defs": false,
   "report_style_numbering": false,
   "user_envs_cfg": false
  }
 },
 "nbformat": 4,
 "nbformat_minor": 4
}
