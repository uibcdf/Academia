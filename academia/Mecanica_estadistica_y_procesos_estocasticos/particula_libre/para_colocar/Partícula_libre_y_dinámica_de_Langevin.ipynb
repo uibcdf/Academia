{
 "cells": [
  {
   "cell_type": "code",
   "execution_count": 3,
   "metadata": {},
   "outputs": [],
   "source": [
    "import simtk.unit as unit"
   ]
  },
  {
   "cell_type": "markdown",
   "metadata": {},
   "source": [
    "# La partícula libre, el movimiento browniano y la dinámica de Langevin"
   ]
  },
  {
   "cell_type": "markdown",
   "metadata": {},
   "source": [
    "Objetivos:\n",
    "- descripción de una particula libre\n",
    "- descripción del integrador más sencillo\n",
    "- descripción de la fricción y el tiempo de decaimiento.\n",
    "- descripción de la ecuación de langevin\n",
    "- describir a qué nos referimos con movimiento browniano\n",
    "- hacer a mano una dinámica con integrador, a mano.\n",
    "- hacerlo con openmm\n",
    "- hacerlo con uibcf_testsystems\n",
    "- hablar de la relación fluctuación disipación en la siguiente unidad"
   ]
  },
  {
   "cell_type": "markdown",
   "metadata": {},
   "source": [
    "El sistema molecular más sencillo es el que se compone por una única partícula. La partícula libre y aislada se describe únicamente por su masa. Definamos por ejemplo una partícula puntual (sin volumen) con la misma masa que la molécula de glucosa:"
   ]
  },
  {
   "cell_type": "code",
   "execution_count": 6,
   "metadata": {},
   "outputs": [],
   "source": [
    "mass = 180.15 * unit.amu # masa de la glucosa"
   ]
  },
  {
   "cell_type": "markdown",
   "metadata": {},
   "source": [
    "Observa que la masa ha sido definida con sus unidades. Esto es algo que vamos a hacer con todas las magnitudes físicas. Nuestras variables tendrán valor y unidades. Para esto usamos la librería 'unit' que encontramos en el paquete 'simtk', puedes encontrar más información en la unidad del glosario de librerías ()."
   ]
  },
  {
   "cell_type": "code",
   "execution_count": 7,
   "metadata": {},
   "outputs": [
    {
     "name": "stdout",
     "output_type": "stream",
     "text": [
      "180.15 Da\n"
     ]
    }
   ],
   "source": [
    "print(mass)"
   ]
  },
  {
   "cell_type": "markdown",
   "metadata": {},
   "source": [
    "El estado de la partícula viene dado por su posición $\\vec{r}$ y su velocidad $\\vec{v}$. Conocida la masa, la posición y su velocidad, no hay nada más que debamos averiguar para describir totalmente a este sistema. Sólo que la masa no cambia, es una propiedad del sistema, pero la posición y la velocidad si cambian -por eso hablamos del estado de la partícula o del sistema-. Ahora, conocido el estado del sistema en un instante inicial que llamaremos $t_{0}$, ¿Podemos predecir su estado en cualquier tiempo posterior $t$? La respuesta la encontramos en las ecuaciones dinámicas del movimiento clásico:\n",
    "\n",
    "\\begin{equation}\n",
    "\\frac{d\\vec{v}}{dt} = \\frac{\\vec{F}}{m}\n",
    "\\end{equation}\n",
    "\n",
    "\\begin{equation}\n",
    "\\frac{d\\vec{r}}{dt} = \\vec{v}\n",
    "\\end{equation}\n",
    "\n",
    "Donde $\\vec{F}$ es la fuerza externa y $m$ es la masa del sistema. Estas dos ecuaciones diferenciales de primer orden están acopladas, así que podemos reescribirlas como una única ecuación dinámica:\n",
    "\n",
    "\\begin{equation}\n",
    "\\frac{d^{2}\\vec{r}}{dt^{2}} = \\frac{\\vec{F}}{m}\n",
    "\\end{equation}\n",
    "\n",
    "Si revisas algún otro texto te darás cuenta de que usamos muchas veces otras letras para la posición, por ejemplo $\\vec{q}$ o $\\vec{x}$. Es únicamente un formalismo, cualquiera es válida siempre que fijemos la notación explícitamente antes de comenzar cualquier discusión. Así en el caso de la posición de un sistema molecular de $n$ partículas, en tres dimensiones, diremos aquí que\n",
    "\n",
    "\\begin{equation}\n",
    "\\vec{r}=(x_{1}, y_{1}, z_{1}, x_{2}, y_{2}, z_{2}, ..., x_{n}, y_{n}, z_{n})\n",
    "=x_{1}\\hat{x}+y_{1}\\hat{y}+z_{1}\\hat{z}+x_{2}\\hat{x}+y_{2}\\hat{y}+z_{2}\\hat{z}+...+x_{n}\\hat{x}+y_{n}\\hat{y}+z_{n}\\hat{z}\n",
    "\\end{equation}\n",
    "\n",
    "y\n",
    "\n",
    "\\begin{equation}\n",
    "\\vec{v}=(v_{x1}, v_{y1}, v_{z1}, v_{x2}, v_{y2}, v_{z2}, ..., v_{xn}, v_{yn}, v_{zn})\n",
    "=v_{x1}\\hat{x}+v_{y1}\\hat{y}+v_{z1}\\hat{z}+v_{x2}\\hat{x}+v_{y2}\\hat{y}+v_{z2}\\hat{z}+...+v_{xn}\\hat{x}+v_{yn}\\hat{y}+v_{zn}\\hat{z}\n",
    "\\end{equation}\n",
    "\n",
    "En el caso de una única partícula prescindiremos del subindice:\n",
    "\n",
    "\\begin{equation}\n",
    "\\vec{r}=(x,y,z)=x\\hat{x}+y\\hat{y}+z\\hat{z}\n",
    "\\end{equation}\n",
    "\n",
    "y\n",
    "\n",
    "\\begin{equation}\n",
    "\\vec{v}=(v_{x},v_{y},v_{z})=v_{x}\\hat{x}+v_{y}\\hat{y}+v_{z}\\hat{z}\n",
    "\\end{equation}\n",
    "\n",
    "Por último, en ocasiones nos referimos únicamente a la coordenada $x$ para escribir una expresión a sabiendas de que "
   ]
  },
  {
   "cell_type": "markdown",
   "metadata": {},
   "source": [
    "De la física clásica newtoniana conocemos que en ausencia de fuerzas externas la partícula se mantiene a velocidad constante.\n",
    "\n",
    "\n",
    "Y en caso de que la partícula sufriera el efecto de una fuerza externa, está provoca una aceleración inversamente proporcional a su masa:\n",
    "\n",
    "\\begin{equation}\n",
    "F=ma\n",
    "\\end{equation}\n",
    "\n",
    "Donde $F$ es la fuerza, $m$ es la masa, y $a$ es la aceleración."
   ]
  },
  {
   "cell_type": "markdown",
   "metadata": {},
   "source": [
    "Todos tenemos la intuición de lo que significa movimiento Browniano. Fue el botánico escoces Robert Brown quien le da nombre a este fenómeno al describir por primera vez de una manera científica el movimiento aleatorio que se observa en un partícula suspendida en un fluido: un grano de polen flotando en la superficie de un estanque, por ejemplo. Ahora, sabemos que debemos añadir el argumento \"cuando la partícula tiene un tamaño sensiblemente mayor que las partículas que componen el fluido\". "
   ]
  },
  {
   "cell_type": "markdown",
   "metadata": {},
   "source": [
    "Nota: ver que lo mismo que ocurre para x, ocurre para y y z"
   ]
  },
  {
   "cell_type": "code",
   "execution_count": null,
   "metadata": {},
   "outputs": [],
   "source": []
  }
 ],
 "metadata": {
  "kernelspec": {
   "display_name": "Python 3",
   "language": "python",
   "name": "python3"
  },
  "language_info": {
   "codemirror_mode": {
    "name": "ipython",
    "version": 3
   },
   "file_extension": ".py",
   "mimetype": "text/x-python",
   "name": "python",
   "nbconvert_exporter": "python",
   "pygments_lexer": "ipython3",
   "version": "3.7.10"
  }
 },
 "nbformat": 4,
 "nbformat_minor": 4
}
