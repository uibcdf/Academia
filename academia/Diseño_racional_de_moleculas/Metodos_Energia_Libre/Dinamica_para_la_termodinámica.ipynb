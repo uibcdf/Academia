{
 "cells": [
  {
   "cell_type": "markdown",
   "id": "2737248d-3513-4523-892d-a05b9c9fbe6f",
   "metadata": {},
   "source": [
    "# ¿Necesitamos un experimento de dinámica molecular para predecir la energía libre de unión?"
   ]
  },
  {
   "cell_type": "markdown",
   "id": "c376a180-8486-4fdc-a684-8d5caa240328",
   "metadata": {},
   "source": [
    "¿Necesitamos realizar experimentos de dinámica molecular para estimar magnitudes termodinámicas? Y cuando decimos dinámica molecular nos referemos a la dinámica molecular fuerza bruta. ¿Tenemos que observar cómo se comporta el sistema durante X tiempo para calcular la probabilidad de que algo suceda? No parece muy buena idea. Imagina que en nuestro doble pozo asimétrico la barrera de potencial, la masa de la partícula y el amortiguamiento del medio son tales que el tiempo de vida promedio del estado disociado es del orden de los milisegundos. ¿Tenemos que simular una dinámica de aproximadamente un segundo para tener buena estadística a la hora de calcular la probabilidad de encontrar el sistema en el pozo \"asociado\"? No tiene mucho sentido, y para casi la gran mayoría de sistemas moleculares de interés, esta simulación resulta inaccesible. Pero deja que te recuerde algo que probablemente aprendiste en las unidades anteriores: **la cinética no determina la termodinámica y la termodinámica no determina la cinética**. No necesitamos observar la cinética, no necesitamos observar procesos donde el tiempo tiene sentido, para predecir observables termodinámicos. Es una muy mala práctica pensar que para resolver cualquier pregunta sobre tu sistema lo mejor es hacer una dinámica fuerza bruta. En general, no sólamente cuando hablamos de sistemas que se asocian y disocian, una dinámica fuerza bruta sirve para más bien poco (si no es mucho más larga que los tiempos característicos de los procesos que queremos estudiar)."
   ]
  },
  {
   "cell_type": "markdown",
   "id": "ca4b5223-8d82-4efe-a73d-f23875fbaac9",
   "metadata": {},
   "source": [
    "Tras más de 30 años desarrollando metodologías físico-matemáticas bien fundamentadas para caracterizar la termodinámica de sistemas moleculares en el campo de la física de la materia blanda (\"soft-matter\"), hoy existen una infinidad de métodos, y combinaciones de métodos, para poder abordar la caracterización o predicción de la termodinámica de estos sistemas sin necesidad de integrar las ecuaciones dinámicas durante un tiempo largo. Cada método o abordaje tiene sus matices y puede resultar más apropiado para un sistema u otro, o para resolver una pregunta u otra. Veremos en esta sección alguno de los métodos más populares bien por eficaces o bien por su trascendencia histórica. A continuación se citan alguno de estos métodos. Verás que los encontrarás en la literatura como métodos de predicción de la energía libre o de sampleado del paisaje de energía libre."
   ]
  },
  {
   "cell_type": "markdown",
   "id": "7f8a3b61-af43-4034-a10c-dbac217967ea",
   "metadata": {},
   "source": [
    "- Monte Carlo\n",
    "- Umbrella Sampling\n",
    "- ...\n",
    "- Alchemistry"
   ]
  },
  {
   "cell_type": "code",
   "execution_count": null,
   "id": "cf2f04cc-186e-4034-924a-ebd57238bfe8",
   "metadata": {},
   "outputs": [],
   "source": []
  }
 ],
 "metadata": {
  "kernelspec": {
   "display_name": "Python 3",
   "language": "python",
   "name": "python3"
  },
  "language_info": {
   "codemirror_mode": {
    "name": "ipython",
    "version": 3
   },
   "file_extension": ".py",
   "mimetype": "text/x-python",
   "name": "python",
   "nbconvert_exporter": "python",
   "pygments_lexer": "ipython3",
   "version": "3.7.10"
  }
 },
 "nbformat": 4,
 "nbformat_minor": 5
}
