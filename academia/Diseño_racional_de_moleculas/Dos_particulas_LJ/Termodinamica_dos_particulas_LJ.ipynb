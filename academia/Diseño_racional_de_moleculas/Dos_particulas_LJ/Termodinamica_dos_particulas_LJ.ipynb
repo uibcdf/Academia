{
 "cells": [
  {
   "cell_type": "code",
   "execution_count": 1,
   "id": "d6beb0b8-0eb4-440e-8c9a-1756dd4f3a4a",
   "metadata": {},
   "outputs": [
    {
     "data": {
      "application/vnd.jupyter.widget-view+json": {
       "model_id": "eff71d3b2ac24a1099d582bc7f88ef41",
       "version_major": 2,
       "version_minor": 0
      },
      "text/plain": []
     },
     "metadata": {},
     "output_type": "display_data"
    }
   ],
   "source": [
    "import numpy as np\n",
    "import matplotlib.pyplot as plt\n",
    "from openmolecularsystems.systems import TwoLJParticles\n",
    "from openmolecularsystems.tools.md import langevin_NVT\n",
    "import simtk.unit as unit\n",
    "import molsysmt as msm\n",
    "from tqdm import tqdm"
   ]
  },
  {
   "cell_type": "markdown",
   "id": "2d29a572-a764-4136-ad52-6ae67bbd1ed8",
   "metadata": {},
   "source": [
    "# La termodinámica del proceso asociación-disociación de dos partículas LJ"
   ]
  },
  {
   "cell_type": "markdown",
   "id": "e4009379-75e0-440f-9e0a-16897b9a770f",
   "metadata": {},
   "source": [
    "Recordemos que estamos definiendo el sistema de dos partículas de Lennard-Jones en una caja cúbica con condiciones de contorno periódicas con los siguientes parámetros:"
   ]
  },
  {
   "cell_type": "code",
   "execution_count": 2,
   "id": "48c938e2-36c9-4eff-8f7e-519d30d7d138",
   "metadata": {},
   "outputs": [],
   "source": [
    "# Particula A\n",
    "mass_A = 40.0 * unit.amu\n",
    "sigma_A = 2.0 * unit.angstroms\n",
    "epsilon_A = 2.0 * unit.kilocalories_per_mole\n",
    "\n",
    "# Particula B\n",
    "mass_B = 120.0 * unit.amu\n",
    "sigma_B = 4.0 * unit.angstroms\n",
    "epsilon_B = 4.5 * unit.kilocalories_per_mole\n",
    "\n",
    "# Box\n",
    "Lbox = 5.0*unit.nanometers\n",
    "box = np.zeros((3, 3))*unit.nanometers\n",
    "box[0,0] = Lbox\n",
    "box[1,1] = Lbox\n",
    "box[2,2] = Lbox"
   ]
  },
  {
   "cell_type": "markdown",
   "id": "60f5b1c1-e2f3-4425-a05b-16cb81188cfa",
   "metadata": {},
   "source": [
    "El potencial Lennard-Jonnes entre las partículas se define mediante la expresión:\n",
    "\n",
    "\\begin{equation}\n",
    "V(l) = 4 \\epsilon_{red} \\left[ \\left( \\frac{\\sigma_{red}}{l} \\right)^{12} - \\left( \\frac{\\sigma_{red}}{l} \\right)^{6} \\right]\n",
    "\\end{equation}\n",
    "\n",
    "Donde $l$ es la distancia entre las partículas A y B en el espacio periódico cúbico de lado $L_{box}$:\n",
    "\n",
    "\\begin{equation}\n",
    "dist(\\vec{r}_{A},\\vec{r}_{B}) = \\sqrt{\\theta(x_{A},x_{B})^2+\\theta(y_{A},y_{B})^2+\\theta(z_{A},z_{B})^2}\n",
    "\\end{equation}\n",
    "\n",
    "con\n",
    "\n",
    "\\begin{equation}\n",
    "\\theta(q_{A},q_{B}) =\n",
    "\\begin{cases}\n",
    "q_{B}-q_{A}-L_{box} \\;\\;\\;\\; \\rm{si} \\;\\;\\; \\frac{L_{box}}{2}<(q_{B}-q_{A}) \\\\\n",
    "q_{B}-q_{A}+L_{box} \\;\\;\\;\\; \\rm{si} \\;\\;\\; (q_{B}-q_{A})\\leq-\\frac{L_{box}}{2} \\\\\n",
    "q_{B}-q_{A} \\;\\;\\;\\; \\rm{si} \\;\\;\\; -\\frac{L_{box}}{2}<(q_{B}-q_{A})\\leq\\frac{L_{box}}{2}\n",
    "\\end{cases}\n",
    "\\end{equation}\n",
    "\n",
    "y los parámetros reducidos del potencial se construyen desde los parámetros de las partículas de la siguiente manera:\n",
    "\n",
    "\n",
    "\n",
    "\\begin{equation}\n",
    "\\sigma_{red} = \\frac{\\sigma_{A}+\\sigma_{B}}{2}\n",
    "\\end{equation}\n",
    "\n",
    "\\begin{equation}\n",
    "\\epsilon_{red} = \\sqrt{\\epsilon_{A}\\epsilon_{B}}\n",
    "\\end{equation}\n",
    "\n",
    "\n",
    "\n",
    "Supongamos ahora que queremos conocer la probabilidad de que ambas partículas se encuentren \"unidas\" o \"asociadas\" a la temperatura de 300K."
   ]
  },
  {
   "cell_type": "code",
   "execution_count": 3,
   "id": "c4c20ece-74f9-4abf-97fc-67f4bb63ca01",
   "metadata": {},
   "outputs": [],
   "source": [
    "# Estado termodinámico\n",
    "temperature = 300*unit.kelvin\n",
    "KbT = unit.BOLTZMANN_CONSTANT_kB * unit.AVOGADRO_CONSTANT_NA * temperature"
   ]
  },
  {
   "cell_type": "markdown",
   "id": "aab7a45d-9ac7-446f-834e-4daf9b5e0c95",
   "metadata": {},
   "source": [
    "Podemos calcular la probabilidad de encontrar a las dos partículas separadas una distancia $d$ de la siguiente manera:\n",
    "\n",
    "\\begin{equation}\n",
    "P(l) = \\frac{1}{Z_{V}} \\iiint_{0.0}^{L_{box}} \\iiint_{0.0}^{L_{box}} e^{-\\frac{1}{K_{B}T}V(l)} \\delta\\left(l−dist(\\vec{r}_{A}, \\vec{r}_{B})\\right) \\; d\\vec{r}_{A} d\\vec{r}_{B}\n",
    "\\end{equation}\n",
    "\n",
    "Siendo la parte del potencial de la función de partición total:\n",
    "\n",
    "\\begin{equation}\n",
    "Z_{V} = \\iiint_{0.0}^{L_{box}} \\iiint_{0.0}^{L_{box}} e^{-\\frac{1}{K_{B}T}V\\left(dist(\\vec{r}_{A}, \\vec{r}_{B})\\right)} \\; d\\vec{r}_{A} d\\vec{r}_{B}\n",
    "\\end{equation}\n",
    "\n",
    "Esta expresión corresponde a la definición tal cual es. Podemos resolver estas integrales reescribíendolas de manera inteligente, pero antes, intentemos calcular numéricamente $Z_{V}$ de esta manera para que tengas una idea de cuanto tiempo puede costar resolver una integral sexta (considerando todas las conformaciones posibles de dos partículas en tres dimensiones) en Python:"
   ]
  },
  {
   "cell_type": "code",
   "execution_count": 4,
   "id": "677dea03-a9f2-4703-8bbc-d2a8f175f8a5",
   "metadata": {},
   "outputs": [],
   "source": [
    "sigma_red = 0.5*(sigma_A+sigma_B)\n",
    "epsilon_red = np.sqrt(epsilon_A*epsilon_B)\n",
    "\n",
    "def potential(distance):\n",
    "    \n",
    "    global sigma_red, epsilon_red\n",
    "    \n",
    "    d_aux = sigma_red/distance\n",
    "    \n",
    "    return 4.0*epsilon_red*(d_aux**12-d_aux**6)\n",
    "\n",
    "def distance_AB_with_PBC(rA, rB, box_length):\n",
    "\n",
    "    box_half_length=0.5*box_length\n",
    "    r_ab = rA-rB\n",
    "    for jj in range(3):\n",
    "        if r_ab[jj]>box_half_length:\n",
    "            r_ab[jj]-=box_length\n",
    "        elif r_ab[jj]<-box_half_length:\n",
    "            r_ab[jj]+=box_length\n",
    "        output=(r_ab[0]**2+r_ab[1]**2+r_ab[2]**2)**0.5\n",
    "    \n",
    "    return output"
   ]
  },
  {
   "cell_type": "code",
   "execution_count": null,
   "id": "e8aab195-fb5a-45c4-bec9-3f1b370c2688",
   "metadata": {},
   "outputs": [],
   "source": [
    "def calc_ZV(box_length, n_bins_dimension):\n",
    "    \n",
    "    global KbT\n",
    "    \n",
    "    dxA=box_length/n_bins_dimension\n",
    "    dyA=dxA\n",
    "    dzA=dxA\n",
    "    dxB=dxA\n",
    "    dyB=dxA\n",
    "    dzB=dxA\n",
    "    dv=dxA*dyA*dzA*dxB*dyB*dzB\n",
    "    \n",
    "    rA = np.zeros([3])*unit.nanometers\n",
    "    rB = np.zeros([3])*unit.nanometers\n",
    "    \n",
    "    for ii_A in tqdm(range(n_bins_dimension)):\n",
    "        rA[0] = ii_A*dxA\n",
    "        for jj_A in range(n_bins_dimension):\n",
    "            rA[1] = jj_A*dyA\n",
    "            for kk_A in range(n_bins_dimension):\n",
    "                rA[2] = kk_A*dzA\n",
    "                for ii_B in range(n_bins_dimension):\n",
    "                    rB[0] = ii_B*dxB\n",
    "                    for jj_B in range(n_bins_dimension):\n",
    "                        rB[1] = jj_B*dyB\n",
    "                        for kk_B in range(n_bins_dimension):\n",
    "                            rB[2] = kk_B*dzB\n",
    "                            \n",
    "                            dist = distance_AB_with_PBC(rA, rB, box_length)\n",
    "                            if dist<0.00001*unit.nanometers:\n",
    "                                try:\n",
    "                                    output+= 0*dv\n",
    "                                except:\n",
    "                                    output= 0*dv\n",
    "                            else:\n",
    "                                V = potential(dist)\n",
    "                                try:\n",
    "                                    output+= np.exp(-V/KbT)*dv\n",
    "                                except:\n",
    "                                    output= np.exp(-V/KbT)*dv\n",
    "    \n",
    "    return output"
   ]
  },
  {
   "cell_type": "code",
   "execution_count": null,
   "id": "986bf5bb-7789-4328-af60-dffbb1a1245c",
   "metadata": {},
   "outputs": [],
   "source": [
    "ZV = calc_ZV(5.0*unit.nanometers, 10)"
   ]
  },
  {
   "cell_type": "code",
   "execution_count": null,
   "id": "d2386f0c-ff03-400e-a1b8-db9efaf4c86c",
   "metadata": {},
   "outputs": [],
   "source": [
    "ZV"
   ]
  },
  {
   "cell_type": "markdown",
   "id": "f6fc4632-a8eb-4a7a-a3ee-49b9f745bbdf",
   "metadata": {},
   "source": [
    "En mi laptop este cálculo cuesta un poco más de 4 minutos con una discretización muy pobre, $\\Delta x =0.5 \\; \\rm{nm}$, una resolución espacial mayor incluso que $\\sigma_{red}$. Para tener una estimación mínimamente decente tendríamos que al menos hacer divisiones cada angstrom. Estimemos cuanto tiempo costaría este cálculo. 50 divisiones por dimensión significa incrementar en $x5$ cada uno de los 6 bucles. Haríamos entonces $x5^{6}$ iteraciones con respecto al cálculo que hicimos. Veamos cuanto tiempo sería esto:"
   ]
  },
  {
   "cell_type": "code",
   "execution_count": null,
   "id": "81828484-561e-4226-b36b-8d0b2ffd8e1f",
   "metadata": {},
   "outputs": [],
   "source": [
    "time=(4*unit.minutes)* 5**6\n",
    "print(time.in_units_of(unit.days))"
   ]
  },
  {
   "cell_type": "markdown",
   "id": "45d61ba9-f0d7-46d9-b1ba-74e0723faeb1",
   "metadata": {},
   "source": [
    "Ahora imagina lo que costaría un cálculo de este tipo si tenemos del orden de 5000 átomos en un caja periódica.\n",
    "\n",
    "Sucede que para este sistema tenemos todavía recursos para que el cálculo sea sencillo y rápido, en primer lugar se puede demostrar que la probabilidad $P(d)$ se puede reescribir como:\n",
    "\n",
    "\n",
    "\\begin{equation}\n",
    "P(l) = \\frac{1}{Z_{V}} \\iiint_{0.0}^{L_{box}} d\\vec{r} \\iiint_{-L_{box}/2}^{L_{box}/2} e^{-\\frac{1}{K_{B}T}V(l)} \\delta (l−\\lVert \\vec{u} \\rVert) \\; d\\vec{u}\n",
    "\\end{equation}\n",
    "\n",
    "Siendo la parte del potencial de la función de partición total:\n",
    "\n",
    "\\begin{equation}\n",
    "Z_{V} = \\iiint_{0.0}^{L_{box}} d\\vec{r} \\iiint_{-L_{box}/2}^{L_{box}/2} e^{-\\frac{1}{K_{B}T}V(\\lVert \\vec{u} \\rVert)} \\; d\\vec{u}\n",
    "\\end{equation}\n",
    "\n",
    "Así que simplificando:\n",
    "\n",
    "\\begin{equation}\n",
    "P(l) = \\frac{1}{\\hat{Z}_{V}} \\iiint_{-L_{box}/2}^{L_{box}/2} e^{-\\frac{1}{K_{B}T}V(l)} \\delta (l−\\lVert \\vec{u} \\rVert) \\; d\\vec{u}\n",
    "\\end{equation}\n",
    "\n",
    "donde $\\hat{Z}_{V}$ es:\n",
    "\n",
    "\\begin{equation}\n",
    "\\hat{Z}_{V} = \\iiint_{-L_{box}/2}^{L_{box}/2} e^{-\\frac{1}{K_{B}T}V( \\lVert \\vec{u} \\rVert )} \\; d\\vec{u}\n",
    "\\end{equation}"
   ]
  },
  {
   "cell_type": "markdown",
   "id": "c660d76a-2222-4c20-b70e-3809099f36ce",
   "metadata": {},
   "source": [
    "Hemos reducido las integrales sextuples a integrales triples. Pero todavía podemos hacer más porque nuestras funciones a integrar dependen de un parámetro, la distancia. Pero además el potencial tiende a cero rápidamente, emplear un umbral sobre el cual hacemos cero el potencial, puede ahorrar tiempo de cálculo para obtener $P(d)$:"
   ]
  },
  {
   "cell_type": "code",
   "execution_count": 19,
   "id": "f55aff42-0767-4fed-99a3-05de77af6b5d",
   "metadata": {},
   "outputs": [
    {
     "data": {
      "image/png": "[encoded data removed]",
      "text/plain": [
       "<Figure size 432x288 with 1 Axes>"
      ]
     },
     "metadata": {
      "needs_background": "light"
     },
     "output_type": "display_data"
    }
   ],
   "source": [
    "distance_serie = np.linspace(0.01, 2.5, 500) * unit.nanometers\n",
    "potential_serie = potential(distance_serie)\n",
    "\n",
    "plt.plot(distance_serie, potential_serie)\n",
    "plt.ylim([-5,10])\n",
    "plt.xlabel('x [{}]'.format(distance_serie.unit.get_symbol()))\n",
    "plt.ylabel('V [{}]'.format(potential_serie.unit.get_symbol()))\n",
    "plt.hlines(0, 0.0, 2.0, linestyles='dotted', color='gray')\n",
    "plt.show()"
   ]
  },
  {
   "cell_type": "markdown",
   "id": "216c405b-766f-48e8-a2e0-f904c93e5b60",
   "metadata": {},
   "source": [
    "Vamos a suponer que el potencial es cero desde la distancia umbral $l_{top}=2.0 \\; \\rm{nm}$, no parece una mala aproximación y simplifica mucho las cosas. Veamos cuanto vale el potencial en ese punto:\n",
    "\n",
    "\\begin{equation}\n",
    "V(l) \\approx\n",
    "\\begin{cases}\n",
    "4 \\epsilon_{red} \\left[ \\left( \\frac{\\sigma_{red}}{l} \\right)^{12} - \\left( \\frac{\\sigma_{red}}{l} \\right)^{6} \\right] \\;\\;\\;\\;\\; si \\;\\;\\; l \\leq l_{top} \\\\\n",
    "0 \\;\\;\\;\\;\\; si \\;\\;\\; l> l_{top}\n",
    "\\end{cases}\n",
    "\\end{equation}"
   ]
  },
  {
   "cell_type": "code",
   "execution_count": null,
   "id": "5ddcccad-b6f1-4036-8873-65ebbdd74da6",
   "metadata": {},
   "outputs": [],
   "source": [
    "potential(2.0*unit.nanometers) # aunque lo importante es ver el valor de la primera derivada (la fuerza)."
   ]
  },
  {
   "cell_type": "markdown",
   "id": "743ec9cf-26f2-45ab-9e57-b7a5e999a19b",
   "metadata": {},
   "source": [
    "Con esta aproximación podemos entonces reescribir:\n",
    "\n",
    "\\begin{equation}\n",
    "\\hat{Z}_{V} \\approx \\int_{0}^{l_{top}} 4 \\pi l^{2} e^{-\\frac{1}{K_{B}T}V(l)} \\; dl + \\left[L_{box}^{3}-\\frac{4}{3}\\pi l_{top}^{3}\\right]\n",
    "\\end{equation}"
   ]
  },
  {
   "cell_type": "markdown",
   "id": "2063379f-bbf0-4419-b6b5-8b4372e800cf",
   "metadata": {},
   "source": [
    "Ya podemos entonces calcular el valor de la función de partición total $\\hat{Z}_{V}$. Resolveremos el término integral numéricamente."
   ]
  },
  {
   "cell_type": "code",
   "execution_count": 12,
   "id": "d9be027c-df50-403b-9f8a-2ef20c2201fc",
   "metadata": {},
   "outputs": [],
   "source": [
    "def zV(x):\n",
    "    \n",
    "    global sigma_red, epsilon_red, KbT\n",
    "    \n",
    "    x_aux = sigma_red/x\n",
    "    Vx =  4 * epsilon_red * (x_aux**12 - x_aux**6)\n",
    "\n",
    "    return (4*np.pi*x**2)*np.exp(-Vx/KbT)\n",
    "\n",
    "def integral_numerica_1D (f, lim_inf, lim_sup, n_bins):\n",
    "    \n",
    "    delta_x = (lim_sup - lim_inf)/n_bins\n",
    "    \n",
    "    x = lim_inf\n",
    "\n",
    "    for ii in range(1,n_bins):\n",
    "        try:\n",
    "            output += f(x)*delta_x\n",
    "        except:\n",
    "            output = f(x)*delta_x\n",
    "        x += delta_x\n",
    "    \n",
    "    return output"
   ]
  },
  {
   "cell_type": "code",
   "execution_count": 13,
   "id": "7a22d626-3d00-4d5f-9b16-aea79173183b",
   "metadata": {},
   "outputs": [],
   "source": [
    "ltop = 2.0 * unit.nanometers\n",
    "ZV = integral_numerica_1D(zV, 0.000001*unit.nanometer, ltop, 1000)\n",
    "ZV += (Lbox)**3 - (4/3)*np.pi*ltop**3"
   ]
  },
  {
   "cell_type": "code",
   "execution_count": 14,
   "id": "c3625716-4eef-4f14-9413-35789913c9cd",
   "metadata": {},
   "outputs": [
    {
     "data": {
      "text/plain": [
       "Quantity(value=137.69140449911023, unit=nanometer**3)"
      ]
     },
     "execution_count": 14,
     "metadata": {},
     "output_type": "execute_result"
    }
   ],
   "source": [
    "ZV"
   ]
  },
  {
   "cell_type": "markdown",
   "id": "5682337b-8f88-4528-8192-d2647c587397",
   "metadata": {},
   "source": [
    "Ahora, la parte del numerador para el cálculo de la función de densidad de probabilidad de la distancia entre las dos partículas lo haremos también en coordenadas polares para que la función delta de dirac simplifique la integral:\n",
    "\n",
    "\\begin{equation}\n",
    "P(l) = \\frac{1}{\\hat{Z}_{V}} \\iiint_{-L_{box}/2}^{L_{box}/2} e^{-\\frac{1}{K_{B}T}V(l)} \\delta (l−\\lVert \\vec{u} \\rVert) \\; d\\vec{u} = \\frac{1}{\\hat{Z}_{V}} e^{-\\frac{1}{K_{B}T}V(l)} \\phi(l) \\; dl\n",
    "\\end{equation}"
   ]
  },
  {
   "cell_type": "markdown",
   "id": "d5910a76-0612-43fb-a168-6f57c8420a95",
   "metadata": {},
   "source": [
    "Donde aquí el valor $\\phi(l)$ corresponde a la superficie de la esfera de radio $l$ circunscrita en un cubo de lado $L_{box}$ que queda dentro de dicho cubo. Resolveremos este valor también numéricamente, pero esta vez utilizando una aproximación de tipo monte carlo:"
   ]
  },
  {
   "cell_type": "code",
   "execution_count": 5,
   "id": "66a03ec5-44c1-4a48-aa57-a5a3cf385971",
   "metadata": {},
   "outputs": [],
   "source": [
    "def portion_of_sphere_surface_inside_cube(radius, Lbox, n_mc_tries):\n",
    "    \n",
    "    half_Lbox = 0.5*Lbox\n",
    "    \n",
    "    try_in = 0\n",
    "\n",
    "    for ii in range(n_mc_tries):\n",
    "        aux=np.random.randn(3)\n",
    "        norm_aux=sum(aux*aux)**.5\n",
    "        point_unit_sphere=aux/norm_aux\n",
    "        point_distance_sphere=radius*point_unit_sphere\n",
    "\n",
    "        if np.all(np.abs(point_distance_sphere)*radius.unit<=half_Lbox):\n",
    "            try_in+=1\n",
    "\n",
    "    portion=try_in/n_mc_tries\n",
    "\n",
    "    return portion"
   ]
  },
  {
   "cell_type": "markdown",
   "id": "11e04cf3-0163-4352-b699-8c158be5796e",
   "metadata": {},
   "source": [
    "La función anterior nos ofrece una buena estimación de la fracción de superficie de la esfera de radio $l$ que queda dentro del cubo de lado $L_{box}$ en el que está circunscrita:"
   ]
  },
  {
   "cell_type": "code",
   "execution_count": 6,
   "id": "c2ba7cb8-6e29-42d2-81fa-28ea16597e08",
   "metadata": {},
   "outputs": [
    {
     "name": "stderr",
     "output_type": "stream",
     "text": [
      "100%|████████████████████████████████████████████████████████████████████████████████████████████████████████████████████████████████████████████████████████████████████████████| 100/100 [00:48<00:00,  2.06it/s]\n"
     ]
    }
   ],
   "source": [
    "radii_serie = np.linspace(0.001, 5.0, 100)*unit.nanometers\n",
    "portions_serie = []\n",
    "for radius in tqdm(radii_serie):\n",
    "    factor = portion_of_sphere_surface_inside_cube(radius, Lbox, 10000)\n",
    "    portions_serie.append(factor)"
   ]
  },
  {
   "cell_type": "code",
   "execution_count": 7,
   "id": "045deb9e-3bac-4a78-8c3a-57ef78d0dc36",
   "metadata": {},
   "outputs": [
    {
     "data": {
      "image/png": "[encoded data removed]",
      "text/plain": [
       "<Figure size 432x288 with 1 Axes>"
      ]
     },
     "metadata": {
      "needs_background": "light"
     },
     "output_type": "display_data"
    }
   ],
   "source": [
    "plt.plot(radii_serie, portions_serie)\n",
    "plt.show()"
   ]
  },
  {
   "cell_type": "markdown",
   "id": "8f62e82f-205f-4f55-922f-04041baaf406",
   "metadata": {},
   "source": [
    "Así que ya tenemos el valor de $\\phi(l)$ para todo $l$:"
   ]
  },
  {
   "cell_type": "code",
   "execution_count": 8,
   "id": "632f94a4-6463-439d-93fd-cce772b05d15",
   "metadata": {},
   "outputs": [],
   "source": [
    "areas_serie = []*unit.nanometers**2\n",
    "for radius, portion in zip(radii_serie, portions_serie):\n",
    "    areas_serie.append((4*np.pi*radius**2)*portion)"
   ]
  },
  {
   "cell_type": "code",
   "execution_count": 9,
   "id": "df616f5d-81db-4219-a495-60f2fcf49939",
   "metadata": {},
   "outputs": [],
   "source": [
    "areas_serie._value = np.array(areas_serie._value)"
   ]
  },
  {
   "cell_type": "code",
   "execution_count": 10,
   "id": "ba10d459-4967-4b4e-bb33-37add929dbb9",
   "metadata": {},
   "outputs": [
    {
     "data": {
      "image/png": "[encoded data removed]",
      "text/plain": [
       "<Figure size 432x288 with 1 Axes>"
      ]
     },
     "metadata": {
      "needs_background": "light"
     },
     "output_type": "display_data"
    }
   ],
   "source": [
    "plt.plot(radii_serie, areas_serie)\n",
    "plt.show()"
   ]
  },
  {
   "cell_type": "markdown",
   "id": "857cce4a-dbda-4683-8d78-bdcb6b7c137d",
   "metadata": {},
   "source": [
    "Finalmente, ya podemos representar la densidad de probabilidad de que las dos partículas $A$ y $B$ se encuentren a distancia $l$ en una caja cúbica de lado $L_{box}$ de condiciones de contorno periódicas:"
   ]
  },
  {
   "cell_type": "code",
   "execution_count": 11,
   "id": "b8f4bfd1-70c7-45d1-8a5d-b66363aa13a4",
   "metadata": {},
   "outputs": [
    {
     "name": "stderr",
     "output_type": "stream",
     "text": [
      "100%|████████████████████████████████████████████████████████████████████████████████████████████████████████████████████████████████████████████████████████████████████████████| 500/500 [07:47<00:00,  1.07it/s]\n"
     ]
    },
    {
     "ename": "NameError",
     "evalue": "name 'ZV' is not defined",
     "output_type": "error",
     "traceback": [
      "\u001b[0;31m---------------------------------------------------------------------------\u001b[0m",
      "\u001b[0;31mNameError\u001b[0m                                 Traceback (most recent call last)",
      "\u001b[0;32m/tmp/ipykernel_597248/3290277135.py\u001b[0m in \u001b[0;36m<module>\u001b[0;34m\u001b[0m\n\u001b[1;32m      8\u001b[0m     \u001b[0mzVl_serie\u001b[0m\u001b[0;34m.\u001b[0m\u001b[0mappend\u001b[0m\u001b[0;34m(\u001b[0m\u001b[0mzVl\u001b[0m\u001b[0;34m)\u001b[0m\u001b[0;34m\u001b[0m\u001b[0;34m\u001b[0m\u001b[0m\n\u001b[1;32m      9\u001b[0m \u001b[0;34m\u001b[0m\u001b[0m\n\u001b[0;32m---> 10\u001b[0;31m \u001b[0mPl_serie\u001b[0m \u001b[0;34m=\u001b[0m \u001b[0mzVl_serie\u001b[0m\u001b[0;34m/\u001b[0m\u001b[0mZV\u001b[0m\u001b[0;34m\u001b[0m\u001b[0;34m\u001b[0m\u001b[0m\n\u001b[0m\u001b[1;32m     11\u001b[0m \u001b[0mPl_serie\u001b[0m\u001b[0;34m.\u001b[0m\u001b[0m_value\u001b[0m \u001b[0;34m=\u001b[0m \u001b[0mnp\u001b[0m\u001b[0;34m.\u001b[0m\u001b[0marray\u001b[0m\u001b[0;34m(\u001b[0m\u001b[0mPl_serie\u001b[0m\u001b[0;34m.\u001b[0m\u001b[0m_value\u001b[0m\u001b[0;34m)\u001b[0m\u001b[0;34m\u001b[0m\u001b[0;34m\u001b[0m\u001b[0m\n",
      "\u001b[0;31mNameError\u001b[0m: name 'ZV' is not defined"
     ]
    }
   ],
   "source": [
    "l_serie = np.linspace(0.000001, 5.0 , 500) * unit.nanometer\n",
    "zVl_serie = []*unit.nanometer**2\n",
    "for l in tqdm(l_serie):\n",
    "    portion = portion_of_sphere_surface_inside_cube(l, Lbox, 20000)\n",
    "    l_aux = sigma_red/l\n",
    "    Vl =  4*epsilon_red*(l_aux**12-l_aux**6)\n",
    "    zVl = (4*np.pi*l**2)*portion*np.exp(-Vl/KbT)\n",
    "    zVl_serie.append(zVl)\n",
    "\n",
    "Pl_serie = zVl_serie/ZV\n",
    "Pl_serie._value = np.array(Pl_serie._value)"
   ]
  },
  {
   "cell_type": "code",
   "execution_count": 15,
   "id": "6f292190-b7e5-4570-8024-9ee6358766b3",
   "metadata": {},
   "outputs": [],
   "source": [
    "Pl_serie = zVl_serie/ZV\n",
    "Pl_serie._value = np.array(Pl_serie._value)"
   ]
  },
  {
   "cell_type": "code",
   "execution_count": 16,
   "id": "d47df844-c689-4edc-9747-ee6996f57b22",
   "metadata": {},
   "outputs": [
    {
     "data": {
      "image/png": "[encoded data removed]",
      "text/plain": [
       "<Figure size 864x216 with 1 Axes>"
      ]
     },
     "metadata": {
      "needs_background": "light"
     },
     "output_type": "display_data"
    }
   ],
   "source": [
    "plt.figure(figsize=[12,3])\n",
    "plt.plot(l_serie, Pl_serie, label='Theory')\n",
    "plt.legend()\n",
    "plt.show()"
   ]
  },
  {
   "cell_type": "code",
   "execution_count": 17,
   "id": "bfd7e579-2eaf-478d-ba2c-5cddb883c203",
   "metadata": {},
   "outputs": [
    {
     "name": "stderr",
     "output_type": "stream",
     "text": [
      "/home/diego/Myopt/miniconda3/envs/UIBCDF-Academia/lib/python3.7/site-packages/ipykernel_launcher.py:1: RuntimeWarning: divide by zero encountered in log\n",
      "  \"\"\"Entry point for launching an IPython kernel.\n"
     ]
    },
    {
     "data": {
      "image/png": "[encoded data removed]",
      "text/plain": [
       "<Figure size 864x216 with 1 Axes>"
      ]
     },
     "metadata": {
      "needs_background": "light"
     },
     "output_type": "display_data"
    }
   ],
   "source": [
    "Fl_theo = -KbT*np.log(Pl_serie)\n",
    "\n",
    "plt.figure(figsize=[12,3])\n",
    "plt.plot(l_serie, Fl_theo.in_units_of(unit.kilocalories_per_mole), label='Theory')\n",
    "plt.ylim([-2,6])\n",
    "plt.legend()\n",
    "plt.show()"
   ]
  },
  {
   "cell_type": "markdown",
   "id": "b67ee668-315f-4995-aa60-13ceda360d50",
   "metadata": {},
   "source": [
    "¿Te recuerda al sistema de doble pozo que vimos anteriormente? Ya podemos calcular las magnitudes termodinámicas $P_\\rm{on}$, $P_\\rm{off}$, $K_\\rm{D}$, $K_\\rm{A}$, $\\Delta F_\\rm{binding}$, ... Pero antes, hagámosnos una pregunta. ¿Donde está la distancia limite por debajo de la cual consideramos el complejo AB formado?¿Cómo definimos el sistema asociado y el disociado? Con el potencial de tipo doble pozo era muy claro... ¿Y ahora? ¿Hacemos uso de la barrera que vemos en la energía libre?"
   ]
  },
  {
   "cell_type": "code",
   "execution_count": 20,
   "id": "8d67f298-0cb4-4001-b2ee-cf0cb7369ce2",
   "metadata": {},
   "outputs": [
    {
     "data": {
      "image/png": "[encoded data removed]",
      "text/plain": [
       "<Figure size 864x216 with 1 Axes>"
      ]
     },
     "metadata": {
      "needs_background": "light"
     },
     "output_type": "display_data"
    }
   ],
   "source": [
    "plt.figure(figsize=[12,3])\n",
    "plt.plot(l_serie, Fl_theo.in_units_of(unit.kilocalories_per_mole), label='F(l)')\n",
    "plt.plot(distance_serie, potential_serie+2.7*unit.kilocalorie_per_mole, label='V(l)')\n",
    "plt.xlim([0,2])\n",
    "plt.ylim([-0.5,3])\n",
    "plt.vlines(0.58, -0.5, 4.0, linestyle=':', color='gray')\n",
    "plt.legend()\n",
    "plt.show()\n"
   ]
  },
  {
   "cell_type": "markdown",
   "id": "69598966-1dd8-475f-a7f3-006a99a5261f",
   "metadata": {},
   "source": [
    "Hemos situado una linea punteada sobre la coordenada $l_{b}$ de la barrera de la energía libre para saber cómo es la energía potencial en ese punto. A temperatura '0' esta claro que podríamos discutir si $l_{b}$ es o no una buena distancia umbral para definir lo que consideramos como estado \"unido\". Si a temperatura cero ponemos 1000 pares de partículas A-B a una distancia $l_{b}$, esta claro que el 100% de los pares relajaran al complejo AB formado. No parece un buen límite, ¿cierto? Ahora, si vemos la barrera del doble pozo de las unidades anteriores y ponemos sobre ella 1000 pares de partículas A-B a una temperatura próxima a cero, aproximadamente la mitad de los pares relajarán a su estructura asociada y la otra mitad relajará a su estructura disociada. No parece una definición rigursa de barrera pero si es muy intuitiva. Entonces, si ponemos a 300K 1000 pares A-B a una distancia $l_{b}$... ¿Será equiparable la población que antes visitará el estado \"asociado\" antes que el \"disociado\" a la que visitará antes el \"disociado\" que el \"asociado\"? ¿Será cierto esto para cualquier paisaje de energía libre? ¿Nos sirve entonces la energía potencial para definir el estado \"unido\" o \"asociado\" de un complejo molecular a cierta temperatura?\n",
    "\n",
    "Pongamos entonces la distancia de separación entre el estado asociado AB y el estado disociado A+B en $l_{b}$ para el cálculo de $P_\\rm{ON}$:"
   ]
  },
  {
   "cell_type": "code",
   "execution_count": 21,
   "id": "32ce5417-c83f-4899-8dd2-e1996b43e29b",
   "metadata": {},
   "outputs": [],
   "source": [
    "lb=0.58*unit.nanometers"
   ]
  },
  {
   "cell_type": "code",
   "execution_count": 22,
   "id": "7be81cb9-727c-4df4-a1db-ee548e86e2c1",
   "metadata": {},
   "outputs": [],
   "source": [
    "P_on = 0.0\n",
    "\n",
    "l_serie = np.linspace(0.000001, lb._value , 100) * unit.nanometer\n",
    "dl = np.mean(l_serie[1:]-l_serie[:-1])\n",
    "\n",
    "for l in l_serie:\n",
    "    portion = 1.0\n",
    "    l_aux = sigma_red/l\n",
    "    Vl =  4*epsilon_red*(l_aux**12-l_aux**6)\n",
    "    zVl = (4*np.pi*l**2)*portion*np.exp(-Vl/KbT)\n",
    "    P_on += zVl*dl/ZV\n",
    "\n",
    "P_off = 1-P_on"
   ]
  },
  {
   "cell_type": "code",
   "execution_count": 23,
   "id": "1b204839-d6ed-4efb-be7e-6f4cd7d61612",
   "metadata": {},
   "outputs": [
    {
     "data": {
      "text/plain": [
       "0.09696067858305978"
      ]
     },
     "execution_count": 23,
     "metadata": {},
     "output_type": "execute_result"
    }
   ],
   "source": [
    "P_on"
   ]
  },
  {
   "cell_type": "code",
   "execution_count": 24,
   "id": "d1cb614e-97d4-4451-8e27-bdcacb459c58",
   "metadata": {},
   "outputs": [
    {
     "data": {
      "text/plain": [
       "0.9030393214169402"
      ]
     },
     "execution_count": 24,
     "metadata": {},
     "output_type": "execute_result"
    }
   ],
   "source": [
    "P_off"
   ]
  },
  {
   "cell_type": "markdown",
   "id": "b65a9d10-627a-42b0-ba00-0f7fc34db17b",
   "metadata": {},
   "source": [
    "De esta manera, la energía libre de unión de este sistema es:\n",
    "\n",
    "\\begin{equation}\n",
    "\\Delta F_{binding} = F_{\\rm{on}} - F_{\\rm{off}} = -K_{B}T ln(P_{\\rm{on}}/P_{\\rm{off}})\n",
    "\\end{equation}"
   ]
  },
  {
   "cell_type": "code",
   "execution_count": 25,
   "id": "27d8aa71-fdfe-4dd3-bb61-9655c9745a5d",
   "metadata": {},
   "outputs": [],
   "source": [
    "Fbinding = - KbT*np.log(P_on/P_off)"
   ]
  },
  {
   "cell_type": "code",
   "execution_count": 26,
   "id": "7083aee9-1069-4772-ad35-ccce4c5a4236",
   "metadata": {},
   "outputs": [
    {
     "data": {
      "text/plain": [
       "Quantity(value=1.330310388419633, unit=kilocalorie/mole)"
      ]
     },
     "execution_count": 26,
     "metadata": {},
     "output_type": "execute_result"
    }
   ],
   "source": [
    "Fbinding.in_units_of(unit.kilocalories_per_mole)"
   ]
  },
  {
   "cell_type": "markdown",
   "id": "138eb584-7db5-40cc-9182-4c656a736f38",
   "metadata": {},
   "source": [
    "Veamos qué sucede cuando caracterizamos la termodinámica del proceso de unión de A y B mediante una simulación de dinámica molecular de fuerza bruta. Antes, una pregunta ¿Cómo afecta el parámetro de fricción o amortiguamiento del baño térmico de la dinámica de Langevin? ¿Obtendremos distintos valores de $P_{\\rm{on}}$ variando el amortiguamiento? ¿Por qué? ¿Depende la energía libre de unión de A y B de la fricción o amortiguamiento?"
   ]
  },
  {
   "cell_type": "code",
   "execution_count": 27,
   "id": "59a6aa5b-6189-45ca-a89f-c7e04a3b5b7e",
   "metadata": {},
   "outputs": [],
   "source": [
    "osystem = TwoLJParticles(atom_1='Dummy_A', atom_2='Dummy_B',\n",
    "                         box=[[5.0, 0.0, 0.0], [0.0, 5.0, 0.0], [0.0, 0.0, 5.0]]*unit.nanometers)"
   ]
  },
  {
   "cell_type": "code",
   "execution_count": 28,
   "id": "6681bec0-3b29-4e8f-82f5-d5de2f367f72",
   "metadata": {},
   "outputs": [
    {
     "data": {
      "text/plain": [
       "{'mass_1': Quantity(value=40.0, unit=dalton),\n",
       " 'sigma_1': Quantity(value=2.0, unit=angstrom),\n",
       " 'epsilon_1': Quantity(value=2.0, unit=kilocalorie/mole),\n",
       " 'mass_2': Quantity(value=120.0, unit=dalton),\n",
       " 'sigma_2': Quantity(value=4.0, unit=angstrom),\n",
       " 'epsilon_2': Quantity(value=4.5, unit=kilocalorie/mole),\n",
       " 'box': Quantity(value=[[5.0, 0.0, 0.0], [0.0, 5.0, 0.0], [0.0, 0.0, 5.0]], unit=nanometer),\n",
       " 'cutoff_distance': Quantity(value=12.0, unit=angstrom),\n",
       " 'switching_distance': Quantity(value=9.0, unit=angstrom)}"
      ]
     },
     "execution_count": 28,
     "metadata": {},
     "output_type": "execute_result"
    }
   ],
   "source": [
    "osystem.parameters"
   ]
  },
  {
   "cell_type": "code",
   "execution_count": 29,
   "id": "ff4c731c-73df-45be-a1ba-dda5b4fa2f79",
   "metadata": {},
   "outputs": [
    {
     "data": {
      "text/plain": [
       "Quantity(value=300, unit=kelvin)"
      ]
     },
     "execution_count": 29,
     "metadata": {},
     "output_type": "execute_result"
    }
   ],
   "source": [
    "temperature"
   ]
  },
  {
   "cell_type": "code",
   "execution_count": 30,
   "id": "172df8e2-4395-4bf0-9090-faaf285d34c4",
   "metadata": {},
   "outputs": [],
   "source": [
    "time= 50*unit.nanoseconds\n",
    "saving_timestep = 1.0*unit.picoseconds\n",
    "integration_timestep = 5.0*unit.femtoseconds\n",
    "friction=5.0/unit.picoseconds"
   ]
  },
  {
   "cell_type": "code",
   "execution_count": 31,
   "id": "b4bd565d-1f01-43a7-87d5-221fd35d5f06",
   "metadata": {},
   "outputs": [
    {
     "name": "stderr",
     "output_type": "stream",
     "text": [
      "100%|████████████████████████████████████████████████████████████████████████████████████████████████████████████████████████████████████████████████████████████████▉| 9999900/9999999 [05:28<00:00, 30436.21it/s]\n"
     ]
    }
   ],
   "source": [
    "initial_coordinates = np.zeros([2,3])*unit.nanometers\n",
    "initial_coordinates[0,:] = 1.0*unit.nanometers\n",
    "initial_coordinates[1,:] = 2.0*unit.nanometers\n",
    "\n",
    "traj_dict = langevin_NVT(osystem, time=time, saving_timestep=saving_timestep,\n",
    "                          integration_timestep=integration_timestep, friction=friction,\n",
    "                          temperature=temperature, initial_coordinates=initial_coordinates)"
   ]
  },
  {
   "cell_type": "markdown",
   "id": "bdbe4ab0-6c17-47bb-a014-8e1ddfeb5b54",
   "metadata": {},
   "source": [
    "Tomemos la distancia entre los dos átomos como coordenada de reacción y construyamos, con los datos de la trayectoria, el paisaje de energía libre sobre esa coordenada de reacción:"
   ]
  },
  {
   "cell_type": "code",
   "execution_count": 32,
   "id": "82ae869e-d09f-48fd-aecf-51da4913b6a7",
   "metadata": {},
   "outputs": [
    {
     "ename": "ModuleNotFoundError",
     "evalue": "No module named 'molsysmt.forms.classes.api_MolecularMechanicsDict'",
     "output_type": "error",
     "traceback": [
      "\u001b[0;31m---------------------------------------------------------------------------\u001b[0m",
      "\u001b[0;31mModuleNotFoundError\u001b[0m                       Traceback (most recent call last)",
      "\u001b[0;32m/tmp/ipykernel_597248/2927294321.py\u001b[0m in \u001b[0;36m<module>\u001b[0;34m\u001b[0m\n\u001b[0;32m----> 1\u001b[0;31m \u001b[0mdistance\u001b[0m \u001b[0;34m=\u001b[0m \u001b[0mmsm\u001b[0m\u001b[0;34m.\u001b[0m\u001b[0mdistance\u001b[0m\u001b[0;34m(\u001b[0m\u001b[0mtraj_dict\u001b[0m\u001b[0;34m,\u001b[0m \u001b[0mselection\u001b[0m\u001b[0;34m=\u001b[0m\u001b[0;36m0\u001b[0m\u001b[0;34m,\u001b[0m \u001b[0mselection_2\u001b[0m\u001b[0;34m=\u001b[0m\u001b[0;36m1\u001b[0m\u001b[0;34m,\u001b[0m \u001b[0mpbc\u001b[0m\u001b[0;34m=\u001b[0m\u001b[0;32mTrue\u001b[0m\u001b[0;34m)\u001b[0m\u001b[0;34m\u001b[0m\u001b[0;34m\u001b[0m\u001b[0m\n\u001b[0m",
      "\u001b[0;32m~/Myopt/miniconda3/envs/UIBCDF-Academia/lib/python3.7/site-packages/molsysmt/distances.py\u001b[0m in \u001b[0;36mdistance\u001b[0;34m(molecular_system, selection, groups_of_atoms, group_behavior, frame_indices, selection_2, groups_of_atoms_2, group_behavior_2, frame_indices_2, pairs, crossed_frames, pbc, parallel, output_form, output_atom_indices, output_frame_indices, engine, syntaxis)\u001b[0m\n\u001b[1;32m     24\u001b[0m     \u001b[0;32mfrom\u001b[0m \u001b[0mmolsysmt\u001b[0m\u001b[0;34m.\u001b[0m\u001b[0mcenters\u001b[0m \u001b[0;32mimport\u001b[0m \u001b[0mcenter_of_mass\u001b[0m\u001b[0;34m,\u001b[0m \u001b[0mgeometric_center\u001b[0m\u001b[0;34m\u001b[0m\u001b[0;34m\u001b[0m\u001b[0m\n\u001b[1;32m     25\u001b[0m \u001b[0;34m\u001b[0m\u001b[0m\n\u001b[0;32m---> 26\u001b[0;31m     \u001b[0mmolecular_system\u001b[0m \u001b[0;34m=\u001b[0m \u001b[0mdigest_molecular_system\u001b[0m\u001b[0;34m(\u001b[0m\u001b[0mmolecular_system\u001b[0m\u001b[0;34m)\u001b[0m\u001b[0;34m\u001b[0m\u001b[0;34m\u001b[0m\u001b[0m\n\u001b[0m\u001b[1;32m     27\u001b[0m \u001b[0;34m\u001b[0m\u001b[0m\n\u001b[1;32m     28\u001b[0m     \u001b[0mengine\u001b[0m \u001b[0;34m=\u001b[0m \u001b[0mdigest_engine\u001b[0m\u001b[0;34m(\u001b[0m\u001b[0mengine\u001b[0m\u001b[0;34m)\u001b[0m\u001b[0;34m\u001b[0m\u001b[0;34m\u001b[0m\u001b[0m\n",
      "\u001b[0;32m~/Myopt/miniconda3/envs/UIBCDF-Academia/lib/python3.7/site-packages/molsysmt/_private_tools/molecular_system.py\u001b[0m in \u001b[0;36mdigest_molecular_system\u001b[0;34m(molecular_system)\u001b[0m\n\u001b[1;32m     16\u001b[0m             \u001b[0;32mreturn\u001b[0m \u001b[0mMolecularSystem\u001b[0m\u001b[0;34m(\u001b[0m\u001b[0mmolecular_system\u001b[0m\u001b[0;34m)\u001b[0m\u001b[0;34m\u001b[0m\u001b[0;34m\u001b[0m\u001b[0m\n\u001b[1;32m     17\u001b[0m     \u001b[0;32melse\u001b[0m\u001b[0;34m:\u001b[0m\u001b[0;34m\u001b[0m\u001b[0;34m\u001b[0m\u001b[0m\n\u001b[0;32m---> 18\u001b[0;31m         \u001b[0;32mreturn\u001b[0m \u001b[0mMolecularSystem\u001b[0m\u001b[0;34m(\u001b[0m\u001b[0mmolecular_system\u001b[0m\u001b[0;34m)\u001b[0m\u001b[0;34m\u001b[0m\u001b[0;34m\u001b[0m\u001b[0m\n\u001b[0m\u001b[1;32m     19\u001b[0m \u001b[0;34m\u001b[0m\u001b[0m\n",
      "\u001b[0;32m~/Myopt/miniconda3/envs/UIBCDF-Academia/lib/python3.7/site-packages/molsysmt/molecular_system.py\u001b[0m in \u001b[0;36m__init__\u001b[0;34m(self, items)\u001b[0m\n\u001b[1;32m     61\u001b[0m                     \u001b[0;32mraise\u001b[0m \u001b[0mNeedsSingleMolecularSystemError\u001b[0m\u001b[0;34m(\u001b[0m\u001b[0;34m)\u001b[0m\u001b[0;34m\u001b[0m\u001b[0;34m\u001b[0m\u001b[0m\n\u001b[1;32m     62\u001b[0m \u001b[0;34m\u001b[0m\u001b[0m\n\u001b[0;32m---> 63\u001b[0;31m                 \u001b[0mself\u001b[0m\u001b[0;34m.\u001b[0m\u001b[0melements_item\u001b[0m\u001b[0;34m,\u001b[0m \u001b[0mself\u001b[0m\u001b[0;34m.\u001b[0m\u001b[0melements_form\u001b[0m \u001b[0;34m=\u001b[0m \u001b[0mwhere_elements_in_molecular_system\u001b[0m\u001b[0;34m(\u001b[0m\u001b[0mitems\u001b[0m\u001b[0;34m)\u001b[0m\u001b[0;34m\u001b[0m\u001b[0;34m\u001b[0m\u001b[0m\n\u001b[0m\u001b[1;32m     64\u001b[0m                 \u001b[0mself\u001b[0m\u001b[0;34m.\u001b[0m\u001b[0mbonds_item\u001b[0m\u001b[0;34m,\u001b[0m \u001b[0mself\u001b[0m\u001b[0;34m.\u001b[0m\u001b[0mbonds_form\u001b[0m \u001b[0;34m=\u001b[0m \u001b[0mwhere_bonds_in_molecular_system\u001b[0m\u001b[0;34m(\u001b[0m\u001b[0mitems\u001b[0m\u001b[0;34m)\u001b[0m\u001b[0;34m\u001b[0m\u001b[0;34m\u001b[0m\u001b[0m\n\u001b[1;32m     65\u001b[0m                 \u001b[0mself\u001b[0m\u001b[0;34m.\u001b[0m\u001b[0mcoordinates_item\u001b[0m\u001b[0;34m,\u001b[0m \u001b[0mself\u001b[0m\u001b[0;34m.\u001b[0m\u001b[0mcoordinates_form\u001b[0m \u001b[0;34m=\u001b[0m \u001b[0mwhere_coordinates_in_molecular_system\u001b[0m\u001b[0;34m(\u001b[0m\u001b[0mitems\u001b[0m\u001b[0;34m)\u001b[0m\u001b[0;34m\u001b[0m\u001b[0;34m\u001b[0m\u001b[0m\n",
      "\u001b[0;32m~/Myopt/miniconda3/envs/UIBCDF-Academia/lib/python3.7/site-packages/molsysmt/tools/molecular_systems.py\u001b[0m in \u001b[0;36mwhere_elements_in_molecular_system\u001b[0;34m(items)\u001b[0m\n\u001b[1;32m     28\u001b[0m     \u001b[0;32mif\u001b[0m \u001b[0mtype\u001b[0m\u001b[0;34m(\u001b[0m\u001b[0mitems\u001b[0m\u001b[0;34m)\u001b[0m \u001b[0;32min\u001b[0m \u001b[0;34m[\u001b[0m\u001b[0mlist\u001b[0m\u001b[0;34m,\u001b[0m \u001b[0mtuple\u001b[0m\u001b[0;34m]\u001b[0m\u001b[0;34m:\u001b[0m\u001b[0;34m\u001b[0m\u001b[0;34m\u001b[0m\u001b[0m\n\u001b[1;32m     29\u001b[0m         \u001b[0;32mfor\u001b[0m \u001b[0mitem\u001b[0m \u001b[0;32min\u001b[0m \u001b[0mitems\u001b[0m\u001b[0;34m:\u001b[0m\u001b[0;34m\u001b[0m\u001b[0;34m\u001b[0m\u001b[0m\n\u001b[0;32m---> 30\u001b[0;31m             \u001b[0mform_in\u001b[0m \u001b[0;34m=\u001b[0m \u001b[0mget_form\u001b[0m\u001b[0;34m(\u001b[0m\u001b[0mitem\u001b[0m\u001b[0;34m)\u001b[0m\u001b[0;34m\u001b[0m\u001b[0;34m\u001b[0m\u001b[0m\n\u001b[0m\u001b[1;32m     31\u001b[0m             \u001b[0mhas_elements\u001b[0m \u001b[0;34m=\u001b[0m \u001b[0mdict_has\u001b[0m\u001b[0;34m[\u001b[0m\u001b[0mform_in\u001b[0m\u001b[0;34m]\u001b[0m\u001b[0;34m[\u001b[0m\u001b[0;34m\"elements\"\u001b[0m\u001b[0;34m]\u001b[0m\u001b[0;34m\u001b[0m\u001b[0;34m\u001b[0m\u001b[0m\n\u001b[1;32m     32\u001b[0m             \u001b[0mhas_coordinates\u001b[0m \u001b[0;34m=\u001b[0m \u001b[0mdict_has\u001b[0m\u001b[0;34m[\u001b[0m\u001b[0mform_in\u001b[0m\u001b[0;34m]\u001b[0m\u001b[0;34m[\u001b[0m\u001b[0;34m\"coordinates\"\u001b[0m\u001b[0;34m]\u001b[0m\u001b[0;34m\u001b[0m\u001b[0;34m\u001b[0m\u001b[0m\n",
      "\u001b[0;32m~/Myopt/miniconda3/envs/UIBCDF-Academia/lib/python3.7/site-packages/molsysmt/multitool/get_form.py\u001b[0m in \u001b[0;36mget_form\u001b[0;34m(molecular_system)\u001b[0m\n\u001b[1;32m     26\u001b[0m     \u001b[0;32mif\u001b[0m \u001b[0mtype\u001b[0m\u001b[0;34m(\u001b[0m\u001b[0mmolecular_system\u001b[0m\u001b[0;34m)\u001b[0m\u001b[0;34m==\u001b[0m\u001b[0mdict\u001b[0m\u001b[0;34m:\u001b[0m\u001b[0;34m\u001b[0m\u001b[0;34m\u001b[0m\u001b[0m\n\u001b[1;32m     27\u001b[0m \u001b[0;34m\u001b[0m\u001b[0m\n\u001b[0;32m---> 28\u001b[0;31m         \u001b[0;32mfrom\u001b[0m \u001b[0mmolsysmt\u001b[0m\u001b[0;34m.\u001b[0m\u001b[0mforms\u001b[0m\u001b[0;34m.\u001b[0m\u001b[0mclasses\u001b[0m\u001b[0;34m.\u001b[0m\u001b[0mapi_MolecularMechanicsDict\u001b[0m \u001b[0;32mimport\u001b[0m \u001b[0mthis_dict_is_MolecularMechanicsDict\u001b[0m\u001b[0;34m\u001b[0m\u001b[0;34m\u001b[0m\u001b[0m\n\u001b[0m\u001b[1;32m     29\u001b[0m         \u001b[0;32mfrom\u001b[0m \u001b[0mmolsysmt\u001b[0m\u001b[0;34m.\u001b[0m\u001b[0mforms\u001b[0m\u001b[0;34m.\u001b[0m\u001b[0mclasses\u001b[0m\u001b[0;34m.\u001b[0m\u001b[0mapi_MolecularMechanicsDict\u001b[0m \u001b[0;32mimport\u001b[0m \u001b[0mform_name\u001b[0m \u001b[0;32mas\u001b[0m \u001b[0mform_MolecularMechanicsDict\u001b[0m\u001b[0;34m\u001b[0m\u001b[0;34m\u001b[0m\u001b[0m\n\u001b[1;32m     30\u001b[0m         \u001b[0;32mfrom\u001b[0m \u001b[0mmolsysmt\u001b[0m\u001b[0;34m.\u001b[0m\u001b[0mforms\u001b[0m\u001b[0;34m.\u001b[0m\u001b[0mclasses\u001b[0m\u001b[0;34m.\u001b[0m\u001b[0mapi_SimulationDict\u001b[0m \u001b[0;32mimport\u001b[0m \u001b[0mthis_dict_is_SimulationDict\u001b[0m\u001b[0;34m\u001b[0m\u001b[0;34m\u001b[0m\u001b[0m\n",
      "\u001b[0;31mModuleNotFoundError\u001b[0m: No module named 'molsysmt.forms.classes.api_MolecularMechanicsDict'"
     ]
    }
   ],
   "source": [
    "distance = msm.distance(traj_dict, selection=0, selection_2=1, pbc=True)"
   ]
  },
  {
   "cell_type": "code",
   "execution_count": null,
   "id": "953f32fd-5bc4-43b0-bcb6-81b04de87c3a",
   "metadata": {},
   "outputs": [],
   "source": [
    "def occupation_probability_density_1d(traj_x, x_range, n_bins):\n",
    "    delta_x = (x_range[1]-x_range[0])/n_bins\n",
    "    frequency = np.zeros(n_bins, dtype=int)\n",
    "    for x in traj_x:\n",
    "        bin_visited = int((x-x_range[0])/delta_x)\n",
    "        frequency[bin_visited]+=1\n",
    "    x_bins_centers = (x_range[0]+0.5*delta_x) + delta_x*np.arange(n_bins)\n",
    "    bins_probability_density = (1.0/delta_x)*(frequency/frequency.sum())\n",
    "    return x_bins_centers, bins_probability_density"
   ]
  },
  {
   "cell_type": "code",
   "execution_count": null,
   "id": "ffc9f947-a060-4059-a551-3275b444938b",
   "metadata": {},
   "outputs": [],
   "source": [
    "x_center_bin, px = occupation_probability_density_1d(distance[:,0,0],\n",
    "                                                     [0.0,5.0]*unit.nanometers, 200)"
   ]
  },
  {
   "cell_type": "code",
   "execution_count": null,
   "id": "1b78d8d8-bde3-407f-a4f2-501c17f6a489",
   "metadata": {},
   "outputs": [],
   "source": [
    "plt.figure(figsize=[12,3])\n",
    "l_serie = np.linspace(0.000001, 5.0 , 500) * unit.nanometer\n",
    "plt.plot(l_serie, Pl_serie, label='Theory', color='red', linestyle='--', linewidth=1.0)\n",
    "plt.plot(x_center_bin, px, label='Trajectory')\n",
    "plt.legend()\n",
    "plt.show()"
   ]
  },
  {
   "cell_type": "code",
   "execution_count": null,
   "id": "07088f44-4970-466f-9cbc-ddf6a35f23d0",
   "metadata": {},
   "outputs": [],
   "source": [
    "Fx_traj = -KbT*np.log(px)\n",
    "\n",
    "plt.figure(figsize=[12,3])\n",
    "plt.plot(l_serie, Fl_theo.in_units_of(unit.kilocalories_per_mole),\n",
    "         label='Theory', color='red', linestyle='--', linewidth=1.0)\n",
    "plt.plot(x_center_bin, Fx_traj.in_units_of(unit.kilocalories_per_mole), label='Trajectory')\n",
    "\n",
    "plt.ylim([-2,6])\n",
    "plt.legend()\n",
    "plt.show()"
   ]
  },
  {
   "cell_type": "markdown",
   "id": "176e51b5-e3a0-4761-a69b-4c5562e9b880",
   "metadata": {},
   "source": [
    "Por último ya podemos calcular la energía libre de unión entre A y B en una caja cúbica de condiciones de contorno periódicas."
   ]
  },
  {
   "cell_type": "code",
   "execution_count": null,
   "id": "704e96e0-b2a0-4895-a788-c96f70795d17",
   "metadata": {},
   "outputs": [],
   "source": [
    "m = distance.shape[0]\n",
    "m_on = np.sum(distance<=lb)\n",
    "P_on_traj = m_on/m\n",
    "P_off_traj = 1.0 - P_on_traj"
   ]
  },
  {
   "cell_type": "code",
   "execution_count": null,
   "id": "68f485ae-0e6d-46f7-83b5-beba13d14ce8",
   "metadata": {},
   "outputs": [],
   "source": [
    "P_on_traj"
   ]
  },
  {
   "cell_type": "code",
   "execution_count": null,
   "id": "f9a93060-5475-49f8-81e8-06fb333babe7",
   "metadata": {},
   "outputs": [],
   "source": [
    "Fbinding_traj = - KbT*np.log(P_on_traj/P_off_traj)"
   ]
  },
  {
   "cell_type": "code",
   "execution_count": null,
   "id": "ee38dc86-a139-43b2-9419-0f348edbd5a4",
   "metadata": {},
   "outputs": [],
   "source": [
    "Fbinding_traj.in_units_of(unit.kilocalories_per_mole)"
   ]
  },
  {
   "cell_type": "markdown",
   "id": "7e85d763-eefb-4aee-952b-1b8bb0d54b36",
   "metadata": {},
   "source": [
    "Entre el valor teórico y la estimación obtenida de la simulación de 50 ns tenemos una discrepancia de:"
   ]
  },
  {
   "cell_type": "code",
   "execution_count": null,
   "id": "30bf8e43-62c1-4143-a0a1-57194fa37d7f",
   "metadata": {},
   "outputs": [],
   "source": [
    "Fbinding_traj.in_units_of(unit.kilocalories_per_mole) - Fbinding.in_units_of(unit.kilocalories_per_mole)"
   ]
  },
  {
   "cell_type": "markdown",
   "id": "475beb91-18dd-4297-8c72-f2a2c411853b",
   "metadata": {},
   "source": [
    "Para terminar unas últimas preguntas:\n",
    "- Si observas el gráfico de la densidad de probabilidad de la distancia entre A y B, $P(l)$, verás que hay un mínimo entre 2 y 3 nm. Existe una distancia más probable entre A y B cuando están disociadas ¿Cúal es la interacción que estabiliza esa conformación?¿Si no hay contribución entálpica, será que estamos hablando de la conformación más entrópica? Así que vemos entonces que tenemos dos mínimos de la energía libre. En este caso uno, en el estado 'ON', básicamente entálpico y muy poco entrópico. Y otro, en el estado 'OFF', completamente entrópico.\n",
    "- ¿Depende la energía libre de unión entre A y B del tamaño de la caja? ¿Dependerá entonces la energía libre de unión de la concentración? Si no variamos el tamaño de la caja, pero ponemos otra partícula A y otra B. ¿Tendrá el sistema una energía libre de unión distinta?\n",
    "- ¿A qué crees que se debe la discrepancia de 0.1 kcal/mol entre la estimación de la energía libre de unión de la simulación y el cálculo de mecánica estadística?¿Es mucho?¿Cuanto es 1 kcal/mol?¿Qué podemos hacer con esa energía libre?"
   ]
  },
  {
   "cell_type": "code",
   "execution_count": null,
   "id": "0d2044e7-864f-4e6a-8baf-c43399fb0add",
   "metadata": {},
   "outputs": [],
   "source": []
  }
 ],
 "metadata": {
  "kernelspec": {
   "display_name": "Python 3 (ipykernel)",
   "language": "python",
   "name": "python3"
  },
  "language_info": {
   "codemirror_mode": {
    "name": "ipython",
    "version": 3
   },
   "file_extension": ".py",
   "mimetype": "text/x-python",
   "name": "python",
   "nbconvert_exporter": "python",
   "pygments_lexer": "ipython3",
   "version": "3.7.10"
  }
 },
 "nbformat": 4,
 "nbformat_minor": 5
}
