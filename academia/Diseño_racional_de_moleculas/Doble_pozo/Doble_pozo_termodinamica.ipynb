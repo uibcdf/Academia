{
 "cells": [
  {
   "cell_type": "code",
   "execution_count": 1,
   "id": "1b0f934c-0907-41ce-900a-167875632405",
   "metadata": {},
   "outputs": [],
   "source": [
    "import numpy as np\n",
    "import simtk.unit as unit\n",
    "import matplotlib.pyplot as plt\n",
    "import openmolecularsystems as oms"
   ]
  },
  {
   "cell_type": "markdown",
   "id": "c5c4f01a-2833-491a-a575-ad00e912d261",
   "metadata": {},
   "source": [
    "# Predicción de la termodinámica desde la mecánica estadística"
   ]
  },
  {
   "cell_type": "markdown",
   "id": "6fe99b84-09a4-4756-8c24-2ea7af2656e7",
   "metadata": {},
   "source": [
    "En el argot de la mecánica estadística, los procesos estocásticos, y la simulación de dinámica molecular, hablamos de termodinámica cuando nos referimos al conjunto de observables que no depende del tiempo. Por ejemplo, la distancia promedio entre dos átomos, la probabilidad de que se forme un puente de hidrógeno entre una cadena lateral y una molécula de agua o la constante de disociación de un ligando y un receptor. No quiere decir que dicha distancia, dicho puente de hidrógeno o dicho complejo receptor-ligando, no vaya a variar con el tiempo. De hecho lo hacen. Pero los observables a los que nos estamos refiriendo tienen un valor no relacionado con el tiempo. De hecho si el universo en el que medimos tiene una población lo suficentemente grande de sistemas (infinito, en teoría), podemos realizar una medida instantaneamente y obtener el valor de estos observables de la medida tomada a toda la población. Ésta sera igual que la que obtendremos de observar un único sistema durante un tiempo suficientemente largo (infinito, en teoría). Sabemos por lo tanto que la capacidad de medir estos observables no depende de cuantas veces midamos a durante cuanto tiempo. La precisión o la fiabilidad del valor obtenido si depende, pero la capacidad de medirlos no. Un ejemplo de observables que dependen del tiempo serían el tiempo de vida media del puente de hidrógeno, la constante de difusión de la molécula de agua o la constante cinética de formación o ruptura del complejo recetor-ligando. Cuando nos referimos a estos últimos observables estamos hablando de cinética, no de termodinámica. Y en este caso la capacidad de medirlos si depende de cuando medimos y durante cuanto tiempo.\n",
    "\n",
    "Para entender a continuación qué tiene que ver la termodinámica con el valor esperado de una distancia entre átomos tomemos como ejemplo nuestro doble pozo con los parámetros usados en las unidades anteriores.\n",
    "\n",
    "\\begin{equation}\n",
    "V(x,y,z)=E_{0}\\left[ \\left(\\frac{x}{a}\\right)^4 -2\\left(\\frac{x}{a}\\right)^2 \\right]-\\frac{b}{a}x + \\frac{1}{2}k\\left( y^2 + z^2 \\right)\n",
    "\\end{equation}"
   ]
  },
  {
   "cell_type": "code",
   "execution_count": 2,
   "id": "ece8d325-46f5-4600-8acb-47aad7712f34",
   "metadata": {},
   "outputs": [],
   "source": [
    "# Sistema\n",
    "mass = 35.453 * unit.amu\n",
    "\n",
    "# Potential externo\n",
    "Eo = 3.0 * unit.kilocalories_per_mole\n",
    "a = 0.5 * unit.nanometers\n",
    "b = 0.5 * unit.kilocalories_per_mole\n",
    "k = 1.0*unit.kilocalories_per_mole/unit.angstrom**2\n",
    "\n",
    "# Estado termodinámico\n",
    "temperature=300.0*unit.kelvin"
   ]
  },
  {
   "cell_type": "code",
   "execution_count": 3,
   "id": "e05fea56-f3a3-4684-90f4-c4b6e769fba0",
   "metadata": {},
   "outputs": [],
   "source": [
    "osystem = oms.DoubleWell(mass=mass, Eo=Eo, a=a, b=b, k=k)"
   ]
  },
  {
   "cell_type": "code",
   "execution_count": 58,
   "id": "ee373cbf-6e3a-4246-924b-a5f755ccc12c",
   "metadata": {},
   "outputs": [
    {
     "data": {
      "image/png": "[encoded data removed]",
      "text/plain": [
       "<Figure size 432x288 with 1 Axes>"
      ]
     },
     "metadata": {
      "needs_background": "light"
     },
     "output_type": "display_data"
    }
   ],
   "source": [
    "xyz_serie = np.zeros([200,3]) * unit.nanometers\n",
    "xyz_serie[:,0] = np.linspace(-1.0, 1.0, num=200) * unit.nanometers\n",
    "\n",
    "potential = osystem.evaluate_potential(xyz_serie)\n",
    "\n",
    "plt.plot(xyz_serie[:,0], potential, 'r-')\n",
    "plt.ylim(-4,10)\n",
    "plt.xlim(-1,1)\n",
    "plt.grid()\n",
    "plt.xlabel(\"X ({})\".format(unit.nanometers))\n",
    "plt.ylabel(\"Energy ({})\".format(unit.kilocalories_per_mole))\n",
    "plt.show()"
   ]
  },
  {
   "cell_type": "markdown",
   "id": "31b2a0b8-412e-4d27-aa62-871abd36a1d8",
   "metadata": {},
   "source": [
    "Se puede demostrar que la probabilidad de que un sistema molecular visite un estado de su espacio de fases -el espacio de posiciones y velocidades-, determinado por las posiciones y velocidades de todos sus átomos, está pesada por -es proporcional a- el peso de Boltzmann o función de partición:\n",
    "\n",
    "\\begin{equation}\n",
    "z(\\vec{r},\\vec{v}) = e^{-\\frac{1}{K_{B}T} U(\\vec{r},\\vec{v})}\n",
    "\\end{equation}\n",
    "\n",
    "Donde $K_{B}$ es una constante -la constante de Boltzmann-, $T$ es la temperatura, y $U(\\vec{r},\\vec{v})$ es la energía total del sistema en dicho estado (la energía expresada por el Hamiltoniano):\n",
    "\n",
    "\\begin{equation}\n",
    "U(\\vec{r},\\vec{v}) = V(\\vec{r}) + T(\\vec{v})\n",
    "\\end{equation}\n",
    "\n",
    "donde el término de la energía potencial es\n",
    "\n",
    "\\begin{equation}\n",
    "V(\\vec{r}) = E_{0}\\left[ \\left(\\frac{x}{a}\\right)^4 -2\\left(\\frac{x}{a}\\right)^2 \\right]-\\frac{b}{a}x + \\frac{1}{2}k\\left( y^2 + z^2 \\right)\n",
    "\\end{equation}\n",
    "\n",
    "y el término de la energía cinética es\n",
    "\n",
    "\\begin{equation}\n",
    "T(\\vec{v}) = \\frac{1}{2} m \\left( v_{x}^2 + v_{y}^2 + v_{z}^2 \\right)\n",
    "\\end{equation}"
   ]
  },
  {
   "cell_type": "markdown",
   "id": "eb94e074-b355-411a-893c-aa89177c3554",
   "metadata": {},
   "source": [
    "## ¿Qué es un estado?\n",
    "\n",
    "Un estado es un punto o una región del espacio de coordenadas y velocidades del sistema. Cuando hablamos de un punto, solemos referirnos a ese estado como \"microestado\". Y cuando hablamos de una región solemos referirnos a ese fragmento del espacio de fases como \"estado\" o \"macroestado\". Y ya que estamos, la gran mayoría de ocasiones en las que manejarás estos términos será sin especificar las velocidades. Darás por entendido que quieres conocer ciertas circunstancias del sistema dadas por sus coordenadas, sin importar qué velocidades lleven sus átomos. Así que si nos dan igual las velocidades, si como se dice técnicamente vamos a integrar fuera el espacio de velocidades, estaremos circunscribiendonos no al espacio de fases (de coordenadas y velocidades) sino al espacio conformacional (de coordenadas).\n",
    "\n",
    "Veamos ejemplos de estados cuando hablamos del doble pozo unidimensional. En primer lugar un microestado del espacio de fases:\n",
    "\n",
    "\\begin{equation}\n",
    "\\{\\vec{r}=(0.0, 0.0, 0.0)\\: \\rm{nm};\\: \\vec{v}=(1.0, 0.0, 0.0)\\: \\rm{nm/ps}\\}\n",
    "\\end{equation}\n",
    "\n",
    "Ahora un microestado definido únicamente en el espacio conformacional o de coordenadas:\n",
    "\n",
    "\\begin{equation}\n",
    "\\{\\vec{r}=(-0.2, -0.2, -0.2)\\: \\rm{nm};\\: -\\infty<v_{i}<\\infty \\: \\rm{nm/ps} \\:\\rm{donde}\\: i=x,y,z\\}\n",
    "\\end{equation}\n",
    "\n",
    "Ahora un estado definido como una región del espacio de coordenadas:\n",
    "\n",
    "\\begin{equation}\n",
    "\\{0 \\leq x<0.5\\: \\rm{nm}, -\\infty<i<\\infty \\: \\rm{nm} \\:\\rm{donde}\\: i=y,z;\\: -\\infty<v_{j}<\\infty \\: \\rm{nm/ps} \\:\\rm{donde}\\: j=x,y,z\\}\n",
    "\\end{equation}\n",
    "\n",
    "## ¿Cómo calculamos la probabilidad absoluta de un estado?\n",
    "\n",
    "Y ahora calculemos la probabilidad de cada uno de los anteriores estados. ¿Cómo calculamos una probabilidad si conocemos su peso? Pongamos un ejemplo sencillo. Imagina que tiramos un dado de seis caras 100 veces para inferir el peso de cada número. Esta es la frecuencia obtenida para cada cara:\n",
    "\n",
    "|lado | 1 | 2 | 3 | 4 | 5 | 6 |\n",
    "| -- | -- | -- | -- | -- | -- | -- |\n",
    "|frequencia | 16 | 14 | 18 | 12 | 23 | 17 |\n",
    "\n",
    "Para conocer la probabilidad de que el dado caiga mostrando un cierto número $n$ dividimos el peso de dicho número $w(n)$ para el peso total de todos los números. Y si pensamos que la frecuencia $f$ de aparición de cada lado es proporcional al peso, la probabilidad de $n$ es:\n",
    "\n",
    "\\begin{equation}\n",
    "P(n) = \\frac{w(n)}{\\sum_{i} w(i)} = \\frac{f_n}{\\sum_{i} f_i}\n",
    "\\end{equation}\n",
    "\n",
    "Así por ejemplo la probabilidad del lado $3$ estimamos de nuestro experimento que es $18.0/100.0$. A esta probabilidad la llamamos probabilidad absoluta.\n",
    "\n",
    "No te resulta extraño entonces que necesitemos conocer la suma de los pesos de todos los estados posibles de nuestro sistema molecular para determinar la probabilidad de aparición de un determinado estado:\n",
    "\n",
    "\\begin{equation}\n",
    "P(\\vec{r}, \\vec{v}) = \\frac{z(\\vec{r}, \\vec{v})}{Z}\n",
    "\\end{equation}\n",
    "\n",
    "donde la función de partición o peso de Boltzmann del estado es\n",
    "\n",
    "\\begin{equation}\n",
    "z(\\vec{r}, \\vec{v}) = e^{-\\frac{1}{K_{B}T} U(\\vec{r},\\vec{v})}\n",
    "\\end{equation}\n",
    "\n",
    "y la función de partición total\n",
    "\n",
    "\\begin{equation}\n",
    "Z = \\int_{-\\infty}^{\\infty} \\int_{-\\infty}^{\\infty} e^{-\\frac{1}{K_{B}T} U(\\vec{r},\\vec{v})} d\\vec{r} d\\vec{v}\n",
    "\\end{equation}"
   ]
  },
  {
   "cell_type": "markdown",
   "id": "c8c02fcb-abef-408e-825e-a613bf51286c",
   "metadata": {},
   "source": [
    "Vamos a aterrizar sobre nuestro caso de doble pozo la aplicación de estas ecuaciones. Veamos en primer lugar la probabilidad de que la partícula se encuentre en $\\vec{r}=(0.0, 0.0, 0.0)$ con velocidad $\\vec{v}=(1.0, 0.0, 0.0)$. En primer lugar calculemos la función de partición total del sistema.\n",
    "\n",
    "\\begin{equation}\n",
    "Z = \\int_{-\\infty}^{\\infty} \\int_{-\\infty}^{\\infty} e^{-\\frac{1}{K_{B}T} U(\\vec{r},\\vec{v})} d\\vec{r} d\\vec{v}\n",
    "= \\int_{-\\infty}^{\\infty} \\int_{-\\infty}^{\\infty} e^{-\\frac{1}{K_{B}T} (V(\\vec{r})+T(\\vec{v}))} d\\vec{r} d\\vec{v}\n",
    "= \\int_{-\\infty}^{\\infty} e^{-\\frac{1}{K_{B}T} V(\\vec{r})} d\\vec{r} \\cdot \\int_{-\\infty}^{\\infty} e^{-\\frac{1}{K_{B}T} T(\\vec{v})} d\\vec{v}\n",
    "\\end{equation}\n",
    "\n",
    "La función de partición total del sistema puede, dado que la parte del potencial no depende de las velocidades, puede entonces descomponerse en un producto de dos integrales que llamaremos $Z_{V}$ y $Z_{T}$:\n",
    "\n",
    "\\begin{equation}\n",
    "Z = Z_{V}Z_{T}\n",
    "\\end{equation}\n",
    "\n",
    "con\n",
    "\n",
    "\\begin{align}\n",
    "Z_{V} = \\int_{-\\infty}^{\\infty} e^{-\\frac{1}{K_{B}T} V(\\vec{r})} d\\vec{r}\\\\ \\\\\n",
    "Z_{T} = \\int_{-\\infty}^{\\infty} e^{-\\frac{1}{K_{B}T} T(\\vec{v})} d\\vec{v}\n",
    "\\end{align}\n",
    "\n",
    "Vamos en primer lugar a resolver $Z_{T}$:\n",
    "\n",
    "\\begin{equation}\n",
    "Z_{T} = \\int_{-\\infty}^{\\infty} e^{-\\frac{1}{K_{B}T} T(\\vec{v})} d\\vec{v} =\n",
    "\\int_{-\\infty}^{\\infty} e^{-\\frac{1}{K_{B}T} \\frac{1}{2} m v_{x}^{2}} dv_{x}\n",
    "\\int_{-\\infty}^{\\infty} e^{-\\frac{1}{K_{B}T} \\frac{1}{2} m v_{y}^{2}} dv_{y}\n",
    "\\int_{-\\infty}^{\\infty} e^{-\\frac{1}{K_{B}T} \\frac{1}{2} m v_{z}^{2}} dv_{z}\n",
    "\\end{equation}\n",
    "\n",
    "Ahora hemos puesto $Z_{T}$ como producto de tres funciones de partición según $v_{x}$, $v_{y}$ o $v_{z}$:\n",
    "\n",
    "\\begin{equation}\n",
    "Z_{T} = Z_{T_{v_{x}}} Z_{T_{v_{y}}} Z_{T_{v_{z}}}\n",
    "\\end{equation}\n",
    "\n",
    "donde\n",
    "\n",
    "\\begin{equation}\n",
    "Z_{T_{v_{i}}} = \\int_{-\\infty}^{\\infty} e^{-\\frac{1}{K_{B}T} \\frac{1}{2} m v_{i}^{2}} dv_{i} \\; \\; \\rm{con} \\; i=x, y, z \n",
    "\\end{equation}\n",
    "\n",
    "Cada una de las integrales para $v_{x}$, $v_{y}$ y $v_{z}$ son solubles analíticamente. De hecho se trata de una integral muy popular conocida por los nombres integral Gaussiana o de Euler–Poisson:\n",
    "\n",
    "\\begin{equation}\n",
    "\\int_{-\\infty}^{\\infty} e^{-ax^{2}} dx = \\sqrt{\\frac{\\pi}{a}}\n",
    "\\end{equation}\n",
    "\n",
    "Así que ya tenemos valor para $Z_{T}$:\n",
    "\n",
    "\\begin{equation}\n",
    "Z_{T} = \\left(\\frac{2\\pi K_{B}T}{m}\\right)^{3/2}\n",
    "\\end{equation}\n",
    "\n",
    "Vamos ahora con $Z_{V}$, de nuevo podemos abordar su cálculo de la misma manera, como producto de tres términos:\n",
    "\n",
    "\\begin{align}\n",
    "Z_{V} = \\int_{-\\infty}^{\\infty} e^{-\\frac{1}{K_{B}T} V(\\vec{r})} d\\vec{r} = Z_{V_{x}} Z_{V_{y}} Z_{V_{z}}\n",
    "\\end{align}\n",
    "\n",
    "donde\n",
    "\n",
    "\\begin{align}\n",
    "Z_{V_{x}} = \\int_{-\\infty}^{\\infty} e^{-\\frac{1}{K_{B}T} E_{0}\\left[ \\left(\\frac{x}{a}\\right)^4 -2\\left(\\frac{x}{a}\\right)^2 \\right]-\\frac{b}{a}x} d\\vec{x}\n",
    "\\end{align}\n",
    "\n",
    "y\n",
    "\n",
    "\\begin{equation}\n",
    "Z_{V_{i}} = \\int_{-\\infty}^{\\infty} e^{-\\frac{1}{K_{B}T} \\frac{1}{2} k i^{2}} di \\; \\; \\rm{con} \\; i=y, z \n",
    "\\end{equation}\n",
    "\n",
    "Vemos que las funciones de partición $Z_{V_{y}}$ y $Z_{V_{z}}$ corresponden a los potenciales armónicos en los ejes $Y$ y $Z$, y por lo tanto son integrales Gaussianas con solución analítica:\n",
    "\n",
    "\\begin{equation}\n",
    "Z_{V_{y}} = Z_{V_{z}} = \\sqrt{\\frac{2\\pi K_{B}T}{k}}\n",
    "\\end{equation}\n",
    "\n",
    "Ya casi podemos resolver:\n",
    "\n",
    "\\begin{equation}\n",
    "Z = Z_{V_{x}} Z_{V_{y}} Z_{V_{z}} Z_{T_{v_{x}}} Z_{T_{v_{y}}} Z_{T_{v_{z}}} =\n",
    "Z_{V_{x}} \\left(\\frac{2\\pi K_{B}T}{k}\\right) \\left(\\frac{2\\pi K_{B}T}{m}\\right)^{3/2}\n",
    "\\end{equation}\n",
    "\n",
    "Sólo nos resta obtener el valor de $Z_{V_{x}}$, el problema es que no tiene una resolución analítica sencilla, así que la resolveremos numéricamente."
   ]
  },
  {
   "cell_type": "code",
   "execution_count": 5,
   "id": "a631a324-cdcf-4332-b36c-ff36496e22fc",
   "metadata": {},
   "outputs": [
    {
     "data": {
      "text/plain": [
       "Quantity(value=1.380649e-23, unit=joule/kelvin)"
      ]
     },
     "execution_count": 5,
     "metadata": {},
     "output_type": "execute_result"
    }
   ],
   "source": [
    "unit.constants.BOLTZMANN_CONSTANT_kB"
   ]
  },
  {
   "cell_type": "code",
   "execution_count": 6,
   "id": "4c0e58a5-73f1-4969-ae51-7d0542e734b5",
   "metadata": {},
   "outputs": [],
   "source": [
    "Eo = 3.0 * unit.kilocalories_per_mole\n",
    "a = 0.5 * unit.nanometers\n",
    "b = 0.5 * unit.kilocalories_per_mole\n",
    "k = 1.0*unit.kilocalories_per_mole/unit.angstrom**2\n",
    "KbT = unit.BOLTZMANN_CONSTANT_kB * unit.AVOGADRO_CONSTANT_NA * 300.0*unit.kelvin\n",
    "\n",
    "def zVx (x):\n",
    "    \n",
    "    global Eo, a, b, k, KbT\n",
    "    \n",
    "    x_aux = x/a\n",
    "    Vx =  Eo * (x_aux**4 - 2*x_aux**2) - b*x_aux\n",
    "\n",
    "    return np.exp(-Vx/KbT)\n",
    "    \n",
    "    \n",
    "def integral_numerica_1D (f, lim_inf, lim_sup, n_bins):\n",
    "    \n",
    "    delta_x = (lim_sup - lim_inf)/n_bins\n",
    "    \n",
    "    x = lim_inf\n",
    "\n",
    "    for ii in range(1,n_bins):\n",
    "        try:\n",
    "            output += f(x)*delta_x\n",
    "        except:\n",
    "            output = f(x)*delta_x\n",
    "        x += delta_x\n",
    "    \n",
    "    return output"
   ]
  },
  {
   "cell_type": "code",
   "execution_count": 29,
   "id": "c6d1c859-0c33-4d59-afe4-5ff01d71651d",
   "metadata": {},
   "outputs": [],
   "source": [
    "ZVx = integral_numerica_1D(zVx, -1.0*unit.nanometer, 1.0*unit.nanometer, 1000)"
   ]
  },
  {
   "cell_type": "code",
   "execution_count": 30,
   "id": "35ac5040-ac11-467f-afbc-8f026805329c",
   "metadata": {},
   "outputs": [
    {
     "data": {
      "text/plain": [
       "Quantity(value=86.01243401443949, unit=nanometer)"
      ]
     },
     "execution_count": 30,
     "metadata": {},
     "output_type": "execute_result"
    }
   ],
   "source": [
    "ZVx"
   ]
  },
  {
   "cell_type": "markdown",
   "id": "1aabe6c2-9d99-4333-9f4c-2b1aeff05626",
   "metadata": {},
   "source": [
    "Nota: Explicar por qué tiene dimensiones y por qué tomo limites -1 y 1."
   ]
  },
  {
   "cell_type": "markdown",
   "id": "015995c8-1c69-442a-94c8-022c724de0c4",
   "metadata": {},
   "source": [
    "Así que ya podemos determinar el valor \"de la suma de pesos de todos los estados posibles\", el valor de la función de partición total:"
   ]
  },
  {
   "cell_type": "code",
   "execution_count": 31,
   "id": "5ca0eeec-d80b-4c54-a56d-c8b5d48f6c35",
   "metadata": {},
   "outputs": [],
   "source": [
    "ZVy = np.sqrt(2.0*np.pi*KbT/k)\n",
    "ZVz = ZVy\n",
    "ZTvx = np.sqrt(2.0*np.pi*KbT/mass)\n",
    "ZTvy = ZTvx\n",
    "ZTvz = ZTvx"
   ]
  },
  {
   "cell_type": "code",
   "execution_count": 32,
   "id": "21f1c011-1c5a-4a66-902f-044352103ea9",
   "metadata": {},
   "outputs": [],
   "source": [
    "Z = ZVx*ZVy*ZVz*ZTvx*ZTvy*ZTvz"
   ]
  },
  {
   "cell_type": "code",
   "execution_count": 33,
   "id": "f9bf1dc2-23d8-42d0-8cde-6cac90a023af",
   "metadata": {},
   "outputs": [
    {
     "data": {
      "text/plain": [
       "Quantity(value=9.469528297365887e+35, unit=nanometer**6/(second**3))"
      ]
     },
     "execution_count": 33,
     "metadata": {},
     "output_type": "execute_result"
    }
   ],
   "source": [
    "Z"
   ]
  },
  {
   "cell_type": "markdown",
   "id": "60d0a119-3fee-4f71-9064-f8b0b4705ae5",
   "metadata": {},
   "source": [
    "Explicar de nuevo el tema de las dimensiones."
   ]
  },
  {
   "cell_type": "markdown",
   "id": "69f394ce-7864-4c48-ba7a-ecd7f82a8cec",
   "metadata": {},
   "source": [
    "Ya podríamos calcular la probabilidad del estado $\\begin{equation}\n",
    "\\{\\vec{r}=(0.0, 0.0, 0.0)\\: \\rm{nm};\\: \\vec{v}=(1.0, 0.0, 0.0)\\: \\rm{nm/ps}\\}\n",
    "\\end{equation}$ como:\n",
    "\n",
    "\\begin{equation}\n",
    "P(\\vec{r}=(0.0, 0.0, 0.0)\\: \\rm{nm};\\: \\vec{v}=(1.0, 0.0, 0.0)\\: \\rm{nm/ps}) = \\frac{1}{Z} e^{-\\frac{m}{2K_{B}T}} \\: dx\\: dy\\: dz\\: dv_{x}\\: dv_{y}\\: dv_{z}\n",
    "\\end{equation}"
   ]
  },
  {
   "cell_type": "markdown",
   "id": "edb4871f-3817-4bec-9c02-e6c48c716a67",
   "metadata": {},
   "source": [
    "Nota que hemos añadido el elemento de volumen infinitesimal $dx\\: dy\\: dz\\: dv_{x}\\: dv_{y}\\: dv_{z}$. La probabilidad de encontrar al sistema en un punto infinitesimal es por definición cero. Así que, para poder converte de que la mecánica estadística funciona y podemos comparar las probabilidades con los resultados de nuestra dinámica de Langevin, o de que la dinámica de Langevin funciona y su resultado es comparable con lo calculado mediante mecánica estadística. Calculemos la probabilidad de que nuestra partícula se encuentra en lo que en las unidades anteriores hemos definido como estado \"on\" ($x\\leq x_{b}$ donde $x_{b}$ es la coordenada de la barrera en el eje $X$):"
   ]
  },
  {
   "cell_type": "markdown",
   "id": "34732238-f83c-44f1-a298-cec0d41a69cd",
   "metadata": {},
   "source": [
    "\\begin{align}\n",
    "P(x\\leq x_{b}) = & \\frac{1}{Z} \\int_{-\\infty}^{x_{b}} \\int_{-\\infty}^{\\infty} \\int_{-\\infty}^{\\infty}\n",
    "\\int_{-\\infty}^{\\infty} \\int_{-\\infty}^{\\infty} \\int_{-\\infty}^{\\infty}\n",
    "e^{-\\frac{1}{K_{B}T}(V_{x}(x)+V_{y}(y)+V_{z}(z)+T_{v_{x}}(v_{x})+T_{v_{y}}(v_{y})+T_{v_{z}}(v_{z}))} \\: dx\\: dy\\: dz\\: dv_{x}\\: dv_{y}\\: dv_{z}\n",
    "\\\\\n",
    "= &  \\frac{1}{Z} \\int_{-\\infty}^{x_{b}} e^{-\\frac{1}{K_{B}T} V_{x}(x)} \\: dx\\:\n",
    "\\int_{-\\infty}^{\\infty} e^{-\\frac{1}{K_{B}T} V_{y}(y)} \\: dy\\:\n",
    "\\int_{-\\infty}^{\\infty} e^{-\\frac{1}{K_{B}T} V_{z}(z)} \\: dz\\:\n",
    "\\int_{-\\infty}^{\\infty} e^{-\\frac{1}{K_{B}T} T_{v_{x}}} \\: dv_{x}\\:\n",
    "\\int_{-\\infty}^{\\infty} e^{-\\frac{1}{K_{B}T} T_{v_{y}}} \\: dv_{y}\\:\n",
    "\\int_{-\\infty}^{\\infty} e^{-\\frac{1}{K_{B}T} T_{v_{z}}} \\: dv_{z}\\: \n",
    "\\\\\n",
    "= &  \\frac{Z_{V_{y}} Z_{V_{z}} Z_{T_{v_{x}}} Z_{T_{v_{y}}} Z_{T_{v_{z}}}}{Z_{V_{x}} Z_{V_{y}} Z_{V_{z}} Z_{T_{v_{x}}} Z_{T_{v_{y}}} Z_{T_{v_{z}}}} \\int_{-\\infty}^{x_{b}} e^{-\\frac{1}{K_{B}T} V_{x}(x)} \\: dx \n",
    "\\\\\n",
    "= &  \\frac{1}{Z_{V_{x}}} \\int_{-\\infty}^{x_{b}} e^{-\\frac{1}{K_{B}T} V_{x}(x)} \\: dx\n",
    "\\end{align}"
   ]
  },
  {
   "cell_type": "markdown",
   "id": "ee4b49a3-6e78-48fc-bacf-a21f6d59c279",
   "metadata": {},
   "source": [
    "Antes de seguir, un comentario. Como ves, cuando la exponencial factoriza como producto de una exponencial que depende únicamente de $x$, otra que depende únicamente de $y$ y otra de $z$, los sucedido en $x$ no depende de lo que sucede en $y$ y en $z$. Dicho de otra manera, cuando el potencial tiene sumandos que dependen de $x$, otros de $y$ y otros de $z$; cuando no aparecen términos cruzados como $xy$ o $xz$, la probabilidad de un estado únicamente definido en la $X$ no depende de dónde esté la partícula en el plano $YZ$. Es por eso que en estas unidades estamos simulando una partícula en tres dimensiones y recurrentemente sólo analizamos lo que sucede en $X$. Podríamos hacer una simulación unidimensional, sólo del doble pozo en $X$, y el resultado sería exactamente el mismo. \n",
    "\n",
    "Veamos ahora la probabilidad de que la partícula se encuentre en el estado \"on\":"
   ]
  },
  {
   "cell_type": "code",
   "execution_count": 34,
   "id": "8bb37d62-ba7b-412c-9ae3-434bdde959b9",
   "metadata": {},
   "outputs": [],
   "source": [
    "xb = osystem.get_coordinates_maximum()[0][0]"
   ]
  },
  {
   "cell_type": "code",
   "execution_count": 35,
   "id": "60f53558-4658-4df6-a9fd-1582a384e493",
   "metadata": {},
   "outputs": [
    {
     "data": {
      "text/plain": [
       "Quantity(value=-0.020869692013621984, unit=nanometer)"
      ]
     },
     "execution_count": 35,
     "metadata": {},
     "output_type": "execute_result"
    }
   ],
   "source": [
    "xb"
   ]
  },
  {
   "cell_type": "code",
   "execution_count": 36,
   "id": "2a7b6855-0f39-4b11-bd29-8c147759c2e3",
   "metadata": {},
   "outputs": [],
   "source": [
    "zVx_estado = integral_numerica_1D(zVx, -1.0*unit.nanometer, xb, 1000)\n",
    "ZVx = integral_numerica_1D(zVx, -1.0*unit.nanometer, 1.0*unit.nanometer, 1000)\n",
    "Pe_on_teorico = zVx_estado/ZVx"
   ]
  },
  {
   "cell_type": "code",
   "execution_count": 37,
   "id": "d6868717-a882-4dc8-b285-9d34f0b9c623",
   "metadata": {},
   "outputs": [
    {
     "name": "stdout",
     "output_type": "stream",
     "text": [
      "0.168776403296876\n"
     ]
    }
   ],
   "source": [
    "print(Pe_on_teorico)"
   ]
  },
  {
   "cell_type": "code",
   "execution_count": 38,
   "id": "22cf5268-7c91-4a83-9478-6b2b02ef677b",
   "metadata": {},
   "outputs": [
    {
     "data": {
      "text/plain": [
       "0.8312235967031241"
      ]
     },
     "execution_count": 38,
     "metadata": {},
     "output_type": "execute_result"
    }
   ],
   "source": [
    "1-Pe_on_teorico"
   ]
  },
  {
   "cell_type": "code",
   "execution_count": 42,
   "id": "12e968f6-63ac-403e-961e-daebee5ddfe5",
   "metadata": {},
   "outputs": [],
   "source": [
    "Ka=Pe_on_teorico/(1-Pe_on_teorico)"
   ]
  },
  {
   "cell_type": "code",
   "execution_count": 44,
   "id": "475df40c-86ca-4903-9434-ca0712531734",
   "metadata": {},
   "outputs": [
    {
     "data": {
      "text/plain": [
       "4.924998877011321"
      ]
     },
     "execution_count": 44,
     "metadata": {},
     "output_type": "execute_result"
    }
   ],
   "source": [
    "1/Ka"
   ]
  },
  {
   "cell_type": "markdown",
   "id": "4d784e19-db33-465b-9c7b-b7e738c98479",
   "metadata": {},
   "source": [
    "Veamos como efectivamente el valor de $P^{e}_{on}$ que calculamos de una simulación lo suficientemente larga converge al valor obtenido mediante mecánica estadística. Igual que hicimos en la unidad anterior:"
   ]
  },
  {
   "cell_type": "code",
   "execution_count": 45,
   "id": "feefe5c9-8d17-4907-9174-3ac81d279912",
   "metadata": {},
   "outputs": [
    {
     "name": "stderr",
     "output_type": "stream",
     "text": [
      "100%|███████████████████████████████████████████████████████████████████████████████████████████████████| 10000000/10000000 [03:08<00:00, 53048.34it/s]\n"
     ]
    }
   ],
   "source": [
    "initial_positions = np.zeros([1,3]) * unit.nanometers\n",
    "\n",
    "time=1000*unit.nanoseconds\n",
    "saving_timestep=10.0*unit.picoseconds\n",
    "integration_timestep=0.1*unit.picoseconds\n",
    "friction=1.0/unit.picoseconds\n",
    "\n",
    "reporter = oms.tools.md.langevin_NVT(osystem, time=time, saving_timestep=saving_timestep,\n",
    "                                     integration_timestep=integration_timestep,\n",
    "                                     temperature=temperature, friction=friction,\n",
    "                                     initial_coordinates=initial_positions,\n",
    "                                     platform_name='CUDA')"
   ]
  },
  {
   "cell_type": "code",
   "execution_count": 46,
   "id": "c1acc603-9527-438d-b46a-7ab01b19d26d",
   "metadata": {},
   "outputs": [],
   "source": [
    "traj_x = reporter['coordinates'][:,0,0]\n",
    "M = traj_x.shape[0]\n",
    "traj_is_on = (traj_x<=xb)\n",
    "\n",
    "Pe_on_in_time = np.zeros([M])\n",
    "\n",
    "for frame_index in range(M):\n",
    "    m_on_aux = np.sum(traj_is_on[:frame_index])\n",
    "    Pe_on_in_time[frame_index] = m_on_aux/(frame_index+1)\n",
    "\n",
    "Pe_off_in_time = 1.0 - Pe_on_in_time"
   ]
  },
  {
   "cell_type": "code",
   "execution_count": 47,
   "id": "1e9136ab-cd41-48ea-9edb-7107186743e6",
   "metadata": {},
   "outputs": [
    {
     "data": {
      "image/png": "[encoded data removed]",
      "text/plain": [
       "<Figure size 864x216 with 1 Axes>"
      ]
     },
     "metadata": {
      "needs_background": "light"
     },
     "output_type": "display_data"
    }
   ],
   "source": [
    "plt.figure(figsize=(12,3))\n",
    "plt.plot(reporter['time'].in_units_of(unit.nanoseconds), Pe_on_in_time)\n",
    "plt.hlines(Pe_on_teorico,0,1000, linestyle=':', color='red')\n",
    "plt.ylabel('$P^e_on$'.format(reporter['coordinates'].unit))\n",
    "plt.xlabel('time ({})'.format(unit.nanoseconds))\n",
    "plt.show()"
   ]
  },
  {
   "cell_type": "markdown",
   "id": "357a3561-a836-457c-b952-cf55080c0bec",
   "metadata": {},
   "source": [
    "¿Te hubieras quedado con la simulación de 100 ns?"
   ]
  },
  {
   "cell_type": "markdown",
   "id": "302a5360-829d-4bc5-914c-7975fa747622",
   "metadata": {},
   "source": [
    "De hecho... podemos corroborar que la densidad de probabilidad sobre sobre el eje $X$ calculada teóricamente y la recogida de la simulación de la dinámica de Langevin son las mismas:"
   ]
  },
  {
   "cell_type": "code",
   "execution_count": 48,
   "id": "6d319019-e305-49da-8b6d-53c887dfed83",
   "metadata": {},
   "outputs": [],
   "source": [
    "Z_Vx = integral_numerica_1D(zVx, -1.0*unit.nanometer, 1.0*unit.nanometer, 1000)\n",
    "x_serie = np.linspace(-1.0, 1.0 , 1000) * unit.nanometer\n",
    "zVx_serie = zVx(x_serie)\n",
    "Px_serie = zVx_serie/Z_Vx"
   ]
  },
  {
   "cell_type": "code",
   "execution_count": 49,
   "id": "c9e5bbe9-2927-46f8-86f4-ef8acd9c4e8f",
   "metadata": {},
   "outputs": [],
   "source": [
    "def occupation_probability_density_1d(traj_x, x_range, n_bins):\n",
    "    delta_x = (x_range[1]-x_range[0])/n_bins\n",
    "    frequency = np.zeros(n_bins, dtype=int)\n",
    "    for x in traj_x:\n",
    "        bin_visited = int((x-x_range[0])/delta_x)\n",
    "        frequency[bin_visited]+=1\n",
    "    x_bins_centers = (x_range[0]+0.5*delta_x) + delta_x*np.arange(n_bins)\n",
    "    bins_probability_density = (1.0/delta_x)*(frequency/frequency.sum())\n",
    "    return x_bins_centers, bins_probability_density"
   ]
  },
  {
   "cell_type": "code",
   "execution_count": 59,
   "id": "2a22839f-310c-4bb7-8e33-0a83893345cd",
   "metadata": {},
   "outputs": [],
   "source": [
    "traj_x = reporter['coordinates'][:,0,0]\n",
    "x_center_bin, px = occupation_probability_density_1d(traj_x, [-1,1]*unit.nanometers, 100)"
   ]
  },
  {
   "cell_type": "code",
   "execution_count": 60,
   "id": "73d5737a-7a57-4140-9728-1af6a879be7b",
   "metadata": {},
   "outputs": [
    {
     "data": {
      "image/png": "[encoded data removed]",
      "text/plain": [
       "<Figure size 864x216 with 1 Axes>"
      ]
     },
     "metadata": {
      "needs_background": "light"
     },
     "output_type": "display_data"
    }
   ],
   "source": [
    "plt.figure(figsize=[12,3])\n",
    "plt.plot(x_center_bin, px, label='Trajectory')\n",
    "plt.plot(x_serie, Px_serie, label='Theory')\n",
    "plt.legend()\n",
    "plt.show()"
   ]
  },
  {
   "cell_type": "markdown",
   "id": "a7446415-db12-40e8-b2df-f1910feb4c59",
   "metadata": {},
   "source": [
    "Prueba a calcular la densidad de probabilidad de ocupación con un fragmento de trayectoria de 10 ns, 50, ns, 100 ns y 500 ns. ¿Ves cómo la distribución va alcanzando la solución estacionaria? Necesitas un fragmento lo suficientemente largo para describir cómo se comporta el sistema en equilibrio. Y estamos hablando de la descripción, no del sistema. Prueba por ejemplo a calcular de la trayectoria el valor de $Pe_on$ con los primeros 200 ns, y con los siguientes, y con los siguientes de los siguientes. ¿Ves que siempre tienes un fragmento de entre 50 y 100 ns hasta que tu medida comienza ligeramente a converger?"
   ]
  },
  {
   "cell_type": "markdown",
   "id": "af276f6a-0bbe-4bab-83c2-8ead60c7839e",
   "metadata": {},
   "source": [
    "## ¿Cómo calculamos la probabilidad relativa entre dos estados?"
   ]
  },
  {
   "cell_type": "markdown",
   "id": "7bac3e94-063b-4246-b624-3ecc3708b531",
   "metadata": {},
   "source": [
    "Volviendo al ejemplo del dado y la tabla de frecuencias de aparición de cada lado despues de 100 tiradas. ¿cuán más probable es el $2$ que el $3$? En este caso nos estamos preguntando por la probabilidad relativa del $2$ con respecto al $3$. Para calcularla podríamos calcular las probabilidades $P_{2}$ y $P_{3}$ para resolver $P_{2}/P_{3}$. Bueno, nadie va a decir que no está bien. Pero si haces el cálculo de esta manera estás haciendo trabajo innecesario... y puede que no siempre lo puedas resolver así. ¿Qué sucede si tiraste el dado 200 veces pero no anotaste la frecuencia del 1 ni la del 6? Obviamente no puedes calcular la probabilidad absoluta $P_{2}$ del 2, tampoco la del 3, pero si puedes calcular la probabilidad relativa entre los dos.\n",
    "\n",
    "|lado | 1 | 2 | 3 | 4 | 5 | 6 |\n",
    "| -- | -- | -- | -- | -- | -- | -- |\n",
    "|frequencia | ... | 29 | 34 | 31 | 26 | ... |\n",
    "\n",
    "La probabilidad relativa no depende de la suma de los pesos de todos los estados posibles:\n",
    "\n",
    "\\begin{equation}\n",
    "\\frac{P(p)}{P(q)} = \\frac{\\frac{w(p)}{\\sum_{i} w(i)}}{\\frac{w(q)}{\\sum_{i} w(i)}} = \\frac{w(p)}{w(q)}\n",
    "\\end{equation}\n",
    "\n",
    "donde de nuevo $w(i)$ es el peso del estado $i$ que consideraremos, para inferir la probabilidad relativa del experimento, proporcional a la frecuencia de aparación de $i$. Así que según nuestra tabla $P_{2}/P_{3}=29/34=0.853$.\n",
    "\n",
    "Este ligero detalle, que puede parecerte ahora irrelevante, de que para calcular la probabilidad relativa entre dos estados no sea necesario calcular la función de partición total, resulta de una importancia enorme cuando en el diseño racional de ligandos. Se puede demostrar por ejemplo que para ordenar un conjunto de ligandos según su probabilidad absoluta de asociación, no es necesario calcular las funciones de partición total de dichos ligandos. Más adelante veremos cómo podemos, mediante un conjunto de técnicas llamadas 'alchemistry' guiarnos por las probabilidades relativas (mucho más baratas de calcular que las absolutas). Pero sin avanzar tanto, si podemos por ejemplo ilustrar la relevancia de no tener que calcular la función de partición total para estimar una probabilidad relativa. Supongamos que un mismo ligando se une en una zona específica de tres maneras distintas, con tres poses de unión. ¿Qué pose es más probable? No es necesario calcular la función de partición de toda la región conformacional de ligando disociado para poder contar con la función de partición total. Este esfuerzo es, además de muy costoso, innecesario. Basta con conocer la función de partición de cada una de las poses para conocer cuan probable es una pose más que la otra."
   ]
  },
  {
   "cell_type": "markdown",
   "id": "e0faa5e2-416e-4ed1-8c49-0806154e44e5",
   "metadata": {
    "tags": []
   },
   "source": [
    "## ¿Y qué es la energía libre y cúal es su relación con la probabilidad?\n",
    "\n",
    "La mecánica estadística demuestra que la probabilidad de un estado, de un evento, de un sistema físico es función de magnitudes termodinámicas. Y conocemos la forma de dicha expresión es:\n",
    "\n",
    "\\begin{equation}\n",
    "P_{i} = \\frac{1}{Z} e^{-\\frac{1}{K_{B}T} F_{i}}\n",
    "\\end{equation}\n",
    "\n",
    "Donde $1/Z$ ya vimos que es una constante y el valor F_{i} es la variable que engloba toda la termodinámica del sistema en el estado $i$ que determina el peso de la probabilidad dicho estado.\n",
    "\n",
    "En el caso de que estemos hablando de un microestado, esta función $F_{i}$ coincide con el valor del hamiltoniano en dicho microstado. Si no definimos el microstado en espacio de fases, sino en el espacio de coordenadas, no estamos hablando de otra cosa que de la energía potencial:\n",
    "\n",
    "\\begin{equation}\n",
    "P_{\\vec{r}} = \\frac{1}{Z} \\iiint_{-\\infty}^{\\infty} e^{-\\frac{1}{K_{B}T} U(\\vec{r},\\vec{v})} d\\vec{v} =\n",
    "\\frac{Z_{T}}{Z} e^{-\\frac{1}{K_{B}T} V(\\vec{r})} = \\frac{1}{Z_{V}} e^{-\\frac{1}{K_{B}T} V(\\vec{r})} = e^{-\\frac{1}{K_{B}T} F(\\vec{r})}\n",
    "\\end{equation}\n",
    "\n",
    "Ahora bien, es muy muy muy poco común poder hacer medidas en un laboratorio sobre microestados. Lo normal es que las medidas o los observables los definamos sobre estados (macro-estados). Por ejemplo... la probabilidad absoluta de que el ligando esté asociado a su receptor, que en nuestro doble pozo como modelo de proceso asociación-disociación hemos definido como $P_{on}$:\n",
    "\n",
    "\\begin{equation}\n",
    "P_{on}=P(x\\leq x_{b}) = \\frac{1}{Z_{V}} \\int_{-\\infty}^{x_{b}} \\int_{-\\infty}^{\\infty} \\int_{-\\infty}^{\\infty} e^{-\\frac{1}{K_{B}T} V(\\vec{r},\\vec{v})} d\\vec{r} = e^{-\\frac{1}{K_{B}T} F_{on}}\n",
    "\\end{equation}\n",
    "\n",
    "En el caso del doble pozo, como el potencial se suma de términos únicamente en $x$, o $y$ o $z$, la integral triple factoriza como producto de tres integrales y podemos reescribir la probabilidad como:\n",
    "\n",
    "\\begin{equation}\n",
    "P_{on}=P(x\\leq x_{b}) = \\frac{1}{Z_{V_{x}}} \\int_{-\\infty}^{x_{b}} e^{-\\frac{1}{K_{B}T} V_{x}(x)} d\\vec{x} = e^{-\\frac{1}{K_{B}T} F_{on}}\n",
    "\\end{equation}"
   ]
  },
  {
   "cell_type": "markdown",
   "id": "6d02ea13-18f3-4b04-b7ca-cce84b5c921f",
   "metadata": {},
   "source": [
    "Llamamos \"energía libre absoluta\" del sistema en el estado \"i\" a la magnitud termodinámica $F_{i}$ que determina su probabilidad. ¿Tiene esta energía libre alguna otra interpretación física? Veamos su relación con la probabilidad relativa. Calculemos la probabilidad relativa $P_\\textit{on}/P_\\textit{off}$:\n",
    "\n",
    "\\begin{equation}\n",
    "\\frac{P_{on}}{P_{off}} = \\frac{P(x\\leq x_{b})}{P(x> x_{b})} = e^{-\\frac{1}{K_{B}T} (F_{\\textit{on}}-F_{\\textit{off}})}\n",
    "\\end{equation}\n",
    "\n",
    "Cuan mayor o menor es la probabilidad de encontrar a la partícula asociada con respecto a la probabilidad de encontrarla disociada es directamente función únicamente de la temperatura y de la diferencia de energía libre entre los dos estados. Y se puede probar que esta diferencia de energía libre $F_{\\textit{on}}-F_{\\textit{off}}$ es exactamente el trabajo necesario para adiabáticamente el sistema del estado 'off' al estado 'on'. De hecho, en los primeros años de trabajo con esta magnitud no se la denotaba con una $F$, sino con una $A$ por ser esta letra la primera de la palabra alemana \"trabajo\" (*Arbeit*). Podemos suponer que más tarde se adoptó la letra $F$ por la primera letra de la expresión \"energía libre\" en inglés (*free energy*)."
   ]
  },
  {
   "cell_type": "markdown",
   "id": "430c65d8-ec69-4e24-ac8a-e168a9cd9b12",
   "metadata": {},
   "source": [
    "Te propongo un experimento mental (lo puedes dibujar en un papel)... Supón que en lugar de dos pozos, nuetro potencial tiene tres pozos (y dos barreras). ¿Ya lo imaginaste? Llamemos a los pozos con las letras $A$, $B$ y $C$, siendo $B$ el pozo de en medio. Cada mínimo de tu pozo tiene una altura en tu gráfica V(x) vs. x, lo mismo que las barreras. Y una partícula tendrá una probabilidad absoluta de estar en cada uno de los pozos:  $P_{A}$, $P_{B}$ y $P_{C}$. Ahora, podemos incrementar la probabilidad $P_{B}$ de encontrar la partícula en el pozo de enmedio bajando la energía potencial de su mínimo. ¿Cierto? Entonces la probabilidad $P_{B}$, es decir, la energía libre $F_{B}$ depende de la energía potencial o entalpía del pozo $B$. Ahora, supongamos que volvemos a poner el mínimo de $B$ donde estaba originalmente pero ensanchamos en el espacio $X$ el pozo $B$. Los pozos $A$ y $C$ quedan exactamente como estaban, al igual que la altura de las barreras. Pero $B$ lo hacemos más ancho estando su mínimo en el mismo punto que originalmente. No hemos cambiado la energía potencial de su mínimo, pero si el volumen en el espacio conformacional del estado $B$. Ahora hay más microestados en $X$ compatibles con la situación \"la partícula está en $B$\". ¿Es ahora el pozo $B$ más probable que antes? ¿Es la energía libre de $B$ menor ahora que en el triple pozo original? Si, así que la energía libre no depende únicamente de la energía potencial, sino también del volumen conformacional del estado -la entropía-. Y seamos más precisos aunque estemos avanzando mucho... no sólo del volumen del estado, sino también de la probabilidad de ocuparlo mucho en su totalidad o de que sólo sea probable ocupar con relevancia un pequeño fragmento de este volumen: así, aquí es donde entra la dependencia de la energía libre con la temperatura (dandole peso al término entrópico). Veremos en algún momento que a temperatura cero la partícula no vé, no visita, el volumen del estado. Se queda anclada en su mínimo. Es por eso que en estas circunstancias, a temperatura cero, la energía libre de un estado es igual a la energía potencial promedio del estado... y cómo sólo es probable encontrarse en el mínimo, coincide con la energía potencial o entalpía del mínimo."
   ]
  },
  {
   "cell_type": "markdown",
   "id": "6a8ea4da-31f0-4425-b2fc-201f4d65d804",
   "metadata": {},
   "source": [
    "Por último, construyamos un gráfico muy muy muy empleado cuando hablamos de caracterizar el comportamiento de un sistema molecular: el paisaje de energía libre. Habitualmente no representamos un histograma para ver qué región del espacio conformacional es más probable... sino que representamos el paisaje termodinámico de la energía libre. De esta manera las barreras se muestran como barreras y las cuencas de atracción del paisaje como eso... como cuencas. Para esto, si estamos construyendo la energía libre a partir de la probabilidad de que la partícula a lo largo de una simulación visite cualquier punto de un subespacio del espacio de fases, en este caso el espacio de las $X$:\n",
    "\n",
    "\\begin{equation}\n",
    "F(x) = -K_{B}T\\ln{\\left(P(x)\\right)}\n",
    "\\end{equation}"
   ]
  },
  {
   "cell_type": "code",
   "execution_count": 63,
   "id": "d0071d4b-fc99-4dd4-8d56-acc2a4159f29",
   "metadata": {},
   "outputs": [
    {
     "name": "stderr",
     "output_type": "stream",
     "text": [
      "/home/diego/Myopt/miniconda3/envs/UIBCDF-Academia/lib/python3.7/site-packages/ipykernel_launcher.py:1: RuntimeWarning: divide by zero encountered in log\n",
      "  \"\"\"Entry point for launching an IPython kernel.\n"
     ]
    },
    {
     "data": {
      "image/png": "[encoded data removed]",
      "text/plain": [
       "<Figure size 864x216 with 1 Axes>"
      ]
     },
     "metadata": {
      "needs_background": "light"
     },
     "output_type": "display_data"
    }
   ],
   "source": [
    "Fx_traj = -KbT*np.log(px)\n",
    "Fx_theo = -KbT*np.log(Px_serie)\n",
    "\n",
    "plt.figure(figsize=[12,3])\n",
    "plt.plot(x_center_bin, Fx_traj.in_units_of(unit.kilocalories_per_mole), label='Trajectory')\n",
    "plt.plot(x_serie, Fx_theo.in_units_of(unit.kilocalories_per_mole), label='Theory')\n",
    "plt.legend()\n",
    "plt.show()"
   ]
  },
  {
   "cell_type": "markdown",
   "id": "2a4f6b66-7489-4f76-8cf7-08b9081c9af8",
   "metadata": {},
   "source": [
    "Puedes ver que en este caso la energía libre es igual a la energía potencial en $X$ más una constante:"
   ]
  },
  {
   "cell_type": "code",
   "execution_count": 64,
   "id": "8dc58ffd-345b-4a24-9d3f-7e7a401a2d85",
   "metadata": {},
   "outputs": [
    {
     "data": {
      "image/png": "[encoded data removed]",
      "text/plain": [
       "<Figure size 864x216 with 1 Axes>"
      ]
     },
     "metadata": {
      "needs_background": "light"
     },
     "output_type": "display_data"
    }
   ],
   "source": [
    "plt.figure(figsize=[12,3])\n",
    "plt.plot(x_serie, Fx_theo.in_units_of(unit.kilocalories_per_mole), label='Theory')\n",
    "plt.plot(xyz_serie[:,0], potential, 'r-', label='V(x)')\n",
    "plt.legend()\n",
    "plt.show()"
   ]
  },
  {
   "cell_type": "markdown",
   "id": "967313b6-fc2c-4083-9641-e759aedb6f15",
   "metadata": {},
   "source": [
    "¿Cúal es el valor de esa constante?¿Será siempre la energía libre similar a la energía potencial? Como veremos en las siguientes unidades: no. Únicamente podemos pensar en esos términos cuando la temperatura del sistema sea cero o cuando los estados o microestados sobre los que definimos nuestro paisaje de energía libre sean igualmente entrópicos o tengan el mismo volumen conformacional."
   ]
  },
  {
   "cell_type": "markdown",
   "id": "5ff201ed-fef0-421b-b20b-376139293152",
   "metadata": {},
   "source": [
    "## Ya podemos calcular el valor esperado de los observables que no dependen del tiempo\n",
    "\n",
    "Comienza a tener sentido el primer párrafo de esta unidad. Conocida la termodinámica del sistema podemos predecir el valor de cualquier observable, el resultado de cualquier experimento, que no dependa del tiempo. El valor esperado de un observable $O(\\vec{r},\\vec{v})$, que es función de las posiciones y las velocidades del sistema, puede ser calculado como:\n",
    "\n",
    "\\begin{align}\n",
    "<O> &= \\iiint_{-\\infty}^{\\infty} \\iiint_{-\\infty}^{\\infty} O(\\vec{r},\\vec{v}) P(\\vec{r},\\vec{v}) d\\vec{r} \\; d\\vec{v} = \\\\\n",
    "    &= \\frac{1}{Z} \\iiint_{-\\infty}^{\\infty} \\iiint_{-\\infty}^{\\infty} O(\\vec{r},\\vec{v}) e^{-\\frac{1}{K_{B}T} U(\\vec{r},\\vec{v})} d\\vec{r} \\; d\\vec{v}\n",
    "\\end{align}"
   ]
  },
  {
   "cell_type": "markdown",
   "id": "83b8a43c-2c8e-4af9-bbe3-8262768cc3d1",
   "metadata": {},
   "source": [
    "Por ejemplo, calculemos la posición promedio o el valor esperado de la posición en el eje $X$ de nuestro sistema:\n",
    "\n",
    "\\begin{equation}\n",
    "<x> = \\int_{-\\infty}^{\\infty} x P(x)dx = \\frac{1}{Z_{V_{x}}} \\int_{-\\infty}^{\\infty} x e^{-\\frac{1}{K_{B}T}V_{x}(x)} dx\n",
    "\\end{equation}\n",
    "    \n",
    "Dado que la forma del potencial en $X$ es analíticamente no tan sencilla como para que la integral la podamos resolver de manera inmediata, hagámoslo numéricamente:"
   ]
  },
  {
   "cell_type": "code",
   "execution_count": 65,
   "id": "bd9a0758-4fac-4acb-a48d-8e82fa7e5dbf",
   "metadata": {},
   "outputs": [
    {
     "name": "stdout",
     "output_type": "stream",
     "text": [
      "0.32844060676847203 nm\n"
     ]
    }
   ],
   "source": [
    "def xPx (x):\n",
    "    \n",
    "    global Eo, a, b, k, KbT\n",
    "    \n",
    "    x_aux = x/a\n",
    "    Vx =  Eo * (x_aux**4 - 2*x_aux**2) - b*x_aux\n",
    "\n",
    "    return x*np.exp(-Vx/KbT)\n",
    " \n",
    "int_xPx = integral_numerica_1D(xPx, -1.0*unit.nanometer, 1.0*unit.nanometer, 1000)\n",
    "ZVx = integral_numerica_1D(zVx, -1.0*unit.nanometer, 1.0*unit.nanometer, 1000)\n",
    "\n",
    "mean_x_theo = int_xPx/ZVx\n",
    "\n",
    "print(mean_x_theo)"
   ]
  },
  {
   "cell_type": "markdown",
   "id": "850d99fb-7010-43c7-8f0e-8d67fd646a23",
   "metadata": {},
   "source": [
    "Veamos cómo se compara el valor promedio de la partícula a lo largo de la simulación con el valor teórico calculado:"
   ]
  },
  {
   "cell_type": "code",
   "execution_count": 66,
   "id": "153a12b7-e46c-4cb7-b3be-f3ed04840991",
   "metadata": {},
   "outputs": [
    {
     "name": "stdout",
     "output_type": "stream",
     "text": [
      "0.32723991358603166 nm\n"
     ]
    }
   ],
   "source": [
    "print(np.mean(traj_x))"
   ]
  },
  {
   "cell_type": "markdown",
   "id": "88714bbe-488a-424a-8ac0-6f06c54c7c04",
   "metadata": {},
   "source": [
    "Efectivamente nuestra trayectoria de 1000 ns era lo sucientemente larga como para medir el promedio de la posición en $X$ con bastante precisión."
   ]
  },
  {
   "cell_type": "markdown",
   "id": "b7c0f91d-c828-4624-a398-b2c6725e8c20",
   "metadata": {},
   "source": [
    "Calculemos ahora la energía potencial promedio de la partícula en el eje $Y$:\n",
    "\n",
    "\\begin{equation}\n",
    "<V_{y}> = \\int_{-\\infty}^{\\infty} \\frac{1}{2}ky^{2} P(y)dy = \\frac{k}{2Z_{V_{y}}} \\int_{-\\infty}^{\\infty} y^{2} e^{-\\frac{k}{2K_{B}T} y^{2}} dy = \\frac{k}{2} \\frac{\\int_{-\\infty}^{\\infty} y^{2} e^{-\\frac{k}{2K_{B}T} y^{2}} dy}{\\int_{-\\infty}^{\\infty} e^{-\\frac{k}{2K_{B}T} y ^2} dy}\n",
    "\\end{equation}\n",
    "\n",
    "En esta ocasión sí conocemos la solución analítica de ambas integrales. De hecho son muy populares, se trata de la integral Gaussiana y del segundo momento central de la función Gaussiana:\n",
    "\n",
    "\\begin{equation}\n",
    "\\int_{-\\infty}^{\\infty} e^{-ax^{2}} dx = \\sqrt{\\frac{\\pi}{a}}\n",
    "\\end{equation}\n",
    "\n",
    "\\begin{equation}\n",
    "\\int_{-\\infty}^{\\infty} x^{2} e^{-ax^{2}} dx = \\frac{1}{2a} \\sqrt{\\frac{\\pi}{a}}\n",
    "\\end{equation}\n",
    "\n",
    "Así que:\n",
    "\n",
    "\\begin{equation}\n",
    "<V_{y}> = \\frac{1}{2} K_{B}T\n",
    "\\end{equation}"
   ]
  },
  {
   "cell_type": "markdown",
   "id": "dd4a290d-6f08-42a3-abba-3f0b31465cb7",
   "metadata": {},
   "source": [
    "Este resultado es algo que es útil. La energía promedio de un oscilador armónico unidimensional es $\\frac{1}{2}K_{B}T$. Veamos qué sucede con la energía potencial promedio para el doble pozo:"
   ]
  },
  {
   "cell_type": "code",
   "execution_count": null,
   "id": "94305a26-3b72-45f5-be82-37f1fca32c39",
   "metadata": {},
   "outputs": [],
   "source": [
    "def VxPx (x):\n",
    "    \n",
    "    global Eo, a, b, k, KbT\n",
    "    \n",
    "    x_aux = x/a\n",
    "    Vx =  Eo * (x_aux**4 - 2*x_aux**2) - b*x_aux\n",
    "\n",
    "    return Vx*np.exp(-Vx/KbT)\n",
    " \n",
    "int_VxPx = integral_numerica_1D(VxPx, -1.0*unit.nanometer, 1.0*unit.nanometer, 1000)\n",
    "ZVx = integral_numerica_1D(zVx, -1.0*unit.nanometer, 1.0*unit.nanometer, 1000)\n",
    "\n",
    "mean_Vx_theo = int_VxPx/ZVx\n",
    "\n",
    "print(mean_Vx_theo)"
   ]
  },
  {
   "cell_type": "markdown",
   "id": "67f8083d-e8d0-4099-b65b-ce04a620835f",
   "metadata": {},
   "source": [
    "Puedes checar que en este caso la energía potencial promedio ya no es $\\frac{1}{2}K_{B}T$: "
   ]
  },
  {
   "cell_type": "code",
   "execution_count": null,
   "id": "5d1cea26-da1d-40e6-9e98-aaec7685fd56",
   "metadata": {},
   "outputs": [],
   "source": [
    "KbT.in_units_of(unit.kilocalories_per_mole)"
   ]
  },
  {
   "cell_type": "markdown",
   "id": "019143c4-abfc-43b1-a170-a006ea83fc9f",
   "metadata": {},
   "source": [
    "Por último, puedes comprobar que la energía cinética de la partícula en cualquiera de las dimensiones es igual a la de un oscilador armónico:\n",
    "\n",
    "\\begin{equation}\n",
    "<T_{v_{x}}> = \\int_{-\\infty}^{\\infty} \\frac{1}{2}mv_{x}^{2} P(v_{x})dv_{x} = \\frac{m}{2Z_{T_{V_{x}}}} \\int_{-\\infty}^{\\infty} v_{x}^{2} e^{-\\frac{m}{2K_{B}T} v_{x}^{2}} dv_{x} = \\frac{1}{2} K_{B}T\n",
    "\\end{equation}"
   ]
  },
  {
   "cell_type": "markdown",
   "id": "89bcf18b-e19d-4e14-9f34-32c0a6fd1e5a",
   "metadata": {},
   "source": [
    "Este resultado también es para recordar. La energía cinética de una partícula es $3/2 K_{B}T$. Un medio de $K_{B}T$ por cada grado de libertad."
   ]
  },
  {
   "cell_type": "markdown",
   "id": "3a0c2496-69a2-47de-946c-6d6521372e93",
   "metadata": {},
   "source": [
    "Nota: ¿Depende el valor de la posición promedio, o el de la constante de disociación, o la energía cinética o potential promedio, de la masa de la partícula? ¿Afecta la masa de la partícula, o de las partículas si nuestro sistema tuviera más de una, a la termodinámica de nuestro sistema? ¿Dependen las probabilidades de los estados definidos en el espacio de coordenadas de las masas de las partículas de nuestro sistema? Sin embargo, si vamos a estudiar el comportamiento del sistema mediante su dinámica, la masa si afecta a los movimientos más rápidos que podemos encontrar: afecta al periodo de las posibles pequeñas oscilaciones al rededor de los mínimos. Si incrementamos la masa de la partícula, incrementamos el periodo de oscilación, y por lo tanto podemos aumentar el paso de integración para poder simular el sistema computacionalmente con menos costo sin comprometer la precisión y estabilidad del integrador de la dinámica. Este truco suele emplearse en la dinámica molecular de sistemas moleculares. Se llama repartición de la masa de los átomos de hidrógeno. Aumentamos la masa de los hidrógenos a costa de rebajar la masa de los átomos pesados enlazados covalentemente. De esta manera conservamos la masa total del sistema pero aumentamos el periodo característico de oscilación de los movimientos más rápidos, la fluctuación de los enlaces covalentes con átomos de hidrógeno. Entenderás ahora que este truco es válido para incrementar el paso de integración sin afectar a la termodinámica del sistema. Cualquier valor esperado de un observable que no dependa del tiempo no se verá afectado por este ardid. No podemos decir lo mismo de la cinética, puede que esta se vea afectada."
   ]
  },
  {
   "cell_type": "markdown",
   "id": "de6fd7cb-481c-48ac-99de-866c55ff2a08",
   "metadata": {},
   "source": [
    "Para terminar, repitamos quizá el mensaje más importante de esta unidad: la probabilidad de que los observables tomen un cierto valor depende de las energías potenciales y cinéticas de los estados del sistema compatibles con dicho valor del observable. Es por eso que hablamos de termodinámica cuando nos referimos a medidas y observables de magnitudes del equilibrio, que no dependen del tiempo.\n",
    "\n",
    "Te aconsejamos que leas el primer párrafo de esta unidad para que compruebas que lo que probablemente no tenía sentido en una primera lectura, ya lo tiene."
   ]
  }
 ],
 "metadata": {
  "kernelspec": {
   "display_name": "Python 3 (ipykernel)",
   "language": "python",
   "name": "python3"
  },
  "language_info": {
   "codemirror_mode": {
    "name": "ipython",
    "version": 3
   },
   "file_extension": ".py",
   "mimetype": "text/x-python",
   "name": "python",
   "nbconvert_exporter": "python",
   "pygments_lexer": "ipython3",
   "version": "3.7.10"
  }
 },
 "nbformat": 4,
 "nbformat_minor": 5
}
