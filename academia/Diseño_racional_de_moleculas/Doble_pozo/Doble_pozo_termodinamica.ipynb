{
 "cells": [
  {
   "cell_type": "code",
   "execution_count": 1,
   "id": "1b0f934c-0907-41ce-900a-167875632405",
   "metadata": {},
   "outputs": [],
   "source": [
    "import numpy as np\n",
    "import simtk.unit as unit\n",
    "import matplotlib.pyplot as plt\n",
    "import openmolecularsystems as oms"
   ]
  },
  {
   "cell_type": "markdown",
   "id": "c5c4f01a-2833-491a-a575-ad00e912d261",
   "metadata": {},
   "source": [
    "# Predicción de la termodinámica desde la mecánica estadística"
   ]
  },
  {
   "cell_type": "markdown",
   "id": "6fe99b84-09a4-4756-8c24-2ea7af2656e7",
   "metadata": {},
   "source": [
    "En el argot de la mecánica estadística, los procesos estocásticos, y la simulación de dinámica molecular, hablamos de termodinámica cuando nos referimos al conjunto de observables que no depende del tiempo. Por ejemplo, la distancia promedio entre dos átomos, la probabilidad de que se forme un puente de hidrógeno entre una cadena lateral y una molécula de agua o la constante de disociación de un ligando y un receptor. No quiere decir que dicha distancia, dicho puente de hidrógeno o dicho complejo receptor-ligando, no vaya a variar con el tiempo. De hecho lo hacen. Pero los observables a los que nos estamos refiriendo tienen un valor no relacionado con el tiempo. De hecho si el universo en el que medimos tiene una población lo suficentemente grande de sistemas (infinito, en teoría), podemos realizar una medida instantaneamente y obtener el valor de estos observables de la medida tomada a toda la población. Ésta sera igual que la que obtendremos de observar un único sistema durante un tiempo suficientemente largo (infinito, en teoría). Sabemos por lo tanto que la capacidad de medir estos observables no depende de cuantas veces midamos a durante cuanto tiempo. La precisión o la fiabilidad del valor obtenido si depende, pero la capacidad de medirlos no. Un ejemplo de observables que dependen del tiempo serían el tiempo de vida media del puente de hidrógeno, la constante de difusión de la molécula de agua o la constante cinética de formación o ruptura del complejo recetor-ligando. Cuando nos referimos a estos últimos observables estamos hablando de cinética, no de termodinámica. Y en este caso la capacidad de medirlos si depende de cuando medimos y durante cuanto tiempo.\n",
    "\n",
    "Para entender a continuación qué tiene que ver la termodinámica con el valor esperado de una distancia entre átomos tomemos como ejemplo nuestro doble pozo con los parámetros usados en las unidades anteriores.\n",
    "\n",
    "\\begin{equation}\n",
    "V(x,y,z)=E_{0}\\left[ \\left(\\frac{x}{a}\\right)^4 -2\\left(\\frac{x}{a}\\right)^2 \\right]-\\frac{b}{a}x + \\frac{1}{2}k\\left( y^2 + z^2 \\right)\n",
    "\\end{equation}"
   ]
  },
  {
   "cell_type": "code",
   "execution_count": 2,
   "id": "ece8d325-46f5-4600-8acb-47aad7712f34",
   "metadata": {},
   "outputs": [],
   "source": [
    "# Sistema\n",
    "mass = 35.453 * unit.amu\n",
    "\n",
    "# Potential externo\n",
    "Eo = 3.0 * unit.kilocalories_per_mole\n",
    "a = 0.5 * unit.nanometers\n",
    "b = 0.5 * unit.kilocalories_per_mole\n",
    "k = 1.0*unit.kilocalories_per_mole/unit.angstrom**2\n",
    "\n",
    "# Estado termodinámico\n",
    "temperature=300.0*unit.kelvin"
   ]
  },
  {
   "cell_type": "code",
   "execution_count": 3,
   "id": "e05fea56-f3a3-4684-90f4-c4b6e769fba0",
   "metadata": {},
   "outputs": [],
   "source": [
    "osystem = oms.DoubleWell(mass=mass, Eo=Eo, a=a, b=b, k=k)"
   ]
  },
  {
   "cell_type": "code",
   "execution_count": 4,
   "id": "ee373cbf-6e3a-4246-924b-a5f755ccc12c",
   "metadata": {},
   "outputs": [
    {
     "data": {
      "image/png": "[encoded data removed]",
      "text/plain": [
       "<Figure size 432x288 with 1 Axes>"
      ]
     },
     "metadata": {
      "needs_background": "light"
     },
     "output_type": "display_data"
    }
   ],
   "source": [
    "xyz_serie = np.zeros([200,3]) * unit.nanometers\n",
    "xyz_serie[:,0] = np.linspace(-1.0, 1.0, num=200) * unit.nanometers\n",
    "\n",
    "potential = osystem.evaluate_potential(xyz_serie)\n",
    "\n",
    "plt.plot(xyz_serie[:,0], potential, 'r-')\n",
    "plt.ylim(-4,1)\n",
    "plt.xlim(-1,1)\n",
    "plt.grid()\n",
    "plt.xlabel(\"X ({})\".format(unit.nanometers))\n",
    "plt.ylabel(\"Energy ({})\".format(unit.kilocalories_per_mole))\n",
    "plt.show()"
   ]
  },
  {
   "cell_type": "markdown",
   "id": "28952e60-27ff-431c-89c4-631bbac3a844",
   "metadata": {},
   "source": [
    "Se puede demostrar que la probabilidad de que un sistema molecular visite un estado de su espacio de fases -el espacio de posiciones y velocidades-, determinado por las posiciones y velocidades de todos sus átomos, está pesada por -es proporcional a- el peso de Boltzmann o función de partición:\n",
    "\n",
    "\\begin{equation}\n",
    "z(\\vec{r},\\vec{v}) = e^{-\\frac{1}{K_{B}T} U(\\vec{r},\\vec{v})}\n",
    "\\end{equation}\n",
    "\n",
    "Donde $K_{B}$ es una constante -la constante de Boltzmann-, $T$ es la temperatura, y $U(\\vec{r},\\vec{v})$ es la energía total del sistema en dicho estado (la energía expresada por el Hamiltoniano):\n",
    "\n",
    "\\begin{equation}\n",
    "U(\\vec{r},\\vec{v}) = V(\\vec{r}) + T(\\vec{v})\n",
    "\\end{equation}\n",
    "\n",
    "donde el término de la energía potencial es\n",
    "\n",
    "\\begin{equation}\n",
    "V(\\vec{r}) = E_{0}\\left[ \\left(\\frac{x}{a}\\right)^4 -2\\left(\\frac{x}{a}\\right)^2 \\right]-\\frac{b}{a}x + \\frac{1}{2}k\\left( y^2 + z^2 \\right)\n",
    "\\end{equation}\n",
    "\n",
    "y el término de la energía cinética es\n",
    "\n",
    "\\begin{equation}\n",
    "T(\\vec{v}) = \\frac{1}{2} m \\left( v_{x}^2 + v_{y}^2 + v_{z}^2 \\right)\n",
    "\\end{equation}\n",
    "\n",
    "\n",
    "\n",
    "## ¿Qué es un estado?\n",
    "\n",
    "Un estado es un punto o una región del espacio de coordenadas y velocidades del sistema. Cuando hablamos de un punto, solemos referirnos a ese estado como \"microestado\". Y cuando hablamos de una región solemos referirnos a ese fragmento del espacio de fases como \"estado\" o \"macroestado\". Y ya que estamos, la gran mayoría de ocasiones en las que manejarás estos términos será sin especificar las velocidades. Darás por entendido que quieres conocer ciertas circunstancias del sistema dadas por sus coordenadas, sin importar qué velocidades lleven sus átomos. Así que si nos dan igual las velocidades, si como se dice técnicamente vamos a integrar fuera el espacio de velocidades, estaremos circunscribiendonos no al espacio de fases (de coordenadas y velocidades) sino al espacio conformacional (de coordenadas).\n",
    "\n",
    "Veamos ejemplos de estados cuando hablamos del doble pozo unidimensional. En primer lugar un microestado del espacio de fases:\n",
    "\n",
    "\\begin{equation}\n",
    "\\{\\vec{r}=(0.0, 0.0, 0.0)\\: \\rm{nm};\\: \\vec{v}=(1.0, 0.0, 0.0)\\: \\rm{nm/ps}\\}\n",
    "\\end{equation}\n",
    "\n",
    "Ahora un microestado definido únicamente en el espacio conformacional o de coordenadas:\n",
    "\n",
    "\\begin{equation}\n",
    "\\{\\vec{r}=(-0.2, -0.2, -0.2)\\: \\rm{nm};\\: -\\infty<v_{i}<\\infty \\: \\rm{nm/ps} \\:\\rm{donde}\\: i=x,y,z\\}\n",
    "\\end{equation}\n",
    "\n",
    "Ahora un estado definido como una región del espacio de coordenadas:\n",
    "\n",
    "\\begin{equation}\n",
    "\\{0 \\leq x<0.5\\: \\rm{nm}, -\\infty<i<\\infty \\: \\rm{nm} \\:\\rm{donde}\\: i=y,z;\\: -\\infty<v_{j}<\\infty \\: \\rm{nm/ps} \\:\\rm{donde}\\: j=x,y,z\\}\n",
    "\\end{equation}\n",
    "\n",
    "## ¿Cómo calculamos la probabilidad absoluta de un estado?¿Y la relativa entre dos estados?\n",
    "\n",
    "Y ahora calculemos la probabilidad de cada uno de los anteriores estados. ¿Cómo calculamos una probabilidad si conocemos su peso? Pongamos un ejemplo sencillo. Imagina que tiramos un dado de seis caras 100 veces para inferir el peso de cada número. Esta es la frecuencia obtenida para cada cara:\n",
    "\n",
    "|lado | 1 | 2 | 3 | 4 | 5 | 6 |\n",
    "| -- | -- | -- | -- | -- | -- | -- |\n",
    "|frequencia | 16 | 14 | 18 | 12 | 23 | 17 |\n",
    "\n",
    "Para conocer la probabilidad de que el dado caiga mostrando un cierto número $n$ dividimos el peso de dicho número $w(n)$ para el peso total de todos los números. Y si pensamos que la frecuencia $f$ de aparición de cada lado es proporcional al peso, la probabilidad de $n$ es:\n",
    "\n",
    "\\begin{equation}\n",
    "P(n) = \\frac{w(n)}{\\sum_{i} w(i)} = \\frac{f_n}{\\sum_{i} f_i}\n",
    "\\end{equation}\n",
    "\n",
    "Así por ejemplo la probabilidad del lado $3$ estimamos de nuestro experimento que es $18.0/100.0$. A esta probabilidad la llamamos probabilidad absoluta.\n",
    "\n",
    "No te resulta extraño entonces que necesitemos conocer la suma de los pesos de todos los estados posibles de nuestro sistema molecular para determinar la probabilidad de aparición de un determinado estado:\n",
    "\n",
    "\\begin{equation}\n",
    "P(\\vec{r}, \\vec{v}) = \\frac{z(\\vec{r}, \\vec{v})}{Z}\n",
    "\\end{equation}\n",
    "\n",
    "donde la función de partición o peso de Boltzmann del estado es\n",
    "\n",
    "\\begin{equation}\n",
    "z(\\vec{r}, \\vec{v}) = e^{-\\frac{1}{K_{B}T} U(\\vec{r},\\vec{v})}\n",
    "\\end{equation}\n",
    "\n",
    "y la función de partición total\n",
    "\n",
    "\\begin{equation}\n",
    "Z = \\int_{-\\infty}^{\\infty} \\int_{-\\infty}^{\\infty} e^{-\\frac{1}{K_{B}T} U(\\vec{r},\\vec{v})} d\\vec{r} d\\vec{v}\n",
    "\\end{equation}"
   ]
  },
  {
   "cell_type": "markdown",
   "id": "c8c02fcb-abef-408e-825e-a613bf51286c",
   "metadata": {},
   "source": [
    "Vamos a aterrizar sobre nuestro caso de doble pozo la aplicación de estas ecuaciones. Veamos en primer lugar la probabilidad de que la partícula se encuentre en $\\vec{r}=(0.0, 0.0, 0.0)$ con velocidad $\\vec{v}=(1.0, 0.0, 0.0)$. En primer lugar calculemos la función de partición total del sistema.\n",
    "\n",
    "\\begin{equation}\n",
    "Z = \\int_{-\\infty}^{\\infty} \\int_{-\\infty}^{\\infty} e^{-\\frac{1}{K_{B}T} U(\\vec{r},\\vec{v})} d\\vec{r} d\\vec{v}\n",
    "= \\int_{-\\infty}^{\\infty} \\int_{-\\infty}^{\\infty} e^{-\\frac{1}{K_{B}T} (V(\\vec{r})+T(\\vec{v}))} d\\vec{r} d\\vec{v}\n",
    "= \\int_{-\\infty}^{\\infty} e^{-\\frac{1}{K_{B}T} V(\\vec{r})} d\\vec{r} \\cdot \\int_{-\\infty}^{\\infty} e^{-\\frac{1}{K_{B}T} T(\\vec{v})} d\\vec{v}\n",
    "\\end{equation}\n",
    "\n",
    "La función de partición total del sistema puede, dado que la parte del potencial no depende de las velocidades, puede entonces descomponerse en un producto de dos integrales que llamaremos $Z_{V}$ y $Z_{T}$:\n",
    "\n",
    "\\begin{equation}\n",
    "Z = Z_{V}Z_{T}\n",
    "\\end{equation}\n",
    "\n",
    "con\n",
    "\n",
    "\\begin{align}\n",
    "Z_{V} = \\int_{-\\infty}^{\\infty} e^{-\\frac{1}{K_{B}T} V(\\vec{r})} d\\vec{r}\\\\ \\\\\n",
    "Z_{T} = \\int_{-\\infty}^{\\infty} e^{-\\frac{1}{K_{B}T} T(\\vec{v})} d\\vec{v}\n",
    "\\end{align}\n",
    "\n",
    "Vamos en primer lugar a resolver $Z_{T}$:\n",
    "\n",
    "\\begin{equation}\n",
    "Z_{T} = \\int_{-\\infty}^{\\infty} e^{-\\frac{1}{K_{B}T} T(\\vec{v})} d\\vec{v} =\n",
    "\\int_{-\\infty}^{\\infty} e^{-\\frac{1}{K_{B}T} \\frac{1}{2} m v_{x}^{2}} dv_{x}\n",
    "\\int_{-\\infty}^{\\infty} e^{-\\frac{1}{K_{B}T} \\frac{1}{2} m v_{y}^{2}} dv_{y}\n",
    "\\int_{-\\infty}^{\\infty} e^{-\\frac{1}{K_{B}T} \\frac{1}{2} m v_{z}^{2}} dv_{z}\n",
    "\\end{equation}\n",
    "\n",
    "Ahora hemos puesto $Z_{T}$ como producto de tres funciones de partición según $v_{x}$, $v_{y}$ o $v_{z}$:\n",
    "\n",
    "\\begin{equation}\n",
    "Z_{T} = Z_{T_{v_{x}}} Z_{T_{v_{y}}} Z_{T_{v_{z}}}\n",
    "\\end{equation}\n",
    "\n",
    "donde\n",
    "\n",
    "\\begin{equation}\n",
    "Z_{T_{v_{i}}} = \\int_{-\\infty}^{\\infty} e^{-\\frac{1}{K_{B}T} \\frac{1}{2} m v_{i}^{2}} dv_{i} \\; \\; \\rm{con} \\; i=x, y, z \n",
    "\\end{equation}\n",
    "\n",
    "Cada una de las integrales para $v_{x}$, $v_{y}$ y $v_{z}$ son solubles analíticamente. De hecho se trata de una integral muy popular conocida por los nombres integral Gaussiana o de Euler–Poisson:\n",
    "\n",
    "\\begin{equation}\n",
    "\\int_{-\\infty}^{\\infty} e^{-ax^{2}} dx = \\sqrt{\\frac{\\pi}{a}}\n",
    "\\end{equation}\n",
    "\n",
    "Así que ya tenemos valor para $Z_{T}$:\n",
    "\n",
    "\\begin{equation}\n",
    "Z_{T} = \\left(\\frac{2\\pi K_{B}T}{m}\\right)^{3/2}\n",
    "\\end{equation}\n",
    "\n",
    "Vamos ahora con $Z_{V}$, de nuevo podemos abordar su cálculo de la misma manera, como producto de tres términos:\n",
    "\n",
    "\\begin{align}\n",
    "Z_{V} = \\int_{-\\infty}^{\\infty} e^{-\\frac{1}{K_{B}T} V(\\vec{r})} d\\vec{r} = Z_{V_{x}} Z_{V_{y}} Z_{V_{z}}\n",
    "\\end{align}\n",
    "\n",
    "donde\n",
    "\n",
    "\\begin{align}\n",
    "Z_{V_{x}} = \\int_{-\\infty}^{\\infty} e^{-\\frac{1}{K_{B}T} E_{0}\\left[ \\left(\\frac{x}{a}\\right)^4 -2\\left(\\frac{x}{a}\\right)^2 \\right]-\\frac{b}{a}x} d\\vec{x}\n",
    "\\end{align}\n",
    "\n",
    "y\n",
    "\n",
    "\\begin{equation}\n",
    "Z_{V_{i}} = \\int_{-\\infty}^{\\infty} e^{-\\frac{1}{K_{B}T} \\frac{1}{2} k i^{2}} di \\; \\; \\rm{con} \\; i=y, z \n",
    "\\end{equation}\n",
    "\n",
    "Vemos que las funciones de partición $Z_{V_{y}}$ y $Z_{V_{z}}$ corresponden a los potenciales armónicos en los ejes $Y$ y $Z$, y por lo tanto son integrales Gaussianas con solución analítica:\n",
    "\n",
    "\\begin{equation}\n",
    "Z_{V_{y}} = Z_{V_{z}} = \\sqrt{\\frac{2\\pi K_{B}T}{k}}\n",
    "\\end{equation}\n",
    "\n",
    "Ya casi podemos resolver:\n",
    "\n",
    "\\begin{equation}\n",
    "Z = Z_{V_{x}} Z_{V_{y}} Z_{V_{z}} Z_{T_{v_{x}}} Z_{T_{v_{y}}} Z_{T_{v_{z}}} =\n",
    "Z_{V_{x}} \\left(\\frac{2\\pi K_{B}T}{k}\\right) \\left(\\frac{2\\pi K_{B}T}{m}\\right)^{3/2}\n",
    "\\end{equation}\n",
    "\n",
    "Sólo nos resta obtener el valor de $Z_{V_{x}}$, el problema es que no tiene una resolución analítica sencilla, así que la resolveremos numéricamente."
   ]
  },
  {
   "cell_type": "code",
   "execution_count": 5,
   "id": "a631a324-cdcf-4332-b36c-ff36496e22fc",
   "metadata": {},
   "outputs": [
    {
     "data": {
      "text/plain": [
       "Quantity(value=1.380649e-23, unit=joule/kelvin)"
      ]
     },
     "execution_count": 5,
     "metadata": {},
     "output_type": "execute_result"
    }
   ],
   "source": [
    "unit.constants.BOLTZMANN_CONSTANT_kB"
   ]
  },
  {
   "cell_type": "code",
   "execution_count": 6,
   "id": "4c0e58a5-73f1-4969-ae51-7d0542e734b5",
   "metadata": {},
   "outputs": [],
   "source": [
    "Eo = 3.0 * unit.kilocalories_per_mole\n",
    "a = 0.5 * unit.nanometers\n",
    "b = 0.5 * unit.kilocalories_per_mole\n",
    "k = 1.0*unit.kilocalories_per_mole/unit.angstrom**2\n",
    "KbT = unit.BOLTZMANN_CONSTANT_kB * unit.AVOGADRO_CONSTANT_NA * 300.0*unit.kelvin\n",
    "\n",
    "def zVx (x):\n",
    "    \n",
    "    global Eo, a, b, k, KbT\n",
    "    \n",
    "    x_aux = x/a\n",
    "    Vx =  Eo * (x_aux**4 - 2*x_aux**2) - b*x_aux\n",
    "\n",
    "    return np.exp(-Vx/KbT)\n",
    "    \n",
    "    \n",
    "def integral_numerica_1D (f, lim_inf, lim_sup, n_bins):\n",
    "    \n",
    "    delta_x = (lim_sup - lim_inf)/n_bins\n",
    "    \n",
    "    output = 0.0 * unit.nanometer\n",
    "    x = lim_inf\n",
    "    \n",
    "    for ii in range(n_bins):\n",
    "        output += f(x)*delta_x\n",
    "        x += delta_x\n",
    "    \n",
    "    return output"
   ]
  },
  {
   "cell_type": "code",
   "execution_count": 7,
   "id": "c6d1c859-0c33-4d59-afe4-5ff01d71651d",
   "metadata": {},
   "outputs": [],
   "source": [
    "ZVx = integral_numerica_1D(zVx, -1.0*unit.nanometer, 1.0*unit.nanometer, 1000)"
   ]
  },
  {
   "cell_type": "code",
   "execution_count": 8,
   "id": "35ac5040-ac11-467f-afbc-8f026805329c",
   "metadata": {},
   "outputs": [
    {
     "data": {
      "text/plain": [
       "Quantity(value=86.01243401443949, unit=nanometer)"
      ]
     },
     "execution_count": 8,
     "metadata": {},
     "output_type": "execute_result"
    }
   ],
   "source": [
    "ZVx"
   ]
  },
  {
   "cell_type": "markdown",
   "id": "1aabe6c2-9d99-4333-9f4c-2b1aeff05626",
   "metadata": {},
   "source": [
    "Nota: Explicar por qué tiene dimensiones y por qué tomo limites -1 y 1."
   ]
  },
  {
   "cell_type": "markdown",
   "id": "015995c8-1c69-442a-94c8-022c724de0c4",
   "metadata": {},
   "source": [
    "Así que ya podemos determinar el valor \"de la suma de pesos de todos los estados posibles\", el valor de la función de partición total:"
   ]
  },
  {
   "cell_type": "code",
   "execution_count": 9,
   "id": "5ca0eeec-d80b-4c54-a56d-c8b5d48f6c35",
   "metadata": {},
   "outputs": [],
   "source": [
    "ZVy = np.sqrt(2.0*np.pi*KbT/k)\n",
    "ZVz = ZVy\n",
    "ZTvx = np.sqrt(2.0*np.pi*KbT/mass)\n",
    "ZTvy = ZTvx\n",
    "ZTvz = ZTvx"
   ]
  },
  {
   "cell_type": "code",
   "execution_count": 10,
   "id": "21f1c011-1c5a-4a66-902f-044352103ea9",
   "metadata": {},
   "outputs": [],
   "source": [
    "Z = ZVx*ZVy*ZVz*ZTvx*ZTvy*ZTvz"
   ]
  },
  {
   "cell_type": "markdown",
   "id": "60d0a119-3fee-4f71-9064-f8b0b4705ae5",
   "metadata": {},
   "source": [
    "Explicar de nuevo el tema de las dimensiones."
   ]
  },
  {
   "cell_type": "markdown",
   "id": "69f394ce-7864-4c48-ba7a-ecd7f82a8cec",
   "metadata": {},
   "source": [
    "Ya podríamos calcular la probabilidad del estado $\\begin{equation}\n",
    "\\{\\vec{r}=(0.0, 0.0, 0.0)\\: \\rm{nm};\\: \\vec{v}=(1.0, 0.0, 0.0)\\: \\rm{nm/ps}\\}\n",
    "\\end{equation}$ como:\n",
    "\n",
    "\\begin{equation}\n",
    "P(\\vec{r}=(0.0, 0.0, 0.0)\\: \\rm{nm};\\: \\vec{v}=(1.0, 0.0, 0.0)\\: \\rm{nm/ps}) = \\frac{1}{Z} e^{-\\frac{m}{2K_{B}T}} \\: dx\\: dy\\: dz\\: dv_{x}\\: dv_{y}\\: dv_{z}\n",
    "\\end{equation}"
   ]
  },
  {
   "cell_type": "markdown",
   "id": "edb4871f-3817-4bec-9c02-e6c48c716a67",
   "metadata": {},
   "source": [
    "Nota que hemos añadido el elemento de volumen infinitesimal $dx\\: dy\\: dz\\: dv_{x}\\: dv_{y}\\: dv_{z}$. La probabilidad de encontrar al sistema en un punto infinitesimal es por definición cero. Así que, para poder converte de que la mecánica estadística funciona y podemos comparar las probabilidades con los resultados de nuestra dinámica de Langevin, o de que la dinámica de Langevin funciona y su resultado es comparable con lo calculado mediante mecánica estadística. Calculemos la probabilidad de que nuestra partícula se encuentra en lo que en las unidades anteriores hemos definido como estado \"on\" ($x\\leq x_{b}$ donde $x_{b}$ es la coordenada de la barrera en el eje $X$):"
   ]
  },
  {
   "cell_type": "markdown",
   "id": "34732238-f83c-44f1-a298-cec0d41a69cd",
   "metadata": {},
   "source": [
    "\\begin{align}\n",
    "P(x\\leq x_{b}) = & \\frac{1}{Z} \\int_{-\\infty}^{x_{b}} \\int_{-\\infty}^{\\infty} \\int_{-\\infty}^{\\infty}\n",
    "\\int_{-\\infty}^{\\infty} \\int_{-\\infty}^{\\infty} \\int_{-\\infty}^{\\infty}\n",
    "e^{-\\frac{1}{K_{B}T}(V_{x}(x)+V_{y}(y)+V_{z}(z)+T_{v_{x}}(v_{x})+T_{v_{y}}(v_{y})+T_{v_{z}}(v_{z}))} \\: dx\\: dy\\: dz\\: dv_{x}\\: dv_{y}\\: dv_{z}\n",
    "\\\\\n",
    "= &  \\frac{1}{Z} \\int_{-\\infty}^{x_{b}} e^{-\\frac{1}{K_{B}T} V_{x}(x)} \\: dx\\:\n",
    "\\int_{-\\infty}^{\\infty} e^{-\\frac{1}{K_{B}T} V_{y}(y)} \\: dy\\:\n",
    "\\int_{-\\infty}^{\\infty} e^{-\\frac{1}{K_{B}T} V_{z}(z)} \\: dz\\:\n",
    "\\int_{-\\infty}^{\\infty} e^{-\\frac{1}{K_{B}T} T_{v_{x}}} \\: dv_{x}\\:\n",
    "\\int_{-\\infty}^{\\infty} e^{-\\frac{1}{K_{B}T} T_{v_{y}}} \\: dv_{y}\\:\n",
    "\\int_{-\\infty}^{\\infty} e^{-\\frac{1}{K_{B}T} T_{v_{z}}} \\: dv_{z}\\: \n",
    "\\\\\n",
    "= &  \\frac{Z_{V_{y}} Z_{V_{z}} Z_{T_{v_{x}}} Z_{T_{v_{y}}} Z_{T_{v_{z}}}}{Z_{V_{x}} Z_{V_{y}} Z_{V_{z}} Z_{T_{v_{x}}} Z_{T_{v_{y}}} Z_{T_{v_{z}}}} \\int_{-\\infty}^{x_{b}} e^{-\\frac{1}{K_{B}T} V_{x}(x)} \\: dx \n",
    "\\\\\n",
    "= &  \\frac{1}{Z_{V_{x}}} \\int_{-\\infty}^{x_{b}} e^{-\\frac{1}{K_{B}T} V_{x}(x)} \\: dx\n",
    "\\end{align}"
   ]
  },
  {
   "cell_type": "markdown",
   "id": "ee4b49a3-6e78-48fc-bacf-a21f6d59c279",
   "metadata": {},
   "source": [
    "Antes de seguir, un comentario. Como ves, cuando la exponencial factoriza como producto de una exponencial que depende únicamente de $x$, otra que depende únicamente de $y$ y otra de $z$, los sucedido en $x$ no depende de lo que sucede en $y$ y en $z$. Dicho de otra manera, cuando el potencial tiene sumandos que dependen de $x$, otros de $y$ y otros de $z$; cuando no aparecen términos cruzados como $xy$ o $xz$, la probabilidad de un estado únicamente definido en la $X$ no depende de dónde esté la partícula en el plano $YZ$. Es por eso que en estas unidades estamos simulando una partícula en tres dimensiones y recurrentemente sólo analizamos lo que sucede en $X$. Podríamos hacer una simulación unidimensional, sólo del doble pozo en $X$, y el resultado sería exactamente el mismo. \n",
    "\n",
    "Veamos ahora la probabilidad de que la partícula se encuentre en el estado \"on\":"
   ]
  },
  {
   "cell_type": "code",
   "execution_count": 25,
   "id": "8bb37d62-ba7b-412c-9ae3-434bdde959b9",
   "metadata": {},
   "outputs": [],
   "source": [
    "xb = osystem.get_coordinates_maximum()[0][0]"
   ]
  },
  {
   "cell_type": "code",
   "execution_count": 26,
   "id": "60f53558-4658-4df6-a9fd-1582a384e493",
   "metadata": {},
   "outputs": [
    {
     "data": {
      "text/plain": [
       "Quantity(value=-0.020869692013621984, unit=nanometer)"
      ]
     },
     "execution_count": 26,
     "metadata": {},
     "output_type": "execute_result"
    }
   ],
   "source": [
    "xb"
   ]
  },
  {
   "cell_type": "code",
   "execution_count": 30,
   "id": "2a7b6855-0f39-4b11-bd29-8c147759c2e3",
   "metadata": {},
   "outputs": [],
   "source": [
    "z_Vx_estado = integral_numerica_1D(zVx, -1.0*unit.nanometer, xb, 1000)\n",
    "Z_Vx = integral_numerica_1D(zVx, -1.0*unit.nanometer, 1.0*unit.nanometer, 1000)\n",
    "Pe_on_teorico = z_Vx_estado/Z_Vx"
   ]
  },
  {
   "cell_type": "code",
   "execution_count": 31,
   "id": "d6868717-a882-4dc8-b285-9d34f0b9c623",
   "metadata": {},
   "outputs": [
    {
     "name": "stdout",
     "output_type": "stream",
     "text": [
      "0.16878758996960966\n"
     ]
    }
   ],
   "source": [
    "print(Pe_on_teorico)"
   ]
  },
  {
   "cell_type": "markdown",
   "id": "4d784e19-db33-465b-9c7b-b7e738c98479",
   "metadata": {},
   "source": [
    "Veamos como efectivamente el valor de $P^{e}_{on}$ que calculamos de una simulación lo suficientemente larga converge al valor obtenido mediante mecánica estadística. Igual que hicimos en la unidad anterior:"
   ]
  },
  {
   "cell_type": "code",
   "execution_count": 40,
   "id": "feefe5c9-8d17-4907-9174-3ac81d279912",
   "metadata": {},
   "outputs": [
    {
     "name": "stderr",
     "output_type": "stream",
     "text": [
      "10000000it [05:52, 28341.53it/s]       \n"
     ]
    }
   ],
   "source": [
    "initial_positions = np.zeros([1,3]) * unit.nanometers\n",
    "\n",
    "time=1000*unit.nanoseconds\n",
    "saving_timestep=10.0*unit.picoseconds\n",
    "integration_timestep=0.1*unit.picoseconds\n",
    "friction=1.0/unit.picoseconds\n",
    "\n",
    "reporter = oms.tools.md.langevin_NVT(osystem, time=time, saving_timestep=saving_timestep,\n",
    "                                     integration_timestep=integration_timestep,\n",
    "                                     temperature=temperature, friction=friction,\n",
    "                                     initial_coordinates=initial_positions,\n",
    "                                     platform_name='CUDA')"
   ]
  },
  {
   "cell_type": "code",
   "execution_count": 41,
   "id": "c1acc603-9527-438d-b46a-7ab01b19d26d",
   "metadata": {},
   "outputs": [],
   "source": [
    "traj_x = reporter['coordinates'][:,0,0]\n",
    "M = traj_x.shape[0]\n",
    "traj_is_on = (traj_x<=xb)\n",
    "\n",
    "Pe_on_in_time = np.zeros([M])\n",
    "\n",
    "for frame_index in range(M):\n",
    "    m_on_aux = np.sum(traj_is_on[:frame_index])\n",
    "    Pe_on_in_time[frame_index] = m_on_aux/(frame_index+1)\n",
    "\n",
    "Pe_off_in_time = 1.0 - Pe_on_in_time"
   ]
  },
  {
   "cell_type": "code",
   "execution_count": 42,
   "id": "1e9136ab-cd41-48ea-9edb-7107186743e6",
   "metadata": {},
   "outputs": [
    {
     "data": {
      "image/png": "[encoded data removed]",
      "text/plain": [
       "<Figure size 864x216 with 1 Axes>"
      ]
     },
     "metadata": {
      "needs_background": "light"
     },
     "output_type": "display_data"
    }
   ],
   "source": [
    "plt.figure(figsize=(12,3))\n",
    "plt.plot(reporter['time'].in_units_of(unit.nanoseconds), Pe_on_in_time)\n",
    "plt.hlines(Pe_on_teorico,0,1000, linestyle=':', color='red')\n",
    "plt.ylabel('$P^e_on$'.format(reporter['coordinates'].unit))\n",
    "plt.xlabel('time ({})'.format(unit.nanoseconds))\n",
    "plt.show()"
   ]
  },
  {
   "cell_type": "markdown",
   "id": "302a5360-829d-4bc5-914c-7975fa747622",
   "metadata": {},
   "source": [
    "De hecho... podemos corroborar que la densidad de probabilidad sobre sobre el eje $X$ calculada teóricamente y la recogida de la simulación de la dinámica de Langevin son las mismas:"
   ]
  },
  {
   "cell_type": "code",
   "execution_count": 43,
   "id": "c9e5bbe9-2927-46f8-86f4-ef8acd9c4e8f",
   "metadata": {},
   "outputs": [],
   "source": [
    "def occupation_probability_density_1d(traj_x, x_range, n_bins):\n",
    "    delta_x = (x_range[1]-x_range[0])/n_bins\n",
    "    frequency = np.zeros(n_bins, dtype=int)\n",
    "    for x in traj_x:\n",
    "        bin_visited = int((x-x_range[0])/delta_x)\n",
    "        frequency[bin_visited]+=1\n",
    "    x_bins_centers = (x_range[0]+0.5*delta_x) + delta_x*np.arange(n_bins)\n",
    "    bins_probability_density = (1.0/delta_x)*(frequency/frequency.sum())\n",
    "    return x_bins_centers, bins_probability_density"
   ]
  },
  {
   "cell_type": "code",
   "execution_count": 44,
   "id": "2a22839f-310c-4bb7-8e33-0a83893345cd",
   "metadata": {},
   "outputs": [],
   "source": [
    "traj_x = reporter['coordinates'][:,0,0]\n",
    "x_center_bin, px = occupation_probability_density_1d(traj_x, [-1,1]*unit.nanometers, 100)"
   ]
  },
  {
   "cell_type": "code",
   "execution_count": 47,
   "id": "73d5737a-7a57-4140-9728-1af6a879be7b",
   "metadata": {},
   "outputs": [
    {
     "data": {
      "image/png": "[encoded data removed]",
      "text/plain": [
       "<Figure size 864x216 with 1 Axes>"
      ]
     },
     "metadata": {
      "needs_background": "light"
     },
     "output_type": "display_data"
    }
   ],
   "source": [
    "plt.figure(figsize=[12,3])\n",
    "plt.plot(x_center_bin, px)\n",
    "\n",
    "plt.show()"
   ]
  },
  {
   "cell_type": "markdown",
   "id": "caff4d33-9bb8-4015-aa7e-28b1ef666df3",
   "metadata": {},
   "source": [
    "Porque también podemos preguntarnos ¿cuán más probable es el $2$ que el $3$? En este caso nos estamos preguntando por la probabilidad relativa de $2$ con respecto a $3$, y podemos\n",
    "\n",
    "\n",
    "## ¿Y qué es la energía libre y cúal es su relación con la probabilidad?\n",
    "\n",
    "\n",
    "## Ya podemos calcular el valor esperado de los observables que no dependen del tiempo\n",
    "\n",
    "posición promedio, la energía cinética y la energía potencial promedio.\n",
    "\n",
    "\n",
    "### Pero nuestro doble pozo era tridimensional.\n",
    "\n",
    "Demostrar que lo que sucede en Y y Z no tiene nada que ver con X. Hay observables que si dependeran de la dimensionalidad, como por ejemplo la energía cinética."
   ]
  },
  {
   "cell_type": "markdown",
   "id": "9f13a039-e2e2-4b36-ad33-994d24e96d9e",
   "metadata": {},
   "source": [
    "\\begin{equation}\n",
    "Z = \\int_{\\vec_{r}} \\int_{\\vec_{v}} \\, d\\vec{r} d\\vec{v}\n",
    "\\end{equation}"
   ]
  },
  {
   "cell_type": "markdown",
   "id": "f50ae912-9ec2-4cc9-a642-43655c639edb",
   "metadata": {},
   "source": [
    "\\begin{equation}\n",
    "\\int_{\\vec_{r}} x dx\n",
    "\\end{equation}"
   ]
  },
  {
   "cell_type": "code",
   "execution_count": null,
   "id": "a2dfc37e-d302-4b9b-9b0a-858a9bd7309b",
   "metadata": {},
   "outputs": [],
   "source": [
    "Z = \\int_{\\vec_{r}} \\int_{\\vec_{v}} e^{-\\frac{1}{K_{B}T} U(\\vec{r},\\vec{v})} d\\vec{r} d\\vec{v}\n"
   ]
  },
  {
   "cell_type": "markdown",
   "id": "ea7282c0-86f1-4fd9-a3d2-f886abf7498e",
   "metadata": {},
   "source": [
    "Conocida la termodinámica del sistema, podemos predecir el valor de cualquier observable, o el resultado de cualquier experimento, que no dependa del tiempo."
   ]
  },
  {
   "cell_type": "markdown",
   "id": "de6fd7cb-481c-48ac-99de-866c55ff2a08",
   "metadata": {},
   "source": [
    "La probabilidad de que los observables tomen un cierto valor depende de las energías potenciales y cinéticas de los estados del sistema compatibles con dicho valor del observable. Es por eso que hablamos de termodinámica cuando nos referimos a medidas y observables de magnitudes del equilibrio, que no dependen del tiempo."
   ]
  },
  {
   "cell_type": "code",
   "execution_count": null,
   "id": "0b8464a4-d3fd-45ec-b494-f7c707cb8175",
   "metadata": {},
   "outputs": [],
   "source": []
  }
 ],
 "metadata": {
  "kernelspec": {
   "display_name": "Python 3",
   "language": "python",
   "name": "python3"
  },
  "language_info": {
   "codemirror_mode": {
    "name": "ipython",
    "version": 3
   },
   "file_extension": ".py",
   "mimetype": "text/x-python",
   "name": "python",
   "nbconvert_exporter": "python",
   "pygments_lexer": "ipython3",
   "version": "3.7.10"
  }
 },
 "nbformat": 4,
 "nbformat_minor": 5
}
