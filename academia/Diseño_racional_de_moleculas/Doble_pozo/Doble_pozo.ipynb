{
 "cells": [
  {
   "cell_type": "code",
   "execution_count": 2,
   "id": "b3a3afb2-93b0-4a0b-ac8a-8b99bfbf0c73",
   "metadata": {},
   "outputs": [],
   "source": [
    "import numpy as np\n",
    "import simtk.unit as unit"
   ]
  },
  {
   "cell_type": "markdown",
   "id": "9e460de0-5d30-4e90-8f61-07f88938dffd",
   "metadata": {},
   "source": [
    "# El doble pozo como modelo asociación-disociación"
   ]
  },
  {
   "cell_type": "markdown",
   "id": "69d2cff7-2510-4d13-aa3a-b99dc1c7c8a0",
   "metadata": {},
   "source": [
    "unión: acoplo, asociación...\n",
    "desunión: desacoplo, ruptura, disociación..."
   ]
  },
  {
   "cell_type": "markdown",
   "id": "4bc369aa-1198-4d4c-ac6f-3e40595a6daa",
   "metadata": {},
   "source": [
    "Esta unidad requiere conocer: qué es la dinámica de langevin, qué es y cómo se usa openmm."
   ]
  },
  {
   "cell_type": "markdown",
   "id": "8bdb30cc-ce1b-496b-a595-91114011023e",
   "metadata": {},
   "source": [
    "## El potencial de doble pozo asimétrico"
   ]
  },
  {
   "cell_type": "markdown",
   "id": "b8b54534-0c0e-46db-afb0-60fd4b692089",
   "metadata": {},
   "source": [
    "Simulamos una partícula en un potencial de doble pozo asimétrico, en tres dimensiones, definido como:\n",
    "\n",
    "\\begin{equation}\n",
    "V(x,y,z)=E_{0}\\left[ \\left(\\frac{x}{a}\\right)^4 -2\\left(\\frac{x}{a}\\right)^2 \\right]-\\frac{b}{a}x + \\frac{1}{2}\\frac{8E_{0}}{a^2}\\left( y^2 + z^2 \\right)\n",
    "\\end{equation}"
   ]
  },
  {
   "cell_type": "markdown",
   "id": "1a667a06-0737-4faf-b656-36cfb2207d4e",
   "metadata": {},
   "source": [
    "Más información en: unidad de dinámica molecular, openmolecularsystems, etc."
   ]
  },
  {
   "cell_type": "markdown",
   "id": "98e0cf8c-65be-4228-ab49-68c5d9cc9dbd",
   "metadata": {},
   "source": [
    "Haremos uso de los parámetros:"
   ]
  },
  {
   "cell_type": "code",
   "execution_count": 3,
   "id": "71e3bc83-ed06-4d58-be36-fbb0b6d7558e",
   "metadata": {},
   "outputs": [],
   "source": [
    "Eo=3.0 * unit.kilocalories_per_mole # barrier height when the double well is symmetric.\n",
    "a=1.0 * unit.nanometers # Absolute value of the coordinates of minima (the potential is an even function).\n",
    "b=1.0 * unit.kilocalories_per_mole # vertical shift of basins (approx.)"
   ]
  },
  {
   "cell_type": "code",
   "execution_count": null,
   "id": "d247e35d-14e9-4698-a434-5fba255cac20",
   "metadata": {},
   "outputs": [],
   "source": []
  }
 ],
 "metadata": {
  "kernelspec": {
   "display_name": "Python 3",
   "language": "python",
   "name": "python3"
  },
  "language_info": {
   "codemirror_mode": {
    "name": "ipython",
    "version": 3
   },
   "file_extension": ".py",
   "mimetype": "text/x-python",
   "name": "python",
   "nbconvert_exporter": "python",
   "pygments_lexer": "ipython3",
   "version": "3.7.10"
  }
 },
 "nbformat": 4,
 "nbformat_minor": 5
}
