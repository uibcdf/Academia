{
 "cells": [
  {
   "cell_type": "code",
   "execution_count": 1,
   "id": "b3a3afb2-93b0-4a0b-ac8a-8b99bfbf0c73",
   "metadata": {},
   "outputs": [],
   "source": [
    "import numpy as np\n",
    "import simtk.unit as unit\n",
    "import matplotlib.pyplot as plt\n",
    "import openmolecularsystems as oms"
   ]
  },
  {
   "cell_type": "markdown",
   "id": "9e460de0-5d30-4e90-8f61-07f88938dffd",
   "metadata": {},
   "source": [
    "# El doble pozo como modelo asociación-disociación"
   ]
  },
  {
   "cell_type": "markdown",
   "id": "69d2cff7-2510-4d13-aa3a-b99dc1c7c8a0",
   "metadata": {},
   "source": [
    "unión: acoplo, asociación...\n",
    "desunión: desacoplo, ruptura, disociación..."
   ]
  },
  {
   "cell_type": "markdown",
   "id": "4bc369aa-1198-4d4c-ac6f-3e40595a6daa",
   "metadata": {},
   "source": [
    "Esta unidad requiere conocer: qué es la dinámica de langevin, qué es y cómo se usa openmm."
   ]
  },
  {
   "cell_type": "markdown",
   "id": "8bdb30cc-ce1b-496b-a595-91114011023e",
   "metadata": {},
   "source": [
    "## El potencial de doble pozo asimétrico"
   ]
  },
  {
   "cell_type": "markdown",
   "id": "b8b54534-0c0e-46db-afb0-60fd4b692089",
   "metadata": {},
   "source": [
    "Simulamos una partícula en un potencial de doble pozo asimétrico, en tres dimensiones, definido como:\n",
    "\n",
    "\\begin{equation}\n",
    "V(x,y,z)=E_{0}\\left[ \\left(\\frac{x}{a}\\right)^4 -2\\left(\\frac{x}{a}\\right)^2 \\right]-\\frac{b}{a}x + \\frac{1}{2}k\\left( y^2 + z^2 \\right)\n",
    "\\end{equation}"
   ]
  },
  {
   "cell_type": "markdown",
   "id": "1a667a06-0737-4faf-b656-36cfb2207d4e",
   "metadata": {},
   "source": [
    "Más información en: unidad de dinámica molecular, openmolecularsystems, etc."
   ]
  },
  {
   "cell_type": "markdown",
   "id": "98e0cf8c-65be-4228-ab49-68c5d9cc9dbd",
   "metadata": {},
   "source": [
    "Haremos uso de los parámetros para el potencial:"
   ]
  },
  {
   "cell_type": "code",
   "execution_count": null,
   "id": "71e3bc83-ed06-4d58-be36-fbb0b6d7558e",
   "metadata": {},
   "outputs": [],
   "source": [
    "Eo = 3.0 * unit.kilocalories_per_mole\n",
    "a = 0.5 * unit.nanometers\n",
    "b = 0.5 * unit.kilocalories_per_mole\n",
    "k = 1.0*unit.kilocalories_per_mole/unit.angstrom**2"
   ]
  },
  {
   "cell_type": "markdown",
   "id": "3adf0e4a-a2f3-4bd7-a177-9fcb884c01ff",
   "metadata": {},
   "source": [
    "Y para el sistema:"
   ]
  },
  {
   "cell_type": "code",
   "execution_count": null,
   "id": "01694483-756e-4e7e-a86f-bdc65630721e",
   "metadata": {},
   "outputs": [],
   "source": [
    "mass = 35.453 * unit.amu"
   ]
  },
  {
   "cell_type": "code",
   "execution_count": null,
   "id": "d247e35d-14e9-4698-a434-5fba255cac20",
   "metadata": {},
   "outputs": [],
   "source": [
    "osystem = oms.DoubleWell(mass=35.453*unit.amu, Eo=3.0*unit.kilocalories_per_mole,\n",
    "                         a=5*unit.angstrom, b=0.5*unit.kilocalories_per_mole,\n",
    "                         k=1.0*unit.kilocalories_per_mole/unit.angstrom**2)"
   ]
  },
  {
   "cell_type": "code",
   "execution_count": null,
   "id": "f84ba1c4-8e52-4878-8970-fd92e3d0ddd6",
   "metadata": {},
   "outputs": [],
   "source": [
    "xyz_serie = np.zeros([200,3]) * unit.nanometers\n",
    "xyz_serie[:,0] = np.linspace(-1.0, 1.0, num=200) * unit.nanometers\n",
    "\n",
    "potential = osystem.evaluate_potential(xyz_serie)\n",
    "\n",
    "plt.plot(xyz_serie[:,0], potential, 'r-')\n",
    "plt.ylim(-4,1)\n",
    "plt.xlim(-1,1)\n",
    "plt.grid()\n",
    "plt.xlabel(\"X ({})\".format(unit.nanometers))\n",
    "plt.ylabel(\"Energy ({})\".format(unit.kilocalories_per_mole))\n",
    "plt.show()"
   ]
  },
  {
   "cell_type": "code",
   "execution_count": null,
   "id": "20ee11be-1257-4e41-881d-fd54f26955cf",
   "metadata": {},
   "outputs": [],
   "source": [
    "initial_positions = np.zeros([1,3]) * unit.nanometers\n",
    "initial_positions[0,0] = 0.51 * unit.nanometers"
   ]
  },
  {
   "cell_type": "code",
   "execution_count": null,
   "id": "338cb406-7258-44b0-b459-5f303628ef8c",
   "metadata": {},
   "outputs": [],
   "source": [
    "reporter = oms.tools.md.langevin_NVT(osystem, time=100*unit.nanoseconds,\n",
    "                                     saving_timestep=10.0*unit.picoseconds,\n",
    "                                     integration_timestep=0.1*unit.picoseconds,\n",
    "                                     temperature=300.0*unit.kelvin,\n",
    "                                     friction=1.0/unit.picoseconds,\n",
    "                                     initial_coordinates=initial_positions,\n",
    "                                     platform_name='CUDA')"
   ]
  },
  {
   "cell_type": "code",
   "execution_count": null,
   "id": "a2d28531-8be7-48a6-95f6-b6edc4f141bf",
   "metadata": {},
   "outputs": [],
   "source": [
    "plt.plot(reporter['time'].in_units_of(unit.nanoseconds), reporter['coordinates'][:,0,0])\n",
    "plt.ylabel('X ({})'.format(reporter['coordinates'].unit))\n",
    "plt.xlabel('time ({})'.format(unit.nanoseconds))\n",
    "plt.show()"
   ]
  },
  {
   "cell_type": "code",
   "execution_count": null,
   "id": "47143b71-0a7c-42eb-9a5d-e2919f3c2d9a",
   "metadata": {},
   "outputs": [],
   "source": [
    "fig = plt.figure()\n",
    "ax = fig.add_subplot(projection='3d')\n",
    "ax.scatter(reporter['coordinates'][:,0,0], reporter['coordinates'][:,0,1],\n",
    "           reporter['coordinates'][:,0,2])\n",
    "ax.set_xlim3d([-0.8, 0.8])\n",
    "ax.set_ylim3d([-0.3, 0.3])\n",
    "plt.show()"
   ]
  },
  {
   "cell_type": "code",
   "execution_count": null,
   "id": "94d3d294-0085-4999-a54f-c1e92744730b",
   "metadata": {},
   "outputs": [],
   "source": [
    "def occupation_probability_density_1d(traj_x, x_range, n_bins):\n",
    "    delta_x = (x_range[1]-x_range[0])/n_bins\n",
    "    frequency = np.zeros(n_bins, dtype=int)\n",
    "    for x in traj_x:\n",
    "        bin_visited = int((x-x_range[0])/delta_x)\n",
    "        frequency[bin_visited]+=1\n",
    "    x_bins_centers = (x_range[0]+0.5*delta_x) + delta_x*np.arange(n_bins)\n",
    "    bins_probability_density = (1.0/delta_x)*(frequency/frequency.sum())\n",
    "    return x_bins_centers, bins_probability_density"
   ]
  },
  {
   "cell_type": "code",
   "execution_count": null,
   "id": "8c5fce24-2002-4e77-bbaf-60ff95f6a4f8",
   "metadata": {},
   "outputs": [],
   "source": [
    "traj_x = reporter['coordinates'][:,0,0]\n",
    "x_center_bin, px = occupation_probability_density_1d(traj_x, [-1,1]*unit.nanometers, 50)\n",
    "\n",
    "traj_y = reporter['coordinates'][:,0,1]\n",
    "y_center_bin, py = occupation_probability_density_1d(traj_y, [-0.5,0.5]*unit.nanometers, 50)\n",
    "\n",
    "traj_z = reporter['coordinates'][:,0,2]\n",
    "z_center_bin, pz = occupation_probability_density_1d(traj_z, [-0.5,0.5]*unit.nanometers, 50)"
   ]
  },
  {
   "cell_type": "code",
   "execution_count": null,
   "id": "d17eb333-2c28-49b8-96a8-484c1d8b928c",
   "metadata": {},
   "outputs": [],
   "source": [
    "fig, axs = plt.subplots(1, 2)\n",
    "fig.set_size_inches([12,3])\n",
    "axs[0].plot(x_center_bin, px)\n",
    "axs[1].plot(y_center_bin, py)\n",
    "axs[1].plot(z_center_bin, pz)\n",
    "\n",
    "plt.show()"
   ]
  },
  {
   "cell_type": "markdown",
   "id": "310e8990-66db-4e6f-a84b-66ad8c4c4a46",
   "metadata": {},
   "source": [
    "Conocemos que podemos definir los estados asociado (\"on\" en ingles) y disociado (\"off\" en inglés) como las dos regiones del espacio conformacional separadas por el plano paralelo a $YZ$ ubicado en la coordenada $x_{b}$ en el eje $X$ correspondiente al máximo de la barrera del potencial."
   ]
  },
  {
   "cell_type": "code",
   "execution_count": null,
   "id": "860f55d3-e3d0-4bdf-8175-90e1d7306ba0",
   "metadata": {},
   "outputs": [],
   "source": [
    "xb = osystem.get_coordinates_maximum()[0][0]"
   ]
  },
  {
   "cell_type": "markdown",
   "id": "8cf6568c-9200-419b-bfa0-db056e34da7a",
   "metadata": {},
   "source": [
    "Definiremos la constante de disociación como:\n",
    "\n",
    "\\begin{equation}\n",
    "K_{D}=\\frac{P_\\textit{off}}{P_\\textit{on}}\n",
    "\\end{equation}\n",
    "\n",
    "Y la constante de asociación como:\n",
    "\n",
    "\\begin{equation}\n",
    "K_{A}=\\frac{P_\\textit{on}}{P_\\textit{off}}=\\frac{1}{K_{D}}\n",
    "\\end{equation}\n",
    "\n",
    "Donde $P_\\textit{on}$ y $P_\\textit{off}$ es la probabilidad de encontrar a la partícula en el pozo de la izquierda y en el de la derecha correspondientemente.\n",
    "\n",
    "\\begin{equation}\n",
    "P_{on}=P(x\\leq x_{b})\n",
    "\\end{equation}\n",
    "\n",
    "\\begin{equation}\n",
    "P_{\\textit{off}}=P(x>x_{b})\n",
    "\\end{equation}\n",
    "\n",
    "De tal manera que por construcción:\n",
    "\n",
    "\\begin{equation}\n",
    "1 = P_{\\textit{off}}+P_{\\textit{on}}\n",
    "\\end{equation}\n",
    "\n",
    "Donde $x_b$ es la coordenada del máximo de la barrera."
   ]
  },
  {
   "cell_type": "markdown",
   "id": "65e7cabb-de11-42d4-915d-f0cdab1d7020",
   "metadata": {},
   "source": [
    "Y estimaremos $K_{D}$ contando el número de eventos \"on\" ($m_\\textit{on}$) y \"off\" ($m_\\textit{off}$) observados a lo largo de nuestra partícula:\n",
    "\n",
    "\\begin{equation}\n",
    "K_{D}=\\frac{P_\\textit{off}}{P_\\textit{on}} \\approx \\frac{m_\\textit{off}/M}{m_\\textit{on}/M} =\n",
    "\\frac{m_\\textit{off}}{m_\\textit{on}}\n",
    "\\end{equation}"
   ]
  },
  {
   "cell_type": "code",
   "execution_count": null,
   "id": "3e8c5554-7a9c-4abd-965f-cbf9c302d82e",
   "metadata": {},
   "outputs": [],
   "source": [
    "m_on = np.sum(traj_x<=xb)\n",
    "m_off = traj_x.shape[0] - m_on\n",
    "Kd = m_off/m_on"
   ]
  },
  {
   "cell_type": "code",
   "execution_count": null,
   "id": "8693d23a-19d9-4edc-b88e-436ea05025f9",
   "metadata": {},
   "outputs": [],
   "source": [
    "Kd"
   ]
  },
  {
   "cell_type": "markdown",
   "id": "1aa40280-875d-4ff5-9484-edfc8d4a966e",
   "metadata": {},
   "source": [
    "Decimos que $P_\\textit{on}$ y $P_\\textit{off}$, y por la tanto $K_\\textit{D}$ y $K_\\textit{A}$, nos describen la termodinámica del sistema de dos estados. Pero no nos dicen nada de la cinética del proceso. Para ello debemos atender a las constantes cinéticas $K_\\textit{on}$ y $K_\\textit{off}$:\n",
    "\n",
    "\\begin{equation}\n",
    "K_\\textit{on} = P_{\\textit{off}\\rightarrow\\textit{on}}\n",
    "\\end{equation}\n",
    "\n",
    "\\begin{equation}\n",
    "K_\\textit{off} = P_{\\textit{on}\\rightarrow\\textit{off}}\n",
    "\\end{equation}\n",
    "\n",
    "\n",
    "Donde $P_{\\textit{off}\\rightarrow\\textit{on}}$ es la probabilidad de estando en el estado 'off', saltar al estado 'on', o escrito en términos de la probililidad condicionada:\n",
    "\n",
    "\\begin{equation}\n",
    "P_{\\textit{off}\\rightarrow\\textit{on}} = P(x>x_{b}| x\\leq x_{b})\n",
    "\\end{equation}\n",
    "\n",
    "Y $P_{\\textit{on}\\rightarrow\\textit{off}}$ es la probabilidad de estando en el estado 'on', saltar al estado 'off':\n",
    "\n",
    "\\begin{equation}\n",
    "P_{\\textit{on}\\rightarrow\\textit{off}} = P(x\\leq x_{b}| x>x_{b})\n",
    "\\end{equation}\n",
    "\n",
    "Y podemos estimar estas probabilidades $P_{\\textit{off}\\rightarrow\\textit{on}}$ y $P_{\\textit{on}\\rightarrow\\textit{off}}$ contando en nuestra trayectoria el número de transiciones ${\\textit{off}\\rightarrow\\textit{on}}$ ($m_{\\textit{off}\\rightarrow\\textit{on}}$) y ${\\textit{on}\\rightarrow\\textit{off}}$ ($m_{\\textit{on}\\rightarrow\\textit{off}}$) observadas a lo largo de nuestra trayectoria:\n",
    "\n",
    "\\begin{equation}\n",
    "K_\\textit{on} = P_{\\textit{off}\\rightarrow\\textit{on}} \\approx \\frac{m_{\\textit{off}\\rightarrow\\textit{on}}}{m_\\textit{off}}\n",
    "\\end{equation}\n",
    "\n",
    "\\begin{equation}\n",
    "K_\\textit{off} = P_{\\textit{on}\\rightarrow\\textit{off}} \\approx \\frac{m_{\\textit{on}\\rightarrow\\textit{off}}}{m_\\textit{on}}\n",
    "\\end{equation}\n"
   ]
  },
  {
   "cell_type": "code",
   "execution_count": null,
   "id": "f549f02c-1cb4-4928-b56c-f277d0d2d974",
   "metadata": {},
   "outputs": [],
   "source": [
    "m_off_to_on = 0\n",
    "m_on_to_off = 0\n",
    "traj_is_on = (traj_x<=xb)\n",
    "\n",
    "for frame_index in range(traj_is_on.shape[0]-1):\n",
    "    now = traj_is_on[frame_index]\n",
    "    after = traj_is_on[frame_index+1]\n",
    "    if now==True and after==False:\n",
    "        m_on_to_off+=1\n",
    "    elif now==False and after==True:\n",
    "        m_off_to_on+=1\n",
    "\n",
    "P_off_to_on = m_off_to_on/m_off\n",
    "P_on_to_off = m_on_to_off/m_on"
   ]
  },
  {
   "cell_type": "code",
   "execution_count": null,
   "id": "3fe9019e-de2a-4c39-b1cd-8a58d9d4b7b5",
   "metadata": {},
   "outputs": [],
   "source": [
    "P_off_to_on"
   ]
  },
  {
   "cell_type": "code",
   "execution_count": null,
   "id": "ff91c728-2a5e-434f-b044-3a87412d2a9d",
   "metadata": {},
   "outputs": [],
   "source": [
    "P_on_to_off"
   ]
  },
  {
   "cell_type": "markdown",
   "id": "b2f4d3f5-b091-4e69-8b1c-9793923c4e6b",
   "metadata": {},
   "source": [
    "Observa que se cumple, en realidad para toda trayectoria que capture el comportamiento en equilibrio de cualquier sistema estocástico cerrado, que el número de transiciones observadas entre dos estados cualesquiera $i$ y $j$ en un sentido, es igual al número de transiciones observados en el sentido contrario: $m_{i \\rightarrow j} = m_{j \\rightarrow i}$. En el caso que estamos trabajando, al haber únicamente dos estados, el argumento se hace más fácil de entender. En un tiempo suficientemente largo el número de saltos $m_{\\textit{on} \\rightarrow \\textit{off}}$ es igual a $m_{\\textit{off} \\rightarrow \\textit{on}}$. La diferencia puede ser un salto, si es que la trayectoria observada no termina en el mismo estado en el que comenzó. Pero si el número de saltos observados es suficientemente largo, consideraremos esto un error no significativo en los números:\n",
    "\n",
    "\\begin{equation}\n",
    "m_{\\textit{on} \\rightarrow \\textit{off}} = m_{\\textit{off} \\rightarrow \\textit{on}}\n",
    "\\end{equation}\n",
    "\n",
    "Podemos reescribir esta exprexión de la siguiente manera:\n",
    "\n",
    "\\begin{equation}\n",
    "\\frac{m_\\textit{on}}{M} \\frac{m_{\\textit{on} \\rightarrow \\textit{off}}}{m_\\textit{on}} =\n",
    "\\frac{m_\\textit{off}}{M} \\frac{m_{\\textit{off} \\rightarrow \\textit{on}}}{m_\\textit{off}}\n",
    "\\end{equation}\n",
    "\n",
    "O de otra manera... Si sabemos, que el número neto de transiciones entre los estados \"on\" y \"off\" son iguales en un sentido y en otro. Construyamos la igualdad asumiendo que no sabemos ni podemos calcular dicho número, pero sabemos el número total de pasos de intregación de nuestra trayectoria ($M$) y las probabilidades estacionarias y de transición que caracterizan nuestro sistema:\n",
    "\n",
    "\\begin{equation}\n",
    "M P_\\textit{on} P_{\\textit{on} \\rightarrow \\textit{off}} =\n",
    "M P_\\textit{off} P_{\\textit{off} \\rightarrow \\textit{on}}\n",
    "\\end{equation}\n",
    "\n",
    "\n",
    "De ambas maneras lo que obtenemos es **la ecuación de balance detallado**, que relaciona la termodinámica y la cinética. Esta expresión se cumple para cualquier sistema cerrado en equilibrio, entre cualquier par de estados:\n",
    "\n",
    "\\begin{equation}\n",
    "P_\\textit{on} P_{\\textit{on} \\rightarrow \\textit{off}} =\n",
    "P_\\textit{off} P_{\\textit{off} \\rightarrow \\textit{on}}\n",
    "\\end{equation}\n",
    "\n",
    "O escrito de otra manera:\n",
    "\n",
    "\\begin{equation}\n",
    "\\frac{P_\\textit{on}}{P_\\textit{off}} = \\frac{P_{\\textit{off} \\rightarrow \\textit{on}}}{P_{\\textit{on} \\rightarrow \\textit{off}}}\n",
    "\\end{equation}\n"
   ]
  },
  {
   "cell_type": "markdown",
   "id": "f23679e8-17d9-424c-8bcf-239c737cdd55",
   "metadata": {},
   "source": [
    "Vamos a detenernos un momento en esta expresión porque merece algunos comentarios. En primer lugar vemos que las constantes $K_{D}$ y $K_{A}$ pueden ser calculadas de las cinéticas:\n",
    "\n",
    "\\begin{equation}\n",
    "K_{A} = \\frac{K_\\textit{on}}{K_\\textit{off}}\n",
    "\\end{equation}\n",
    "\n",
    "Por otro lado vemos que la termodinámica no determina la cinética y vice versa. Es decir, podemos tener nuestro doble pozo en un estado termodinámico que haga que los estados 'on' y 'off' tengan cierta probabilidad de ocupación, pero esto no nos dice absolutamente nada sobre cuan fácil o rápido es transitar entre ambos estados. Sólo nos habla del cociente de las constantes cinéticas, pero hay infinitas combinaciones de valores para la pareja de constantes $K_\\textit{on}$ y $K_\\textit{off}$ compatibles con la misma constante de disociación. O con un lenguaje más aterrizado en el diseño de moléculas con potencial farmacológico: podemos convenir que la constante $K_{D}$ es un parámetro a optimizar con el diseño -queremos moléculas cuya probabilidad de estar asociadas al receptor sea alta-; pero esto no nos dice nada de la facilidad con la que los complejos receptor-ligando se forman o rompen, ni por lo tanto nos dice nada a cerca del tiempo de vida medio del complejo receptor-ligando. Y, ¿qué será más importante optimizar para tener un buen candidato a molécula idonea con propiedades farmacológicas?¿El cociente $P_\\textit{on} / P_\\textit{off}$ o el tiempo de vida media del complejo $\\propto 1 / P_{\\textit{on} \\rightarrow \\textit{off}}$?"
   ]
  },
  {
   "cell_type": "markdown",
   "id": "b01a9ccb-47bf-4706-be7f-e37c6560f20e",
   "metadata": {},
   "source": [
    "Ya tenemos caracterizado nuestro modelo cinético de dos estados, construido de la observación durante un tiempo limitado del comportamiento dinámico de una partícula en el potencial de doble pozo. Ahora, debemos preguntarnos... ¿Cúan confiable es nuestra caracterización del sistema?¿Cúal es la calidad de las observaciones o de las predicciones que podemos hacer? Estas preguntas deben acompañar siempre al resultado de nuestro trabajo, a nuestras afirmaciones o respuestas en cualquier contexto relacionado con nuestro proyecto de investigación."
   ]
  },
  {
   "cell_type": "markdown",
   "id": "61afd27e-fd19-40ac-90b5-eced8ce4e182",
   "metadata": {},
   "source": [
    "Ideas de las siguientes unidades:\n",
    "    - Nuestras constantes cinéticas y termodinámicas nos dan un buen modelo?\n",
    "    - Predicción de la termodinámica desde la mecánica estadística\n",
    "    - Predicción de la cinética desde la teoría de procesos estocásticos\n",
    "    \n",
    "En las conclusiones finales poner preguntas como:\n",
    "- Estará la termodinámica y cinética de un proceso de unión proteina-ligando bien descrito por un proceso de dos estados?"
   ]
  },
  {
   "cell_type": "markdown",
   "id": "6b644e2f-30fa-4c7c-aad2-60386ace18c0",
   "metadata": {},
   "source": [
    "- Es necesaria una dinámica para sacar Kd? Para qué necesito una dinámica fuerza bruta si no voy a sacar con precisión Kd. Hay otras técnicas? por ejemplo monte carlo..."
   ]
  },
  {
   "cell_type": "code",
   "execution_count": null,
   "id": "955d1de4-ba5e-4b14-815d-61b5aac77406",
   "metadata": {},
   "outputs": [],
   "source": []
  }
 ],
 "metadata": {
  "kernelspec": {
   "display_name": "Python 3",
   "language": "python",
   "name": "python3"
  },
  "language_info": {
   "codemirror_mode": {
    "name": "ipython",
    "version": 3
   },
   "file_extension": ".py",
   "mimetype": "text/x-python",
   "name": "python",
   "nbconvert_exporter": "python",
   "pygments_lexer": "ipython3",
   "version": "3.7.10"
  }
 },
 "nbformat": 4,
 "nbformat_minor": 5
}
