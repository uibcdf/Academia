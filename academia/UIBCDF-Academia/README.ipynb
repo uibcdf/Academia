{
 "cells": [
  {
   "cell_type": "markdown",
   "id": "05e81566-92b8-4e2b-8b6a-40cd872c12ae",
   "metadata": {},
   "source": [
    "<div style='text-align: right;'> <a href=\"../README.ipynb#UIBCDF-Academia\">Regresar</a> </div>\n",
    "\n",
    "-----\n",
    "\n",
    "<br />\n",
    "\n",
    "# UIBCDF-Academia: Qué es, cómo se usa y cómo contribuir\n",
    "\n",
    "- [Qué es](Que_es/Que_es.ipynb) <span style=\"color:#823138\">[0%]</span>\n",
    "- [Cómo se usa](Como_se_usa/Como_se_usa.ipynb) <span style=\"color:#823138\">[100%]</span>\n",
    "- [Cómo contribuir](Como_contribuir/Como_contribuir.ipynb) <span style=\"color:#823138\">[0%]</span>\n",
    "\n",
    "<br />\n",
    "\n",
    "-------\n",
    "<p xmlns:cc=\"http://creativecommons.org/ns#\" xmlns:dct=\"http://purl.org/dc/terms/\"><a property=\"dct:title\" rel=\"cc:attributionURL\" href=\"https://github.com/uibcdf/Academia\">UIBCDF-Academia</a> por <a rel=\"cc:attributionURL dct:creator\" property=\"cc:attributionName\" href=\"https://github.com/uibcdf/Academia/graphs/contributors\">UIBCDF Lab, autores y colaboradores</a> es material protegido bajo una licencia <a href=\"http://creativecommons.org/licenses/by-nc-sa/4.0/deed.es?ref=chooser-v1\" target=\"_blank\" rel=\"license noopener noreferrer\" style=\"display:inline-block;\">Attribution-NonCommercial-ShareAlike 4.0 International<img style=\"height:22px!important;margin-left:3px;vertical-align:text-bottom;\" src=\"https://mirrors.creativecommons.org/presskit/icons/cc.svg?ref=chooser-v1\"><img style=\"height:22px!important;margin-left:3px;vertical-align:text-bottom;\" src=\"https://mirrors.creativecommons.org/presskit/icons/by.svg?ref=chooser-v1\"><img style=\"height:22px!important;margin-left:3px;vertical-align:text-bottom;\" src=\"https://mirrors.creativecommons.org/presskit/icons/nc.svg?ref=chooser-v1\"><img style=\"height:22px!important;margin-left:3px;vertical-align:text-bottom;\" src=\"https://mirrors.creativecommons.org/presskit/icons/sa.svg?ref=chooser-v1\"></a></p>\n",
    "\n"
   ]
  },
  {
   "cell_type": "code",
   "execution_count": null,
   "id": "4fd4c314-58a4-44b7-93ad-cfa62b0566f5",
   "metadata": {},
   "outputs": [],
   "source": []
  }
 ],
 "metadata": {
  "kernelspec": {
   "display_name": "Python 3",
   "language": "python",
   "name": "python3"
  },
  "language_info": {
   "codemirror_mode": {
    "name": "ipython",
    "version": 3
   },
   "file_extension": ".py",
   "mimetype": "text/x-python",
   "name": "python",
   "nbconvert_exporter": "python",
   "pygments_lexer": "ipython3",
   "version": "3.7.10"
  }
 },
 "nbformat": 4,
 "nbformat_minor": 5
}
