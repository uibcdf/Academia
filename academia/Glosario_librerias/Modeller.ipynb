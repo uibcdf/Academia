{
 "cells": [
  {
   "cell_type": "markdown",
   "metadata": {},
   "source": [
    "Hay que pedir licencia gratuita para uso no comercial:  \n",
    "https://salilab.org/modeller/registration.html\n",
    "\n",
    "Para incluir la variable (clave de licencia):\n",
    "\n",
    "``` bash\n",
    "vim $CONDA_PREFIX/lib/modeller-9.20/modlib/modeller/config.py\n",
    "```\n",
    "\n",
    "``` bash\n",
    "license = r'MODELLERKEY'\n",
    "```\n",
    "\n",
    "``` bash\n",
    "conda config --add channels omnia # si no está ya\n",
    "conda config --add channels salilab\n",
    "conda install modeller\n",
    "```\n",
    "\n",
    "El canal omnia tiene una copia del paquete en su repositorio de\n",
    "anaconda. Este paquete puede estar todavía no actualizado si salilab\n",
    "colgó un modeller nuevo recientemente. Pero la copia de omnia es\n",
    "suficiente para el propósito de nuestro laboratorio."
   ]
  }
 ],
 "nbformat": 4,
 "nbformat_minor": 5,
 "metadata": {}
}
