{
 "cells": [
  {
   "cell_type": "markdown",
   "metadata": {},
   "source": [
    "https://github.com/pandegroup/pdbfixer  \n",
    "http://htmlpreview.github.io/?https://raw.github.com/pandegroup/pdbfixer/master/Manual.html\n",
    "\n",
    "``` bash\n",
    "conda install -c omnia pdbfixer\n",
    "```\n",
    "\n",
    "Para Python 3.7, a dia de hoy:\n",
    "\n",
    "``` bash\n",
    "conda install -c omnia/label/beta pdbfixer \n",
    "```"
   ]
  }
 ],
 "nbformat": 4,
 "nbformat_minor": 5,
 "metadata": {}
}
