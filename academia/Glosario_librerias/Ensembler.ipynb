{
 "cells": [
  {
   "cell_type": "markdown",
   "id": "0ee49564",
   "metadata": {},
   "source": [
    "https://ensembler.readthedocs.io/en/lat  \n",
    "https://github.com/choderalab/ensemblerest/index.html  \n",
    "https://github.com/choderalab/ensembler  \n",
    "https://ensembler.readthedocs.io/en/latest/installation.html\n",
    "\n",
    "``` bash\n",
    "conda install ensembler\n",
    "```"
   ]
  }
 ],
 "metadata": {
  "kernelspec": {
   "display_name": "Python 3",
   "language": "python",
   "name": "python3"
  },
  "language_info": {
   "name": ""
  }
 },
 "nbformat": 4,
 "nbformat_minor": 5
}
