{
 "cells": [
  {
   "cell_type": "markdown",
   "id": "b6f64b0e",
   "metadata": {},
   "source": [
    "https://ipyvolume.readthedocs.io/en/latest/install.html"
   ]
  }
 ],
 "metadata": {
  "kernelspec": {
   "display_name": "Python 3",
   "language": "python",
   "name": "python3"
  },
  "language_info": {
   "name": ""
  }
 },
 "nbformat": 4,
 "nbformat_minor": 5
}
