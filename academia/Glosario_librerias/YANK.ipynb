{
 "cells": [
  {
   "cell_type": "markdown",
   "metadata": {},
   "source": [
    "https://github.com/choderalab/yank  \n",
    "https://anaconda.org/omnia/yank  \n",
    "http://getyank.org/latest/\n",
    "\n",
    "``` bash\n",
    "conda install -c omnia yank \n",
    "```"
   ]
  }
 ],
 "nbformat": 4,
 "nbformat_minor": 5,
 "metadata": {}
}
