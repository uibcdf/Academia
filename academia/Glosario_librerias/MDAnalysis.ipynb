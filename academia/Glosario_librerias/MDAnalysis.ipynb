{
 "cells": [
  {
   "cell_type": "markdown",
   "metadata": {},
   "source": [
    "https://www.mdanalysis.org/  \n",
    "https://www.mdanalysis.org/pages/installation_quick_start/  \n",
    "https://www.mdanalysis.org/MDAnalysisTutorial/\n",
    "\n",
    "``` bash\n",
    "conda config --add channels conda-forge\n",
    "conda install mdanalysis\n",
    "```\n",
    "\n",
    "``` bash\n",
    "conda install MDAnalysisTests\n",
    "```"
   ]
  }
 ],
 "nbformat": 4,
 "nbformat_minor": 5,
 "metadata": {}
}
