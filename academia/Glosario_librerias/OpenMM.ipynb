{
 "cells": [
  {
   "cell_type": "markdown",
   "metadata": {},
   "source": [
    "<img src=\"http://openmm.org/img/logos/Icon.svg\" width=\"300\">\n",
    "\n",
    "# OpenMM\n",
    "\n",
    "## Documentation\n",
    "\n",
    "http://openmm.org/ https://anaconda.org/omnia/openmm\n",
    "\n",
    "## Instalación\n",
    "\n",
    "Instrucciones de la fuente oficial\n",
    "[aquí](http://docs.openmm.org/latest/userguide/application.html#installing-openmm)\n",
    "\n",
    "Para instalar OpenMM compilado con la última versión de CUDA\n",
    "\n",
    "``` bash\n",
    "conda install -c omnia -c conda-forge openmm\n",
    "```\n",
    "\n",
    "# Tutoriales y recursos útiles\n",
    "\n",
    "http://docs.openmm.org/latest/userguide/application.html\\#running-simulations\n",
    "https://westpa.github.io/westpa/tutorials/openmm.html\n",
    "\n",
    "# Papers"
   ]
  }
 ],
 "nbformat": 4,
 "nbformat_minor": 5,
 "metadata": {}
}
