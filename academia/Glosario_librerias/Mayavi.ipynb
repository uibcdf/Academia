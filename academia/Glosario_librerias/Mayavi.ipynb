{
 "cells": [
  {
   "cell_type": "markdown",
   "metadata": {},
   "source": [
    "https://docs.enthought.com/mayavi/mayavi/installation.html  \n",
    "\\$ conda install vtk  \n",
    "\\$ conda install pyqt=4  \n",
    "conda install mayavi\n",
    "\n",
    "``` python\n",
    "from mayavi import mlab\n",
    "mlab.init_notebook() # mlab.init_notebook('png')\n",
    "```\n",
    "\n",
    "``` python\n",
    "s = mlab.test_plot3d()\n",
    "s\n",
    "```\n",
    "\n",
    "``` python\n",
    "s = mlab.test_plot3d()\n",
    "s\n",
    "```"
   ]
  }
 ],
 "nbformat": 4,
 "nbformat_minor": 5,
 "metadata": {}
}
