{
 "cells": [
  {
   "cell_type": "markdown",
   "metadata": {},
   "source": [
    "# Pytraj\n",
    "\n",
    "Debe instalarse con:\n",
    "\n",
    "``` bash\n",
    "conda install -c ambermd pytraj\n",
    "```"
   ]
  }
 ],
 "nbformat": 4,
 "nbformat_minor": 5,
 "metadata": {}
}
