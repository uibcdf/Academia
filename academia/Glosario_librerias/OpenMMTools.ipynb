{
 "cells": [
  {
   "cell_type": "markdown",
   "metadata": {},
   "source": [
    "https://openmmtools.readthedocs.io/en/latest/  \n",
    "https://anaconda.org/omnia/openmmtools  \n",
    "https://github.com/choderalab/openmmtools\n",
    "\n",
    "``` bash\n",
    "conda install -c omnia openmmtools \n",
    "```"
   ]
  }
 ],
 "nbformat": 4,
 "nbformat_minor": 5,
 "metadata": {}
}
