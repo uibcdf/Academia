{
 "cells": [
  {
   "cell_type": "markdown",
   "id": "b8bff083",
   "metadata": {},
   "source": [
    "Source: \\\\ http://nglviewer.org/nglview/latest/\n",
    "\n",
    "``` bash\n",
    "conda install nglview -c conda-forge\n",
    "conda install nodejs\n",
    "\n",
    "# No estoy seguro de que esta linea siga siendo funcional\n",
    "# Tengo que probar sin jupyter_nbextensions_configurator y sin esta linea\n",
    "jupyter-nbextension enable nglview --py --sys-prefix\n",
    "\n",
    "# Con estas lineas funcionó con jupyterlab\n",
    "jupyter labextension install @jupyter-widgets/jupyterlab-manager\n",
    "jupyter labextension install jupyter-matplotlib\n",
    "jupyter-labextension install nglview-js-widgets\n",
    "```\n",
    "\n",
    "------------------------------------------------------------------------\n",
    "\n",
    "``` bash\n",
    "jupyter-labextension update --all\n",
    "jupyter lab build\n",
    "```"
   ]
  }
 ],
 "metadata": {
  "kernelspec": {
   "display_name": "Python 3",
   "language": "python",
   "name": "python3"
  },
  "language_info": {
   "name": ""
  }
 },
 "nbformat": 4,
 "nbformat_minor": 5
}
