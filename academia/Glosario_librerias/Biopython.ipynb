{
 "cells": [
  {
   "cell_type": "markdown",
   "id": "b0ca1d91",
   "metadata": {},
   "source": [
    "https://biopython.org  \n",
    "https://biopython.org/wiki/Download\n",
    "\n",
    "``` bash\n",
    "conda install -c conda-forge biopython\n",
    "```"
   ]
  }
 ],
 "metadata": {
  "kernelspec": {
   "display_name": "Python 3",
   "language": "python",
   "name": "python3"
  },
  "language_info": {
   "codemirror_mode": {
    "name": "ipython",
    "version": 3
   },
   "file_extension": ".py",
   "mimetype": "text/x-python",
   "name": "python",
   "nbconvert_exporter": "python",
   "pygments_lexer": "ipython3",
   "version": "3.7.10"
  }
 },
 "nbformat": 4,
 "nbformat_minor": 5
}
