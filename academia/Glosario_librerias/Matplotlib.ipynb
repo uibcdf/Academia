{
 "cells": [
  {
   "cell_type": "markdown",
   "id": "cffc1f58",
   "metadata": {},
   "source": [
    "# Matplotlib"
   ]
  }
 ],
 "metadata": {
  "kernelspec": {
   "display_name": "Python 3",
   "language": "python",
   "name": "python3"
  },
  "language_info": {
   "name": ""
  }
 },
 "nbformat": 4,
 "nbformat_minor": 5
}
