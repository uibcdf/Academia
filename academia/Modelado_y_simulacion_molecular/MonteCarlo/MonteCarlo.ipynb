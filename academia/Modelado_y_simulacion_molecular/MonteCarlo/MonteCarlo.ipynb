{
 "cells": [
  {
   "cell_type": "code",
   "execution_count": null,
   "id": "fb557bbf-65eb-46ae-b1b9-ded5a7bc9edf",
   "metadata": {},
   "outputs": [],
   "source": [
    "https://www.youtube.com/watch?v=OgO1gpXSUzU&list=LL&index=46&t=1552s"
   ]
  },
  {
   "cell_type": "markdown",
   "id": "a07eda9c-1b8f-4c8d-a7c6-a0aa3f4cdaef",
   "metadata": {},
   "source": [
    "# MonteCarlo Simulation"
   ]
  },
  {
   "cell_type": "code",
   "execution_count": null,
   "id": "fe4581cc-0dfe-4098-a9e1-a7b4888e99ae",
   "metadata": {},
   "outputs": [],
   "source": []
  }
 ],
 "metadata": {
  "kernelspec": {
   "display_name": "Python 3",
   "language": "python",
   "name": "python3"
  },
  "language_info": {
   "codemirror_mode": {
    "name": "ipython",
    "version": 3
   },
   "file_extension": ".py",
   "mimetype": "text/x-python",
   "name": "python",
   "nbconvert_exporter": "python",
   "pygments_lexer": "ipython3",
   "version": "3.7.10"
  }
 },
 "nbformat": 4,
 "nbformat_minor": 5
}
