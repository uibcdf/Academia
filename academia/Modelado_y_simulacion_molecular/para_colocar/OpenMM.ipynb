{
 "cells": [
  {
   "cell_type": "markdown",
   "metadata": {},
   "source": [
    "Documentación y tutoriales:\n",
    "\n",
    "http://openmm.org/tutorials/index.html    \n",
    "https://github.com/choderalab/openmm-tutorials    \n",
    "https://openmmtools.readthedocs.io/en/latest/gettingstarted.html    \n",
    "http://docs.openmm.org/latest/userguide/library.html     \n",
    "https://journals.plos.org/ploscompbiol/article?id=10.1371/journal.pcbi.1005659    \n",
    "http://mdtraj.org/latest/api/reporters.html\n",
    "https://parmed.github.io/ParmEd/html/omm_amber.html\n",
    "http://docs.openmm.org/7.1.0/api-python/generated/simtk.openmm.app.simulation.Simulation.html\n",
    "http://builder.openmm.org/    \n",
    "http://mdtraj.org/latest/examples/openmm.html"
   ]
  }
 ],
 "metadata": {
  "kernelspec": {
   "display_name": "Python 3",
   "language": "python",
   "name": "python3"
  },
  "language_info": {
   "codemirror_mode": {
    "name": "ipython",
    "version": 3
   },
   "file_extension": ".py",
   "mimetype": "text/x-python",
   "name": "python",
   "nbconvert_exporter": "python",
   "pygments_lexer": "ipython3",
   "version": "3.6.7"
  },
  "latex_envs": {
   "LaTeX_envs_menu_present": true,
   "autoclose": false,
   "autocomplete": true,
   "bibliofile": "biblio.bib",
   "cite_by": "apalike",
   "current_citInitial": 1,
   "eqLabelWithNumbers": true,
   "eqNumInitial": 1,
   "hotkeys": {
    "equation": "Ctrl-E",
    "itemize": "Ctrl-I"
   },
   "labels_anchors": false,
   "latex_user_defs": false,
   "report_style_numbering": false,
   "user_envs_cfg": false
  }
 },
 "nbformat": 4,
 "nbformat_minor": 2
}
