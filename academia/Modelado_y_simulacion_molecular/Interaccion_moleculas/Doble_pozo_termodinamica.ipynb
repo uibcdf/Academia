{
 "cells": [
  {
   "cell_type": "code",
   "execution_count": 1,
   "id": "1b0f934c-0907-41ce-900a-167875632405",
   "metadata": {},
   "outputs": [],
   "source": [
    "import numpy as np\n",
    "import simtk.unit as unit\n",
    "import matplotlib.pyplot as plt\n",
    "import openmolecularsystems as oms"
   ]
  },
  {
   "cell_type": "markdown",
   "id": "c5c4f01a-2833-491a-a575-ad00e912d261",
   "metadata": {},
   "source": [
    "# Predicción de la termodinámica desde la mecánica estadística"
   ]
  },
  {
   "cell_type": "markdown",
   "id": "6fe99b84-09a4-4756-8c24-2ea7af2656e7",
   "metadata": {},
   "source": [
    "En el argot de la mecánica estadística, los procesos estocásticos, y la simulación de dinámica molecular, hablamos de termodinámica cuando nos referimos al conjunto de observables que no depende del tiempo. Por ejemplo, la distancia promedio entre dos átomos, la probabilidad de que se forme un puente de hidrógeno entre una cadena lateral y una molécula de agua o la constante de disociación de un ligando y un receptor. No quiere decir que dicha distancia, dicho puente de hidrógeno o dicho complejo receptor-ligando, no vaya a variar con el tiempo. De hecho lo hacen. Pero los observables a los que nos estamos refiriendo tienen un valor no relacionado con el tiempo. De hecho si el universo en el que medimos tiene una población lo suficentemente grande de sistemas (infinito, en teoría), podemos realizar una medida instantaneamente y obtener el valor de estos observables de la medida tomada a toda la población. Ésta sera igual que la que obtendremos de observar un único sistema durante un tiempo suficientemente largo (infinito, en teoría). Sabemos por lo tanto que la capacidad de medir estos observables no depende de cuantas veces midamos a durante cuanto tiempo. La precisión o la fiabilidad del valor obtenido si depende, pero la capacidad de medirlos no. Un ejemplo de observables que dependen del tiempo serían el tiempo de vida media del puente de hidrógeno, la constante de difusión de la molécula de agua o la constante cinética de formación o ruptura del complejo recetor-ligando. Cuando nos referimos a estos últimos observables estamos hablando de cinética, no de termodinámica. Y en este caso la capacidad de medirlos si depende de cuando medimos y durante cuanto tiempo.\n",
    "\n",
    "Para entender a continuación qué tiene que ver la termodinámica con el valor esperado de una distancia entre átomos tomemos como ejemplo nuestro doble pozo con los parámetros usados en las unidades anteriores.\n",
    "\n",
    "\\begin{equation}\n",
    "V(x,y,z)=E_{0}\\left[ \\left(\\frac{x}{a}\\right)^4 -2\\left(\\frac{x}{a}\\right)^2 \\right]-\\frac{b}{a}x + \\frac{1}{2}k\\left( y^2 + z^2 \\right)\n",
    "\\end{equation}"
   ]
  },
  {
   "cell_type": "code",
   "execution_count": 9,
   "id": "ece8d325-46f5-4600-8acb-47aad7712f34",
   "metadata": {},
   "outputs": [],
   "source": [
    "# Sistema\n",
    "mass = 35.453 * unit.amu\n",
    "\n",
    "# Potential externo\n",
    "Eo = 3.0 * unit.kilocalories_per_mole\n",
    "a = 0.5 * unit.nanometers\n",
    "b = 0.5 * unit.kilocalories_per_mole\n",
    "k = 1.0*unit.kilocalories_per_mole/unit.angstrom**2\n",
    "\n",
    "# Estado termodinámico\n",
    "temperature=300.0*unit.kelvin"
   ]
  },
  {
   "cell_type": "code",
   "execution_count": 10,
   "id": "e05fea56-f3a3-4684-90f4-c4b6e769fba0",
   "metadata": {},
   "outputs": [],
   "source": [
    "osystem = oms.DoubleWell(mass=mass, Eo=Eo, a=a, b=b, k=k)"
   ]
  },
  {
   "cell_type": "code",
   "execution_count": 11,
   "id": "ee373cbf-6e3a-4246-924b-a5f755ccc12c",
   "metadata": {},
   "outputs": [
    {
     "data": {
      "image/png": "[encoded data removed]",
      "text/plain": [
       "<Figure size 432x288 with 1 Axes>"
      ]
     },
     "metadata": {
      "needs_background": "light"
     },
     "output_type": "display_data"
    }
   ],
   "source": [
    "xyz_serie = np.zeros([200,3]) * unit.nanometers\n",
    "xyz_serie[:,0] = np.linspace(-1.0, 1.0, num=200) * unit.nanometers\n",
    "\n",
    "potential = osystem.evaluate_potential(xyz_serie)\n",
    "\n",
    "plt.plot(xyz_serie[:,0], potential, 'r-')\n",
    "plt.ylim(-4,1)\n",
    "plt.xlim(-1,1)\n",
    "plt.grid()\n",
    "plt.xlabel(\"X ({})\".format(unit.nanometers))\n",
    "plt.ylabel(\"Energy ({})\".format(unit.kilocalories_per_mole))\n",
    "plt.show()"
   ]
  },
  {
   "cell_type": "markdown",
   "id": "28952e60-27ff-431c-89c4-631bbac3a844",
   "metadata": {},
   "source": [
    "Se puede demostrar que la probabilidad de que un sistema molecular visite un estado de su espacio de fases -el espacio de posiciones y velocidades-, determinado por las posiciones y velocidades de todos sus átomos, está pesada por -es proporcional a- el peso de Boltzmann o función de partición:\n",
    "\n",
    "\\begin{equation}\n",
    "z(\\vec{r},\\vec{v}) = e^{-\\frac{1}{K_{B}T} U(\\vec{r},\\vec{v})}\n",
    "\\end{equation}\n",
    "\n",
    "Donde $K_{B}$ es una constante -la constante de Boltzmann-, $T$ es la temperatura, y $U(\\vec{r},\\vec{v})$ es la energía total del sistema en dicho estado (la energía expresada por el Hamiltoniano):\n",
    "\n",
    "\\begin{equation}\n",
    "U(\\vec{r},\\vec{v}) = V(\\vec{r}) + T(\\vec{v})\n",
    "\\end{equation}\n",
    "\n",
    "donde el término de la energía potencial es\n",
    "\n",
    "\\begin{equation}\n",
    "V(\\vec{r}) = E_{0}\\left[ \\left(\\frac{x}{a}\\right)^4 -2\\left(\\frac{x}{a}\\right)^2 \\right]-\\frac{b}{a}x + \\frac{1}{2}k\\left( y^2 + z^2 \\right)\n",
    "\\end{equation}\n",
    "\n",
    "y el término de la energía cinética es\n",
    "\n",
    "\\begin{equation}\n",
    "T(\\vec{v}) = \\frac{1}{2} m \\left( v_{x}^2 + v_{y}^2 + v_{z}^2 \\right)\n",
    "\\end{equation}\n",
    "\n",
    "\n",
    "\n",
    "## ¿Qué es un estado?\n",
    "\n",
    "Un estado es un punto o una región del espacio de coordenadas y velocidades del sistema. Cuando hablamos de un punto, solemos referirnos a ese estado como \"microestado\". Y cuando hablamos de una región solemos referirnos a ese fragmento del espacio de fases como \"estado\" o \"macroestado\". Y ya que estamos, la gran mayoría de ocasiones en las que manejarás estos términos será sin especificar las velocidades. Darás por entendido que quieres conocer ciertas circunstancias del sistema dadas por sus coordenadas, sin importar qué velocidades lleven sus átomos. Así que si nos dan igual las velocidades, si como se dice técnicamente vamos a integrar fuera el espacio de velocidades, estaremos circunscribiendonos no al espacio de fases (de coordenadas y velocidades) sino al espacio conformacional (de coordenadas).\n",
    "\n",
    "Veamos ejemplos de estados cuando hablamos del doble pozo unidimensional. En primer lugar un microestado del espacio de fases:\n",
    "\n",
    "\\begin{equation}\n",
    "\\{\\vec{r}=(0.0, 0.0, 0.0)\\: \\rm{nm};\\: \\vec{v}=(1.0, 0.0, 0.0)\\: \\rm{nm/ps}\\}\n",
    "\\end{equation}\n",
    "\n",
    "Ahora un microestado definido únicamente en el espacio conformacional o de coordenadas:\n",
    "\n",
    "\\begin{equation}\n",
    "\\{\\vec{r}=(-0.2, -0.2, -0.2)\\: \\rm{nm};\\: -\\infty<v_{i}<\\infty \\: \\rm{nm/ps} \\:\\rm{donde}\\: i=x,y,z\\}\n",
    "\\end{equation}\n",
    "\n",
    "Ahora un estado definido como una región del espacio de coordenadas:\n",
    "\n",
    "\\begin{equation}\n",
    "\\{0 \\leq x<0.5\\: \\rm{nm}, -\\infty<i<\\infty \\: \\rm{nm} \\:\\rm{donde}\\: i=y,z;\\: -\\infty<v_{j}<\\infty \\: \\rm{nm/ps} \\:\\rm{donde}\\: j=x,y,z\\}\n",
    "\\end{equation}\n",
    "\n",
    "## ¿Cómo calculamos la probabilidad absoluta de un estado?¿Y la relativa entre dos estados?\n",
    "\n",
    "Y ahora calculemos la probabilidad de cada uno de los anteriores estados. ¿Cómo calculamos una probabilidad si conocemos su peso? Pongamos un ejemplo sencillo. Imagina que tiramos un dado de seis caras 100 veces para inferir el peso de cada número. Esta es la frecuencia obtenida para cada cara:\n",
    "\n",
    "|lado | 1 | 2 | 3 | 4 | 5 | 6 |\n",
    "| -- | -- | -- | -- | -- | -- | -- |\n",
    "|frequencia | 16 | 14 | 18 | 12 | 23 | 17 |\n",
    "\n",
    "Para conocer la probabilidad de que el dado caiga mostrando un cierto número $n$ dividimos el peso de dicho número $w(n)$ para el peso total de todos los números. Y si pensamos que la frecuencia $f$ de aparición de cada lado es proporcional al peso, la probabilidad de $n$ es:\n",
    "\n",
    "\\begin{equation}\n",
    "P(n) = \\frac{w(n)}{\\sum_{i} w(i)} = \\frac{f_n}{\\sum_{i} f_i}\n",
    "\\end{equation}\n",
    "\n",
    "Así por ejemplo la probabilidad del lado $3$ estimamos de nuestro experimento que es $18.0/100.0$. A esta probabilidad la llamamos probabilidad absoluta.\n",
    "\n",
    "No te resulta extraño entonces que necesitemos conocer la suma de los pesos de todos los estados posibles de nuestro sistema molecular para determinar la probabilidad de aparición de un determinado estado:\n",
    "\n",
    "\\begin{equation}\n",
    "P(\\vec{r}, \\vec{v}) = \\frac{z(\\vec{r}, \\vec{v})}{Z}\n",
    "\\end{equation}\n",
    "\n",
    "donde la función de partición o peso de Boltzmann del estado es\n",
    "\n",
    "\\begin{equation}\n",
    "z(\\vec{r}, \\vec{v}) = e^{-\\frac{1}{K_{B}T} U(\\vec{r},\\vec{v})}\n",
    "\\end{equation}\n",
    "\n",
    "y la función de partición total\n",
    "\n",
    "\\begin{equation}\n",
    "Z = \\int_{-\\infty}^{\\infty} \\int_{-\\infty}^{\\infty} e^{-\\frac{1}{K_{B}T} U(\\vec{r},\\vec{v})} d\\vec{r} d\\vec{v}\n",
    "\\end{equation}"
   ]
  },
  {
   "cell_type": "markdown",
   "id": "c8c02fcb-abef-408e-825e-a613bf51286c",
   "metadata": {},
   "source": [
    "Vamos a aterrizar sobre nuestro caso de doble pozo la aplicación de estas ecuaciones. Veamos en primer lugar la probabilidad de que la partícula se encuentre en $\\vec{r}=(0.0, 0.0, 0.0)$ con velocidad $\\vec{v}=(1.0, 0.0, 0.0)$. En primer lugar calculemos la función de partición total del sistema.\n",
    "\n",
    "\\begin{equation}\n",
    "Z = \\int_{-\\infty}^{\\infty} \\int_{-\\infty}^{\\infty} e^{-\\frac{1}{K_{B}T} U(\\vec{r},\\vec{v})} d\\vec{r} d\\vec{v}\n",
    "= \\int_{-\\infty}^{\\infty} \\int_{-\\infty}^{\\infty} e^{-\\frac{1}{K_{B}T} (V(\\vec{r})+T(\\vec{v}))} d\\vec{r} d\\vec{v}\n",
    "= \\int_{-\\infty}^{\\infty} e^{-\\frac{1}{K_{B}T} V(\\vec{r})} d\\vec{r} \\cdot \\int_{-\\infty}^{\\infty} e^{-\\frac{1}{K_{B}T} T(\\vec{v})} d\\vec{v}\n",
    "\\end{equation}\n",
    "\n",
    "La función de partición total del sistema puede, dado que la parte del potencial no depende de las velocidades, puede entonces descomponerse en un producto de dos integrales que llamaremos $Z_{V}$ y $Z_{T}$:\n",
    "\n",
    "\\begin{equation}\n",
    "Z = Z_{V}Z_{T}\n",
    "\\end{equation}\n",
    "\n",
    "con\n",
    "\n",
    "\\begin{align}\n",
    "Z_{V} = \\int_{-\\infty}^{\\infty} e^{-\\frac{1}{K_{B}T} V(\\vec{r})} d\\vec{r}\\\\ \\\\\n",
    "Z_{T} = \\int_{-\\infty}^{\\infty} e^{-\\frac{1}{K_{B}T} T(\\vec{v})} d\\vec{v}\n",
    "\\end{align}\n",
    "\n",
    "Vamos en primer lugar a resolver $Z_{T}$:\n",
    "\n",
    "\\begin{equation}\n",
    "Z_{T} = \\int_{-\\infty}^{\\infty} e^{-\\frac{1}{K_{B}T} T(\\vec{v})} d\\vec{v} =\n",
    "\\int_{-\\infty}^{\\infty} e^{-\\frac{1}{K_{B}T} \\frac{1}{2} m v_{x}^{2}} dv_{x}\n",
    "\\int_{-\\infty}^{\\infty} e^{-\\frac{1}{K_{B}T} \\frac{1}{2} m v_{y}^{2}} dv_{y}\n",
    "\\int_{-\\infty}^{\\infty} e^{-\\frac{1}{K_{B}T} \\frac{1}{2} m v_{z}^{2}} dv_{z}\n",
    "\\end{equation}\n",
    "\n",
    "Ahora hemos puesto $Z_{T}$ como producto de tres funciones de partición según $v_{x}$, $v_{y}$ o $v_{z}$:\n",
    "\n",
    "\\begin{equation}\n",
    "Z_{T} = Z_{T_{v_{x}}} Z_{T_{v_{y}}} Z_{T_{v_{z}}}\n",
    "\\end{equation}\n",
    "\n",
    "donde\n",
    "\n",
    "\\begin{equation}\n",
    "Z_{T_{v_{i}}} = \\int_{-\\infty}^{\\infty} e^{-\\frac{1}{K_{B}T} \\frac{1}{2} m v_{i}^{2}} dv_{i} \\; \\; \\rm{con} \\; i=x, y, z \n",
    "\\end{equation}\n",
    "\n",
    "Cada una de las integrales para $v_{x}$, $v_{y}$ y $v_{z}$ son solubles analíticamente. De hecho se trata de una integral muy popular conocida por los nombres integral Gaussiana o de Euler–Poisson:\n",
    "\n",
    "\\begin{equation}\n",
    "\\int_{-\\infty}^{\\infty} e^{-ax^{2}} dx = \\sqrt{\\frac{\\pi}{a}}\n",
    "\\end{equation}\n",
    "\n",
    "Así que ya tenemos valor para $Z_{T}$:\n",
    "\n",
    "\\begin{equation}\n",
    "Z_{T} = \\left(\\frac{2\\pi K_{B}T}{m}\\right)^{3/2}\n",
    "\\end{equation}\n",
    "\n",
    "Vamos ahora con"
   ]
  },
  {
   "cell_type": "markdown",
   "id": "caff4d33-9bb8-4015-aa7e-28b1ef666df3",
   "metadata": {},
   "source": [
    "Porque también podemos preguntarnos ¿cuán más probable es el $2$ que el $3$? En este caso nos estamos preguntando por la probabilidad relativa de $2$ con respecto a $3$, y podemos\n",
    "\n",
    "\n",
    "## ¿Y qué es la energía libre y cúal es su relación con la probabilidad?\n",
    "\n",
    "\n",
    "## Ya podemos calcular el valor esperado de los observables que no dependen del tiempo\n",
    "\n",
    "posición promedio, la energía cinética y la energía potencial promedio.\n",
    "\n",
    "\n",
    "### Pero nuestro doble pozo era tridimensional.\n",
    "\n",
    "Demostrar que lo que sucede en Y y Z no tiene nada que ver con X. Hay observables que si dependeran de la dimensionalidad, como por ejemplo la energía cinética."
   ]
  },
  {
   "cell_type": "markdown",
   "id": "9f13a039-e2e2-4b36-ad33-994d24e96d9e",
   "metadata": {},
   "source": [
    "\\begin{equation}\n",
    "Z = \\int_{\\vec_{r}} \\int_{\\vec_{v}} \\, d\\vec{r} d\\vec{v}\n",
    "\\end{equation}"
   ]
  },
  {
   "cell_type": "markdown",
   "id": "f50ae912-9ec2-4cc9-a642-43655c639edb",
   "metadata": {},
   "source": [
    "\\begin{equation}\n",
    "\\int_{\\vec_{r}} x dx\n",
    "\\end{equation}"
   ]
  },
  {
   "cell_type": "code",
   "execution_count": 12,
   "id": "a2dfc37e-d302-4b9b-9b0a-858a9bd7309b",
   "metadata": {},
   "outputs": [
    {
     "ename": "SyntaxError",
     "evalue": "unexpected character after line continuation character (<ipython-input-12-36d650ddd81a>, line 1)",
     "output_type": "error",
     "traceback": [
      "\u001b[0;36m  File \u001b[0;32m\"<ipython-input-12-36d650ddd81a>\"\u001b[0;36m, line \u001b[0;32m1\u001b[0m\n\u001b[0;31m    Z = \\int_{\\vec_{r}} \\int_{\\vec_{v}} e^{-\\frac{1}{K_{B}T} U(\\vec{r},\\vec{v})} d\\vec{r} d\\vec{v}\u001b[0m\n\u001b[0m                                                                                                  ^\u001b[0m\n\u001b[0;31mSyntaxError\u001b[0m\u001b[0;31m:\u001b[0m unexpected character after line continuation character\n"
     ]
    }
   ],
   "source": [
    "Z = \\int_{\\vec_{r}} \\int_{\\vec_{v}} e^{-\\frac{1}{K_{B}T} U(\\vec{r},\\vec{v})} d\\vec{r} d\\vec{v}\n"
   ]
  },
  {
   "cell_type": "markdown",
   "id": "ea7282c0-86f1-4fd9-a3d2-f886abf7498e",
   "metadata": {},
   "source": [
    "Conocida la termodinámica del sistema, podemos predecir el valor de cualquier observable, o el resultado de cualquier experimento, que no dependa del tiempo."
   ]
  },
  {
   "cell_type": "code",
   "execution_count": null,
   "id": "339af453-3b34-44b7-b22a-1343fe9ec695",
   "metadata": {},
   "outputs": [],
   "source": []
  }
 ],
 "metadata": {
  "kernelspec": {
   "display_name": "Python 3",
   "language": "python",
   "name": "python3"
  },
  "language_info": {
   "codemirror_mode": {
    "name": "ipython",
    "version": 3
   },
   "file_extension": ".py",
   "mimetype": "text/x-python",
   "name": "python",
   "nbconvert_exporter": "python",
   "pygments_lexer": "ipython3",
   "version": "3.7.10"
  }
 },
 "nbformat": 4,
 "nbformat_minor": 5
}
