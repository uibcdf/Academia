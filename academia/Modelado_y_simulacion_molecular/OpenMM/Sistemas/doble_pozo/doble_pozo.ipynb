{
 "cells": [
  {
   "cell_type": "markdown",
   "id": "f4717416-7789-45fc-977b-c34f5bb253ad",
   "metadata": {},
   "source": [
    "<p style=\"text-align:left;\">\n",
    "   <a href=\"../README.md\">Ir al menú anterior</a>\n",
    "   <span style=\"float:right;\">\n",
    "        <a href=\"../README.md\">Ir a la unidad anterior</a>\n",
    "   </span>\n",
    "</p>\n",
    "\n",
    "-----"
   ]
  },
  {
   "cell_type": "markdown",
   "id": "36146eae-e4e9-4c54-a5af-3ff00f422f27",
   "metadata": {},
   "source": [
    "# La partícula en un doble pozo\n",
    "\n",
    "<div class=\"alert alert-info\" role=\"alert\">\n",
    "<strong>Info:</strong> Si crees que este notebook necesita algún cambio no dudes en <a href=\"../../../../UIBCDF-Academia/Como_contribuir/Como_contribuir.md\" class=\"alert-link\">contribuir a su desarrollo</a>.\n",
    "</div>\n",
    "\n",
    "<br>\n",
    "\n",
    "- [Simulación del sistema](#Simulación-del-sistema)\n",
    "- [Script de Python](#Script-de-Python)\n",
    "- [El sistema en OpenMolecularSystems](#El-sistema-en-OpenMolecularSystems)"
   ]
  },
  {
   "cell_type": "markdown",
   "id": "476f3f10-c7a9-4a0f-b770-14e22c321f6f",
   "metadata": {},
   "source": [
    "## Simulación del sistema\n",
    "\n",
    "Las siguientes celdas recojen las instrucciones necesarias para simular la dinámica de Langevin de una partícula libre con OpenMM. La trayectoria (tiempos, posiciones y velocidades) son guardadas como numpy arrays."
   ]
  },
  {
   "cell_type": "code",
   "execution_count": 1,
   "id": "6ddfbc52-cb04-40ca-bbaf-4b31b2de7b53",
   "metadata": {},
   "outputs": [],
   "source": [
    "import numpy as np\n",
    "from tqdm import tqdm\n",
    "import simtk.openmm as mm\n",
    "import simtk.openmm.app as app\n",
    "import simtk.unit as unit"
   ]
  },
  {
   "cell_type": "code",
   "execution_count": 2,
   "id": "d3829634-5e58-4c64-896b-0720ec35da54",
   "metadata": {},
   "outputs": [],
   "source": [
    "# Definición del sistema.\n",
    "\n",
    "num_particles = 1\n",
    "mass = 35.453 * unit.amu # masa del átomo Cl\n",
    "\n",
    "# Creación del sistema.\n",
    "\n",
    "system = mm.System()\n",
    "\n",
    "for ii in range(num_particles):\n",
    "    system.addParticle(mass)"
   ]
  },
  {
   "cell_type": "code",
   "execution_count": 3,
   "id": "ee86a474-d13c-4e7b-a162-85b902f2f05d",
   "metadata": {},
   "outputs": [],
   "source": [
    "# Añadiendo el potencial externo al sistema\n",
    "\n",
    "K = 100.0 * unit.kilocalories_per_mole/unit.angstrom**2\n",
    "Eo = 6.0 * unit.kilocalories_per_mole/unit.angstrom**2\n",
    "C = 0.4 * 1/unit.angstrom**2\n",
    "M = -0.25 * unit.kilocalories_per_mole/unit.angstrom\n",
    "\n",
    "\n",
    "force = mm.CustomExternalForce('Eo*(C*x^4-x^2)+M*x + (K/2.0)*(y^2+z^2)')\n",
    "force.addGlobalParameter('K', K)\n",
    "force.addGlobalParameter('Eo', Eo)\n",
    "force.addGlobalParameter('C', C)\n",
    "force.addGlobalParameter('M', M)\n",
    "\n",
    "for ii in range(num_particles):\n",
    "    force.addParticle(ii, [])\n",
    "\n",
    "_ = system.addForce(force)"
   ]
  },
  {
   "cell_type": "code",
   "execution_count": 4,
   "id": "d091e174-d2b5-4413-95fa-77b9d8630a40",
   "metadata": {},
   "outputs": [],
   "source": [
    "# Definición del estado termodinámico y el integrador.\n",
    "\n",
    "step_size = 0.01*unit.picoseconds\n",
    "temperature = 300*unit.kelvin\n",
    "friction = 1.0/unit.picosecond # Damping para la dinámica de Langevin\n",
    "\n",
    "integrator = mm.LangevinIntegrator(temperature, friction, step_size)"
   ]
  },
  {
   "cell_type": "code",
   "execution_count": 5,
   "id": "1f35ed53-8303-4576-b4b6-7bb5568a6d88",
   "metadata": {},
   "outputs": [],
   "source": [
    "# Creación de la plataforma.\n",
    "\n",
    "platform_name = 'CUDA'\n",
    "platform = mm.Platform.getPlatformByName(platform_name)"
   ]
  },
  {
   "cell_type": "code",
   "execution_count": 6,
   "id": "15126a8a-c188-49ed-a3ac-7f692dbf7dfd",
   "metadata": {},
   "outputs": [],
   "source": [
    "# Creación del contexto.\n",
    "\n",
    "context = mm.Context(system, integrator, platform)"
   ]
  },
  {
   "cell_type": "code",
   "execution_count": 7,
   "id": "6e484bdb-569c-4c43-b573-5aa28a87daac",
   "metadata": {},
   "outputs": [],
   "source": [
    "# Condiciones iniciales\n",
    "\n",
    "initial_positions  = np.zeros([num_particles, 3], np.float32) * unit.angstroms\n",
    "initial_velocities = np.zeros([num_particles, 3], np.float32) * unit.angstroms/unit.picoseconds\n",
    "\n",
    "context.setPositions(initial_positions)\n",
    "context.setVelocities(initial_velocities)"
   ]
  },
  {
   "cell_type": "code",
   "execution_count": 8,
   "id": "7dda7771-2416-4094-a399-d57073b0337f",
   "metadata": {},
   "outputs": [],
   "source": [
    "# Parámetros de la simulación.\n",
    "\n",
    "simulation_time = 1.0*unit.nanosecond\n",
    "saving_time = 1.0*unit.picoseconds"
   ]
  },
  {
   "cell_type": "code",
   "execution_count": 9,
   "id": "ddaa3025-fb47-42ca-b28f-43bada356ea9",
   "metadata": {},
   "outputs": [],
   "source": [
    "n_steps_per_period = int(saving_time/step_size) # número de pasos del periodo de guardado\n",
    "n_periods = int(simulation_time/saving_time) # número de periodos guardados"
   ]
  },
  {
   "cell_type": "code",
   "execution_count": 10,
   "id": "53068f73-d1d0-419d-9c63-ea2da28c6ba2",
   "metadata": {},
   "outputs": [],
   "source": [
    "# Creación de arrays reporteros del tiempo, la posición y la velocidad.\n",
    "\n",
    "times = np.zeros([n_periods], np.float32) * unit.picoseconds\n",
    "positions = np.zeros([n_periods, num_particles, 3], np.float32) * unit.angstroms\n",
    "velocities = np.zeros([n_periods, num_particles, 3], np.float32) * unit.angstroms/unit.picosecond\n",
    "potential_energies   = np.zeros([n_periods], np.float32) * unit.kilocalories_per_mole\n",
    "kinetic_energies     = np.zeros([n_periods], np.float32) * unit.kilocalories_per_mole"
   ]
  },
  {
   "cell_type": "code",
   "execution_count": 11,
   "id": "8ce479ce-faa1-4345-9135-a98a4eb1e8db",
   "metadata": {},
   "outputs": [],
   "source": [
    "# Almacenamiento en reporteros de las condiciones iniciales para tiempo 0\n",
    "\n",
    "state = context.getState(getPositions=True, getVelocities=True, getEnergy=True)\n",
    "times[0] = state.getTime()\n",
    "positions[0] = state.getPositions()\n",
    "velocities[0] = state.getVelocities()\n",
    "kinetic_energies[0]=state.getKineticEnergy()\n",
    "potential_energies[0]=state.getPotentialEnergy()"
   ]
  },
  {
   "cell_type": "code",
   "execution_count": 12,
   "id": "36b609db-a026-4f90-8d0e-f5d54c37aeaa",
   "metadata": {},
   "outputs": [
    {
     "name": "stderr",
     "output_type": "stream",
     "text": [
      "100%|██████████| 999/999 [00:02<00:00, 358.00it/s]\n"
     ]
    }
   ],
   "source": [
    "# Ejecuto el bucle sobre el número de periodos que vamos a simular\n",
    "\n",
    "for ii in tqdm(range(1, n_periods)):\n",
    "    context.getIntegrator().step(n_steps_per_period)\n",
    "    state = context.getState(getPositions=True, getVelocities=True, getEnergy=True)\n",
    "    times[ii] = state.getTime()\n",
    "    positions[ii] = state.getPositions()\n",
    "    velocities[ii] = state.getVelocities()\n",
    "    kinetic_energies[ii]=state.getKineticEnergy()\n",
    "    potential_energies[ii]=state.getPotentialEnergy()"
   ]
  },
  {
   "cell_type": "markdown",
   "id": "c1708a20-5237-4d32-95d6-79f5e60d75c8",
   "metadata": {},
   "source": [
    "Podemos guardar los arrays en un fichero HDF5 para su posterior lectura:"
   ]
  },
  {
   "cell_type": "code",
   "execution_count": 15,
   "id": "7943627b-80a4-4a0c-bb9a-6b6776bf4fff",
   "metadata": {},
   "outputs": [],
   "source": [
    "import os\n",
    "os.remove('traj.h5')"
   ]
  },
  {
   "cell_type": "code",
   "execution_count": 16,
   "id": "6a234b83-e47a-46b9-83d7-5a8ecc731394",
   "metadata": {},
   "outputs": [],
   "source": [
    "import h5py as h5py\n",
    "import pyunitwizard as puw\n",
    "puw.configure.load_library('simtk.unit')\n",
    "\n",
    "h5f = h5py.File('traj.h5', 'w')\n",
    "h5f.create_dataset('times_units', data=puw.get_unit(times, to_form='string'))\n",
    "h5f.create_dataset('times', data=puw.get_value(times))\n",
    "h5f.create_dataset('positions_units', data=puw.get_unit(positions, to_form='string'))\n",
    "h5f.create_dataset('positions', data=puw.get_value(positions))\n",
    "h5f.create_dataset('velocities_units', data=puw.get_unit(velocities, to_form='string'))\n",
    "h5f.create_dataset('velocities', data=velocities)\n",
    "h5f.create_dataset('energies_units', data=puw.get_unit(kinetic_energies, to_form='string'))\n",
    "h5f.create_dataset('kinetic_energies', data=puw.get_value(kinetic_energies))\n",
    "h5f.create_dataset('potential_energies', data=puw.get_value(potential_energies))\n",
    "h5f.close()"
   ]
  },
  {
   "cell_type": "markdown",
   "id": "f7c3911c-f04a-4ad5-b413-7d1ec4965593",
   "metadata": {},
   "source": [
    "Podemos rescatar los datos guardados de la trayectoria de la siguiente manera:"
   ]
  },
  {
   "cell_type": "code",
   "execution_count": 21,
   "id": "001dce59-7acf-4998-901b-b7a9f5c900dc",
   "metadata": {},
   "outputs": [
    {
     "ename": "AttributeError",
     "evalue": "'EvalTreeNode' object has no attribute 'type'",
     "output_type": "error",
     "traceback": [
      "\u001b[0;31m---------------------------------------------------------------------------\u001b[0m",
      "\u001b[0;31mAttributeError\u001b[0m                            Traceback (most recent call last)",
      "\u001b[0;32m<ipython-input-21-2319d2f76676>\u001b[0m in \u001b[0;36m<module>\u001b[0;34m\u001b[0m\n\u001b[1;32m      1\u001b[0m \u001b[0mh5f\u001b[0m \u001b[0;34m=\u001b[0m \u001b[0mh5py\u001b[0m\u001b[0;34m.\u001b[0m\u001b[0mFile\u001b[0m\u001b[0;34m(\u001b[0m\u001b[0;34m'traj.h5'\u001b[0m\u001b[0;34m,\u001b[0m \u001b[0;34m'r'\u001b[0m\u001b[0;34m)\u001b[0m\u001b[0;34m\u001b[0m\u001b[0;34m\u001b[0m\u001b[0m\n\u001b[0;32m----> 2\u001b[0;31m \u001b[0mtimes\u001b[0m \u001b[0;34m=\u001b[0m \u001b[0mh5f\u001b[0m\u001b[0;34m[\u001b[0m\u001b[0;34m'times'\u001b[0m\u001b[0;34m]\u001b[0m\u001b[0;34m[\u001b[0m\u001b[0;34m:\u001b[0m\u001b[0;34m]\u001b[0m\u001b[0;34m*\u001b[0m\u001b[0mpuw\u001b[0m\u001b[0;34m.\u001b[0m\u001b[0munit\u001b[0m\u001b[0;34m(\u001b[0m\u001b[0mh5f\u001b[0m\u001b[0;34m[\u001b[0m\u001b[0;34m'times_units'\u001b[0m\u001b[0;34m]\u001b[0m\u001b[0;34m,\u001b[0m \u001b[0mform\u001b[0m\u001b[0;34m=\u001b[0m\u001b[0;34m'simtk.unit'\u001b[0m\u001b[0;34m)\u001b[0m\u001b[0;34m\u001b[0m\u001b[0;34m\u001b[0m\u001b[0m\n\u001b[0m\u001b[1;32m      3\u001b[0m \u001b[0mpositions\u001b[0m \u001b[0;34m=\u001b[0m \u001b[0mh5f\u001b[0m\u001b[0;34m[\u001b[0m\u001b[0;34m'positions'\u001b[0m\u001b[0;34m]\u001b[0m\u001b[0;34m[\u001b[0m\u001b[0;34m:\u001b[0m\u001b[0;34m]\u001b[0m\u001b[0;34m\u001b[0m\u001b[0;34m\u001b[0m\u001b[0m\n\u001b[1;32m      4\u001b[0m \u001b[0mvelocities\u001b[0m \u001b[0;34m=\u001b[0m \u001b[0mh5f\u001b[0m\u001b[0;34m[\u001b[0m\u001b[0;34m'velocities'\u001b[0m\u001b[0;34m]\u001b[0m\u001b[0;34m[\u001b[0m\u001b[0;34m:\u001b[0m\u001b[0;34m]\u001b[0m\u001b[0;34m\u001b[0m\u001b[0;34m\u001b[0m\u001b[0m\n\u001b[1;32m      5\u001b[0m \u001b[0mkinetic_energies\u001b[0m \u001b[0;34m=\u001b[0m \u001b[0mh5f\u001b[0m\u001b[0;34m[\u001b[0m\u001b[0;34m'kinetic_energies'\u001b[0m\u001b[0;34m]\u001b[0m\u001b[0;34m[\u001b[0m\u001b[0;34m:\u001b[0m\u001b[0;34m]\u001b[0m\u001b[0;34m\u001b[0m\u001b[0;34m\u001b[0m\u001b[0m\n",
      "\u001b[0;32m~/Projects/PyUnitWizard/pyunitwizard/main.py\u001b[0m in \u001b[0;36munit\u001b[0;34m(unit_name, form, parser)\u001b[0m\n\u001b[1;32m    179\u001b[0m \u001b[0;32mdef\u001b[0m \u001b[0munit\u001b[0m\u001b[0;34m(\u001b[0m\u001b[0munit_name\u001b[0m\u001b[0;34m,\u001b[0m \u001b[0mform\u001b[0m\u001b[0;34m=\u001b[0m\u001b[0;32mNone\u001b[0m\u001b[0;34m,\u001b[0m \u001b[0mparser\u001b[0m\u001b[0;34m=\u001b[0m\u001b[0;32mNone\u001b[0m\u001b[0;34m)\u001b[0m\u001b[0;34m:\u001b[0m\u001b[0;34m\u001b[0m\u001b[0;34m\u001b[0m\u001b[0m\n\u001b[1;32m    180\u001b[0m \u001b[0;34m\u001b[0m\u001b[0m\n\u001b[0;32m--> 181\u001b[0;31m     \u001b[0;32mreturn\u001b[0m \u001b[0mstring_to_unit\u001b[0m\u001b[0;34m(\u001b[0m\u001b[0munit_name\u001b[0m\u001b[0;34m,\u001b[0m \u001b[0mto_form\u001b[0m\u001b[0;34m=\u001b[0m\u001b[0mform\u001b[0m\u001b[0;34m,\u001b[0m \u001b[0mparser\u001b[0m\u001b[0;34m=\u001b[0m\u001b[0mparser\u001b[0m\u001b[0;34m)\u001b[0m\u001b[0;34m\u001b[0m\u001b[0;34m\u001b[0m\u001b[0m\n\u001b[0m\u001b[1;32m    182\u001b[0m \u001b[0;34m\u001b[0m\u001b[0m\n\u001b[1;32m    183\u001b[0m \u001b[0;32mdef\u001b[0m \u001b[0mconvert\u001b[0m\u001b[0;34m(\u001b[0m\u001b[0mquantity_or_unit\u001b[0m\u001b[0;34m,\u001b[0m \u001b[0mto_unit\u001b[0m\u001b[0;34m=\u001b[0m\u001b[0;32mNone\u001b[0m\u001b[0;34m,\u001b[0m \u001b[0mto_form\u001b[0m\u001b[0;34m=\u001b[0m\u001b[0;32mNone\u001b[0m\u001b[0;34m,\u001b[0m \u001b[0mparser\u001b[0m\u001b[0;34m=\u001b[0m\u001b[0;32mNone\u001b[0m\u001b[0;34m)\u001b[0m\u001b[0;34m:\u001b[0m\u001b[0;34m\u001b[0m\u001b[0;34m\u001b[0m\u001b[0m\n",
      "\u001b[0;32m~/Projects/PyUnitWizard/pyunitwizard/main.py\u001b[0m in \u001b[0;36mstring_to_unit\u001b[0;34m(string, to_form, parser)\u001b[0m\n\u001b[1;32m    390\u001b[0m         \u001b[0mparser\u001b[0m \u001b[0;34m=\u001b[0m \u001b[0mto_form\u001b[0m\u001b[0;34m\u001b[0m\u001b[0;34m\u001b[0m\u001b[0m\n\u001b[1;32m    391\u001b[0m \u001b[0;34m\u001b[0m\u001b[0m\n\u001b[0;32m--> 392\u001b[0;31m     \u001b[0moutput\u001b[0m \u001b[0;34m=\u001b[0m \u001b[0mdict_string_to_unit\u001b[0m\u001b[0;34m[\u001b[0m\u001b[0mparser\u001b[0m\u001b[0;34m]\u001b[0m\u001b[0;34m(\u001b[0m\u001b[0mstring\u001b[0m\u001b[0;34m)\u001b[0m\u001b[0;34m\u001b[0m\u001b[0;34m\u001b[0m\u001b[0m\n\u001b[0m\u001b[1;32m    393\u001b[0m \u001b[0;34m\u001b[0m\u001b[0m\n\u001b[1;32m    394\u001b[0m     \u001b[0;32mif\u001b[0m \u001b[0mparser\u001b[0m \u001b[0;34m!=\u001b[0m \u001b[0mto_form\u001b[0m\u001b[0;34m:\u001b[0m\u001b[0;34m\u001b[0m\u001b[0;34m\u001b[0m\u001b[0m\n",
      "\u001b[0;32m~/Projects/PyUnitWizard/pyunitwizard/forms/api_simtk_unit.py\u001b[0m in \u001b[0;36mstring_to_unit\u001b[0;34m(string)\u001b[0m\n\u001b[1;32m     93\u001b[0m \u001b[0;32mdef\u001b[0m \u001b[0mstring_to_unit\u001b[0m\u001b[0;34m(\u001b[0m\u001b[0mstring\u001b[0m\u001b[0;34m)\u001b[0m\u001b[0;34m:\u001b[0m\u001b[0;34m\u001b[0m\u001b[0;34m\u001b[0m\u001b[0m\n\u001b[1;32m     94\u001b[0m \u001b[0;34m\u001b[0m\u001b[0m\n\u001b[0;32m---> 95\u001b[0;31m     \u001b[0mtmp_quantity\u001b[0m \u001b[0;34m=\u001b[0m \u001b[0mstring_to_quantity\u001b[0m\u001b[0;34m(\u001b[0m\u001b[0mstring\u001b[0m\u001b[0;34m)\u001b[0m\u001b[0;34m\u001b[0m\u001b[0;34m\u001b[0m\u001b[0m\n\u001b[0m\u001b[1;32m     96\u001b[0m     \u001b[0mtmp_unit\u001b[0m \u001b[0;34m=\u001b[0m \u001b[0mget_unit\u001b[0m\u001b[0;34m(\u001b[0m\u001b[0mtmp_quantity\u001b[0m\u001b[0;34m)\u001b[0m\u001b[0;34m\u001b[0m\u001b[0;34m\u001b[0m\u001b[0m\n\u001b[1;32m     97\u001b[0m     \u001b[0;32mreturn\u001b[0m \u001b[0mtmp_unit\u001b[0m\u001b[0;34m\u001b[0m\u001b[0;34m\u001b[0m\u001b[0m\n",
      "\u001b[0;32m~/Projects/PyUnitWizard/pyunitwizard/forms/api_simtk_unit.py\u001b[0m in \u001b[0;36mstring_to_quantity\u001b[0;34m(string)\u001b[0m\n\u001b[1;32m     84\u001b[0m \u001b[0;34m\u001b[0m\u001b[0m\n\u001b[1;32m     85\u001b[0m     \u001b[0mpint_quantity\u001b[0m \u001b[0;34m=\u001b[0m \u001b[0mstring_to_pint_quantity\u001b[0m\u001b[0;34m(\u001b[0m\u001b[0mstring\u001b[0m\u001b[0;34m)\u001b[0m\u001b[0;34m\u001b[0m\u001b[0;34m\u001b[0m\u001b[0m\n\u001b[0;32m---> 86\u001b[0;31m     \u001b[0mparser\u001b[0m \u001b[0;34m=\u001b[0m \u001b[0mPintParserHelper\u001b[0m\u001b[0;34m.\u001b[0m\u001b[0mfrom_string\u001b[0m\u001b[0;34m(\u001b[0m\u001b[0mpint_quantity\u001b[0m\u001b[0;34m.\u001b[0m\u001b[0m__str__\u001b[0m\u001b[0;34m(\u001b[0m\u001b[0;34m)\u001b[0m\u001b[0;34m)\u001b[0m\u001b[0;34m\u001b[0m\u001b[0;34m\u001b[0m\u001b[0m\n\u001b[0m\u001b[1;32m     87\u001b[0m     \u001b[0mtmp_quantity\u001b[0m \u001b[0;34m=\u001b[0m \u001b[0mparser\u001b[0m\u001b[0;34m.\u001b[0m\u001b[0mscale\u001b[0m\u001b[0;34m\u001b[0m\u001b[0;34m\u001b[0m\u001b[0m\n\u001b[1;32m     88\u001b[0m     \u001b[0;32mfor\u001b[0m \u001b[0munit_name\u001b[0m\u001b[0;34m,\u001b[0m \u001b[0mexponent\u001b[0m \u001b[0;32min\u001b[0m \u001b[0mparser\u001b[0m\u001b[0;34m.\u001b[0m\u001b[0mitems\u001b[0m\u001b[0;34m(\u001b[0m\u001b[0;34m)\u001b[0m\u001b[0;34m:\u001b[0m\u001b[0;34m\u001b[0m\u001b[0;34m\u001b[0m\u001b[0m\n",
      "\u001b[0;32m~/MyMachine/locals/miniconda/envs/UIBCDF-Academia/lib/python3.7/site-packages/pint/util.py\u001b[0m in \u001b[0;36mfrom_string\u001b[0;34m(cls, input_string, non_int_type)\u001b[0m\n\u001b[1;32m    613\u001b[0m         \u001b[0mgen\u001b[0m \u001b[0;34m=\u001b[0m \u001b[0mtokenizer\u001b[0m\u001b[0;34m(\u001b[0m\u001b[0minput_string\u001b[0m\u001b[0;34m)\u001b[0m\u001b[0;34m\u001b[0m\u001b[0;34m\u001b[0m\u001b[0m\n\u001b[1;32m    614\u001b[0m         ret = build_eval_tree(gen).evaluate(\n\u001b[0;32m--> 615\u001b[0;31m             \u001b[0mpartial\u001b[0m\u001b[0;34m(\u001b[0m\u001b[0mcls\u001b[0m\u001b[0;34m.\u001b[0m\u001b[0meval_token\u001b[0m\u001b[0;34m,\u001b[0m \u001b[0mnon_int_type\u001b[0m\u001b[0;34m=\u001b[0m\u001b[0mnon_int_type\u001b[0m\u001b[0;34m)\u001b[0m\u001b[0;34m\u001b[0m\u001b[0;34m\u001b[0m\u001b[0m\n\u001b[0m\u001b[1;32m    616\u001b[0m         )\n\u001b[1;32m    617\u001b[0m \u001b[0;34m\u001b[0m\u001b[0m\n",
      "\u001b[0;32m~/MyMachine/locals/miniconda/envs/UIBCDF-Academia/lib/python3.7/site-packages/pint/pint_eval.py\u001b[0m in \u001b[0;36mevaluate\u001b[0;34m(self, define_op, bin_op, un_op)\u001b[0m\n\u001b[1;32m     90\u001b[0m             \u001b[0;32mif\u001b[0m \u001b[0mop_text\u001b[0m \u001b[0;32mnot\u001b[0m \u001b[0;32min\u001b[0m \u001b[0mbin_op\u001b[0m\u001b[0;34m:\u001b[0m\u001b[0;34m\u001b[0m\u001b[0;34m\u001b[0m\u001b[0m\n\u001b[1;32m     91\u001b[0m                 \u001b[0;32mraise\u001b[0m \u001b[0mDefinitionSyntaxError\u001b[0m\u001b[0;34m(\u001b[0m\u001b[0;34m'missing binary operator \"%s\"'\u001b[0m \u001b[0;34m%\u001b[0m \u001b[0mop_text\u001b[0m\u001b[0;34m)\u001b[0m\u001b[0;34m\u001b[0m\u001b[0;34m\u001b[0m\u001b[0m\n\u001b[0;32m---> 92\u001b[0;31m             \u001b[0mleft\u001b[0m \u001b[0;34m=\u001b[0m \u001b[0mself\u001b[0m\u001b[0;34m.\u001b[0m\u001b[0mleft\u001b[0m\u001b[0;34m.\u001b[0m\u001b[0mevaluate\u001b[0m\u001b[0;34m(\u001b[0m\u001b[0mdefine_op\u001b[0m\u001b[0;34m,\u001b[0m \u001b[0mbin_op\u001b[0m\u001b[0;34m,\u001b[0m \u001b[0mun_op\u001b[0m\u001b[0;34m)\u001b[0m\u001b[0;34m\u001b[0m\u001b[0;34m\u001b[0m\u001b[0m\n\u001b[0m\u001b[1;32m     93\u001b[0m             \u001b[0;32mreturn\u001b[0m \u001b[0mbin_op\u001b[0m\u001b[0;34m[\u001b[0m\u001b[0mop_text\u001b[0m\u001b[0;34m]\u001b[0m\u001b[0;34m(\u001b[0m\u001b[0mleft\u001b[0m\u001b[0;34m,\u001b[0m \u001b[0mself\u001b[0m\u001b[0;34m.\u001b[0m\u001b[0mright\u001b[0m\u001b[0;34m.\u001b[0m\u001b[0mevaluate\u001b[0m\u001b[0;34m(\u001b[0m\u001b[0mdefine_op\u001b[0m\u001b[0;34m,\u001b[0m \u001b[0mbin_op\u001b[0m\u001b[0;34m,\u001b[0m \u001b[0mun_op\u001b[0m\u001b[0;34m)\u001b[0m\u001b[0;34m)\u001b[0m\u001b[0;34m\u001b[0m\u001b[0;34m\u001b[0m\u001b[0m\n\u001b[1;32m     94\u001b[0m         \u001b[0;32melif\u001b[0m \u001b[0mself\u001b[0m\u001b[0;34m.\u001b[0m\u001b[0moperator\u001b[0m\u001b[0;34m:\u001b[0m\u001b[0;34m\u001b[0m\u001b[0;34m\u001b[0m\u001b[0m\n",
      "\u001b[0;32m~/MyMachine/locals/miniconda/envs/UIBCDF-Academia/lib/python3.7/site-packages/pint/pint_eval.py\u001b[0m in \u001b[0;36mevaluate\u001b[0;34m(self, define_op, bin_op, un_op)\u001b[0m\n\u001b[1;32m     90\u001b[0m             \u001b[0;32mif\u001b[0m \u001b[0mop_text\u001b[0m \u001b[0;32mnot\u001b[0m \u001b[0;32min\u001b[0m \u001b[0mbin_op\u001b[0m\u001b[0;34m:\u001b[0m\u001b[0;34m\u001b[0m\u001b[0;34m\u001b[0m\u001b[0m\n\u001b[1;32m     91\u001b[0m                 \u001b[0;32mraise\u001b[0m \u001b[0mDefinitionSyntaxError\u001b[0m\u001b[0;34m(\u001b[0m\u001b[0;34m'missing binary operator \"%s\"'\u001b[0m \u001b[0;34m%\u001b[0m \u001b[0mop_text\u001b[0m\u001b[0;34m)\u001b[0m\u001b[0;34m\u001b[0m\u001b[0;34m\u001b[0m\u001b[0m\n\u001b[0;32m---> 92\u001b[0;31m             \u001b[0mleft\u001b[0m \u001b[0;34m=\u001b[0m \u001b[0mself\u001b[0m\u001b[0;34m.\u001b[0m\u001b[0mleft\u001b[0m\u001b[0;34m.\u001b[0m\u001b[0mevaluate\u001b[0m\u001b[0;34m(\u001b[0m\u001b[0mdefine_op\u001b[0m\u001b[0;34m,\u001b[0m \u001b[0mbin_op\u001b[0m\u001b[0;34m,\u001b[0m \u001b[0mun_op\u001b[0m\u001b[0;34m)\u001b[0m\u001b[0;34m\u001b[0m\u001b[0;34m\u001b[0m\u001b[0m\n\u001b[0m\u001b[1;32m     93\u001b[0m             \u001b[0;32mreturn\u001b[0m \u001b[0mbin_op\u001b[0m\u001b[0;34m[\u001b[0m\u001b[0mop_text\u001b[0m\u001b[0;34m]\u001b[0m\u001b[0;34m(\u001b[0m\u001b[0mleft\u001b[0m\u001b[0;34m,\u001b[0m \u001b[0mself\u001b[0m\u001b[0;34m.\u001b[0m\u001b[0mright\u001b[0m\u001b[0;34m.\u001b[0m\u001b[0mevaluate\u001b[0m\u001b[0;34m(\u001b[0m\u001b[0mdefine_op\u001b[0m\u001b[0;34m,\u001b[0m \u001b[0mbin_op\u001b[0m\u001b[0;34m,\u001b[0m \u001b[0mun_op\u001b[0m\u001b[0;34m)\u001b[0m\u001b[0;34m)\u001b[0m\u001b[0;34m\u001b[0m\u001b[0;34m\u001b[0m\u001b[0m\n\u001b[1;32m     94\u001b[0m         \u001b[0;32melif\u001b[0m \u001b[0mself\u001b[0m\u001b[0;34m.\u001b[0m\u001b[0moperator\u001b[0m\u001b[0;34m:\u001b[0m\u001b[0;34m\u001b[0m\u001b[0;34m\u001b[0m\u001b[0m\n",
      "\u001b[0;32m~/MyMachine/locals/miniconda/envs/UIBCDF-Academia/lib/python3.7/site-packages/pint/pint_eval.py\u001b[0m in \u001b[0;36mevaluate\u001b[0;34m(self, define_op, bin_op, un_op)\u001b[0m\n\u001b[1;32m     91\u001b[0m                 \u001b[0;32mraise\u001b[0m \u001b[0mDefinitionSyntaxError\u001b[0m\u001b[0;34m(\u001b[0m\u001b[0;34m'missing binary operator \"%s\"'\u001b[0m \u001b[0;34m%\u001b[0m \u001b[0mop_text\u001b[0m\u001b[0;34m)\u001b[0m\u001b[0;34m\u001b[0m\u001b[0;34m\u001b[0m\u001b[0m\n\u001b[1;32m     92\u001b[0m             \u001b[0mleft\u001b[0m \u001b[0;34m=\u001b[0m \u001b[0mself\u001b[0m\u001b[0;34m.\u001b[0m\u001b[0mleft\u001b[0m\u001b[0;34m.\u001b[0m\u001b[0mevaluate\u001b[0m\u001b[0;34m(\u001b[0m\u001b[0mdefine_op\u001b[0m\u001b[0;34m,\u001b[0m \u001b[0mbin_op\u001b[0m\u001b[0;34m,\u001b[0m \u001b[0mun_op\u001b[0m\u001b[0;34m)\u001b[0m\u001b[0;34m\u001b[0m\u001b[0;34m\u001b[0m\u001b[0m\n\u001b[0;32m---> 93\u001b[0;31m             \u001b[0;32mreturn\u001b[0m \u001b[0mbin_op\u001b[0m\u001b[0;34m[\u001b[0m\u001b[0mop_text\u001b[0m\u001b[0;34m]\u001b[0m\u001b[0;34m(\u001b[0m\u001b[0mleft\u001b[0m\u001b[0;34m,\u001b[0m \u001b[0mself\u001b[0m\u001b[0;34m.\u001b[0m\u001b[0mright\u001b[0m\u001b[0;34m.\u001b[0m\u001b[0mevaluate\u001b[0m\u001b[0;34m(\u001b[0m\u001b[0mdefine_op\u001b[0m\u001b[0;34m,\u001b[0m \u001b[0mbin_op\u001b[0m\u001b[0;34m,\u001b[0m \u001b[0mun_op\u001b[0m\u001b[0;34m)\u001b[0m\u001b[0;34m)\u001b[0m\u001b[0;34m\u001b[0m\u001b[0;34m\u001b[0m\u001b[0m\n\u001b[0m\u001b[1;32m     94\u001b[0m         \u001b[0;32melif\u001b[0m \u001b[0mself\u001b[0m\u001b[0;34m.\u001b[0m\u001b[0moperator\u001b[0m\u001b[0;34m:\u001b[0m\u001b[0;34m\u001b[0m\u001b[0;34m\u001b[0m\u001b[0m\n\u001b[1;32m     95\u001b[0m             \u001b[0;31m# unary operator\u001b[0m\u001b[0;34m\u001b[0m\u001b[0;34m\u001b[0m\u001b[0;34m\u001b[0m\u001b[0m\n",
      "\u001b[0;32m~/MyMachine/locals/miniconda/envs/UIBCDF-Academia/lib/python3.7/site-packages/pint/pint_eval.py\u001b[0m in \u001b[0;36mevaluate\u001b[0;34m(self, define_op, bin_op, un_op)\u001b[0m\n\u001b[1;32m    100\u001b[0m         \u001b[0;32melse\u001b[0m\u001b[0;34m:\u001b[0m\u001b[0;34m\u001b[0m\u001b[0;34m\u001b[0m\u001b[0m\n\u001b[1;32m    101\u001b[0m             \u001b[0;31m# single value\u001b[0m\u001b[0;34m\u001b[0m\u001b[0;34m\u001b[0m\u001b[0;34m\u001b[0m\u001b[0m\n\u001b[0;32m--> 102\u001b[0;31m             \u001b[0;32mreturn\u001b[0m \u001b[0mdefine_op\u001b[0m\u001b[0;34m(\u001b[0m\u001b[0mself\u001b[0m\u001b[0;34m.\u001b[0m\u001b[0mleft\u001b[0m\u001b[0;34m)\u001b[0m\u001b[0;34m\u001b[0m\u001b[0;34m\u001b[0m\u001b[0m\n\u001b[0m\u001b[1;32m    103\u001b[0m \u001b[0;34m\u001b[0m\u001b[0m\n\u001b[1;32m    104\u001b[0m \u001b[0;34m\u001b[0m\u001b[0m\n",
      "\u001b[0;32m~/MyMachine/locals/miniconda/envs/UIBCDF-Academia/lib/python3.7/site-packages/pint/util.py\u001b[0m in \u001b[0;36meval_token\u001b[0;34m(cls, token, use_decimal, non_int_type)\u001b[0m\n\u001b[1;32m    570\u001b[0m             )\n\u001b[1;32m    571\u001b[0m \u001b[0;34m\u001b[0m\u001b[0m\n\u001b[0;32m--> 572\u001b[0;31m         \u001b[0mtoken_type\u001b[0m \u001b[0;34m=\u001b[0m \u001b[0mtoken\u001b[0m\u001b[0;34m.\u001b[0m\u001b[0mtype\u001b[0m\u001b[0;34m\u001b[0m\u001b[0;34m\u001b[0m\u001b[0m\n\u001b[0m\u001b[1;32m    573\u001b[0m         \u001b[0mtoken_text\u001b[0m \u001b[0;34m=\u001b[0m \u001b[0mtoken\u001b[0m\u001b[0;34m.\u001b[0m\u001b[0mstring\u001b[0m\u001b[0;34m\u001b[0m\u001b[0;34m\u001b[0m\u001b[0m\n\u001b[1;32m    574\u001b[0m         \u001b[0;32mif\u001b[0m \u001b[0mtoken_type\u001b[0m \u001b[0;34m==\u001b[0m \u001b[0mNUMBER\u001b[0m\u001b[0;34m:\u001b[0m\u001b[0;34m\u001b[0m\u001b[0;34m\u001b[0m\u001b[0m\n",
      "\u001b[0;31mAttributeError\u001b[0m: 'EvalTreeNode' object has no attribute 'type'"
     ]
    }
   ],
   "source": [
    "h5f = h5py.File('traj.h5', 'r')\n",
    "times = h5f['times'][:] * puw.unit(h5f['times_units'])\n",
    "positions = h5f['positions'][:] * puw.unit(h5f['positions_units'])\n",
    "velocities = h5f['velocities'][:] * puw.unit(h5f['velocities_units'])\n",
    "kinetic_energies = h5f['kinetic_energies'][:] * puw.unit(h5f['energies_units'])\n",
    "potential_energies = h5f['potential_energies'][:] * puw.unit(h5f['energies_units'])\n",
    "h5f.close()"
   ]
  },
  {
   "cell_type": "code",
   "execution_count": null,
   "id": "51218009-466b-4df5-8983-119bc270f053",
   "metadata": {},
   "outputs": [],
   "source": []
  },
  {
   "cell_type": "markdown",
   "id": "139d89de-5d57-4fb6-8ded-1778fb08f4e9",
   "metadata": {},
   "source": [
    "Por último podemos representar gráficamente la trayectoria con la libreria Matplotlib:"
   ]
  },
  {
   "cell_type": "code",
   "execution_count": null,
   "id": "9c18cd0f-9a7e-4e11-81ce-4e1dd701efbd",
   "metadata": {},
   "outputs": [],
   "source": [
    "import matplotlib.pyplot as plt"
   ]
  },
  {
   "cell_type": "code",
   "execution_count": null,
   "id": "008babbc-8de8-4213-a269-cfb5a91c1c6e",
   "metadata": {},
   "outputs": [],
   "source": [
    "plt.rcParams['figure.figsize'] = 18, 4\n",
    "\n",
    "for ii, axis_label in zip(range(3),['X','Y','Z']):\n",
    "    plt.plot(times, positions[:,0,ii])\n",
    "    plt.ylabel('{} ({})'.format(axis_label, positions.unit))\n",
    "    plt.xlabel('time ({})'.format(times.unit))\n",
    "    plt.show()\n"
   ]
  },
  {
   "cell_type": "markdown",
   "id": "c40ac7fc-86cb-4f43-8c69-176deaadc09b",
   "metadata": {},
   "source": [
    "O si preferimos, la trayectoria proyectada por el espacio de dos de las dimensiones, por ejemplo $X$ y $Y$:"
   ]
  },
  {
   "cell_type": "code",
   "execution_count": null,
   "id": "1373b86d-cd17-4a51-8f13-75d7b03e10e7",
   "metadata": {},
   "outputs": [],
   "source": [
    "plt.rcParams['figure.figsize'] = 5, 5\n",
    "\n",
    "plt.plot(positions[:,0,0], positions[:,0,1])\n",
    "plt.xlabel('X ({})'.format(positions.unit))\n",
    "plt.ylabel('Y ({})'.format(positions.unit))\n",
    "plt.show()"
   ]
  },
  {
   "cell_type": "markdown",
   "id": "6e33449d-4221-46a2-8df0-4065694a6c11",
   "metadata": {},
   "source": [
    "Borremos el fichero creado:"
   ]
  },
  {
   "cell_type": "code",
   "execution_count": null,
   "id": "aec3d801-7666-4575-947f-db50fd850a83",
   "metadata": {},
   "outputs": [],
   "source": [
    "import os\n",
    "os.remove('traj.pkl')"
   ]
  },
  {
   "cell_type": "markdown",
   "id": "da119321-e137-447f-a6ac-f6872bfbd0f4",
   "metadata": {},
   "source": [
    "## Script de Python\n",
    "\n",
    "El flujo de ordenes anteriores para llevar a cabo la simulación de una partícula libre en un jupyter notebook, puede ser encontrada también en forma de script en el directorio 'data/openmm_scripts' del repositorio de UIBCDF-Academia en GitHub con el nombre ['particula_libre.py'][script_python]. Este puede ser ejecutado en la terminal mediante el siguiente comando:\n",
    "\n",
    "```bash\n",
    "python particular_libre.py\n",
    "```\n",
    "\n",
    "Se genera un archivo llamado 'traj.pkl' con la compresión mediante la librería pickle de los numpy array para el tiempo, las posiciones y las velocidades guardados a intervalos de tiempo definidos en el script.\n",
    "\n",
    "[script_python]: https://github.com/uibcdf/Academia/tree/main/data"
   ]
  },
  {
   "cell_type": "markdown",
   "id": "da8b014c-191f-4d8e-9d4a-f2eb6c757227",
   "metadata": {},
   "source": [
    "## El sistema en OpenMolecularSystems\n",
    "\n",
    "El sistema molecular, en este caso la partícula libre, se encuentra disponible en la librería de python desarrollada en la [OpenMolecularSystem](http://www.uibcdf.org/OpenMolecularSystems). El sistema puede ser simulado en distintas circunstancias de manera más cómoda haciendo uso de esta libreria."
   ]
  },
  {
   "cell_type": "markdown",
   "id": "a1032af4-4a18-4e8f-8add-6a7fdfed9a23",
   "metadata": {},
   "source": [
    "<div style='text-align: right;'> <a href=\"../xxx.ipynb\">Ir a la siguiente unidad</a> </div>\n",
    "\n",
    "-------\n",
    "<p xmlns:cc=\"http://creativecommons.org/ns#\" xmlns:dct=\"http://purl.org/dc/terms/\"><a property=\"dct:title\" rel=\"cc:attributionURL\" href=\"https://github.com/uibcdf/Academia\">UIBCDF-Academia</a> por <a rel=\"cc:attributionURL dct:creator\" property=\"cc:attributionName\" href=\"https://github.com/uibcdf/Academia/graphs/contributors\">UIBCDF Lab, autores y colaboradores</a> es material protegido bajo una licencia <a href=\"http://creativecommons.org/licenses/by-nc-sa/4.0/deed.es?ref=chooser-v1\" target=\"_blank\" rel=\"license noopener noreferrer\" style=\"display:inline-block;\">Attribution-NonCommercial-ShareAlike 4.0 International<img style=\"height:22px!important;margin-left:3px;vertical-align:text-bottom;\" src=\"https://mirrors.creativecommons.org/presskit/icons/cc.svg?ref=chooser-v1\"><img style=\"height:22px!important;margin-left:3px;vertical-align:text-bottom;\" src=\"https://mirrors.creativecommons.org/presskit/icons/by.svg?ref=chooser-v1\"><img style=\"height:22px!important;margin-left:3px;vertical-align:text-bottom;\" src=\"https://mirrors.creativecommons.org/presskit/icons/nc.svg?ref=chooser-v1\"><img style=\"height:22px!important;margin-left:3px;vertical-align:text-bottom;\" src=\"https://mirrors.creativecommons.org/presskit/icons/sa.svg?ref=chooser-v1\"></a></p>\n"
   ]
  }
 ],
 "metadata": {
  "kernelspec": {
   "display_name": "Python 3",
   "language": "python",
   "name": "python3"
  },
  "language_info": {
   "codemirror_mode": {
    "name": "ipython",
    "version": 3
   },
   "file_extension": ".py",
   "mimetype": "text/x-python",
   "name": "python",
   "nbconvert_exporter": "python",
   "pygments_lexer": "ipython3",
   "version": "3.7.10"
  }
 },
 "nbformat": 4,
 "nbformat_minor": 5
}
