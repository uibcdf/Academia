{
 "cells": [
  {
   "cell_type": "markdown",
   "metadata": {},
   "source": [
    "Material:\n",
    "    \n",
    "https://gpantel.github.io/     \n",
    "https://github.com/gpantel/MD_methods-and-analysis/tree/master/OpenMM_Tutorial    \n",
    "https://gpantel.github.io/assets/PDF/OpenMM_Tutorial.pdf    "
   ]
  },
  {
   "cell_type": "code",
   "execution_count": null,
   "metadata": {},
   "outputs": [],
   "source": [
    "import molsysmt as msm\n",
    "import uibcdf_tools as uibcdf_tools"
   ]
  },
  {
   "cell_type": "markdown",
   "metadata": {},
   "source": [
    "# System creation"
   ]
  },
  {
   "cell_type": "code",
   "execution_count": null,
   "metadata": {},
   "outputs": [],
   "source": [
    "sequence = 'NLYIQWLKDGGPSSGRPPPS'"
   ]
  },
  {
   "cell_type": "code",
   "execution_count": null,
   "metadata": {},
   "outputs": [],
   "source": [
    "molecular_system = msm.build_peptide('aminoacids1:'+sequence, forcefield='AMBER14', implicit_solvent='GBSA OBC',\n",
    "                                     to_form='molsysmt.MolSys', verbose=False)"
   ]
  },
  {
   "cell_type": "code",
   "execution_count": null,
   "metadata": {},
   "outputs": [],
   "source": [
    "molecular_system = msm.fix(molecular_system, verbose=True)"
   ]
  },
  {
   "cell_type": "code",
   "execution_count": null,
   "metadata": {},
   "outputs": [],
   "source": [
    "msm.info(molecular_system)"
   ]
  },
  {
   "cell_type": "markdown",
   "metadata": {},
   "source": [
    "## Charge"
   ]
  },
  {
   "cell_type": "code",
   "execution_count": null,
   "metadata": {},
   "outputs": [],
   "source": [
    "net_charge = msm.physchem.get_charge(molecular_system, target='system', type='ForceField', forcefield='AMBER14')\n",
    "print(\"Net charge of the molecular system: {}\".format(net_charge))"
   ]
  },
  {
   "cell_type": "code",
   "execution_count": null,
   "metadata": {},
   "outputs": [],
   "source": [
    "palette = uibcdf_tools.colors.Palette_1()\n",
    "cmap = uibcdf_tools.matplotlib.color_maps.get_cmap('red_white_blue', palette, tone='dark')\n",
    "\n",
    "charge_residues = msm.physchem.get_charge(molecular_system, target='group', type='ForceField', forcefield='AMBER14')\n",
    "\n",
    "view = msm.view(molecular_system)\n",
    "view.clear()\n",
    "msm.nglview.show_colored_surface_by_scalar_residue_values(view, charge_residues, cmap=cmap)\n",
    "view"
   ]
  },
  {
   "cell_type": "markdown",
   "metadata": {},
   "source": [
    "## Protonable aminoacids"
   ]
  },
  {
   "cell_type": "code",
   "execution_count": null,
   "metadata": {},
   "outputs": [],
   "source": [
    "## Arginines\n",
    "n_ARGs = sequence.count('R')\n",
    "print('Number of arginines:', n_ARGs)\n",
    "\n",
    "## Histidines\n",
    "n_HISs = sequence.count('H')\n",
    "print('Number of histidines:', n_HISs)\n",
    "\n",
    "## Lysines\n",
    "n_LYSs = sequence.count('K')\n",
    "print('Number of lysines:', n_LYSs)"
   ]
  },
  {
   "cell_type": "markdown",
   "metadata": {},
   "source": [
    "## Polarity"
   ]
  },
  {
   "cell_type": "code",
   "execution_count": null,
   "metadata": {},
   "outputs": [],
   "source": [
    "palette = uibcdf_tools.colors.Palette_1()\n",
    "cmap = uibcdf_tools.matplotlib.color_maps.get_cmap('red_white_blue', palette, tone='dark')\n",
    "\n",
    "charge_residues = msm.physchem.get_polarity(molecular_system, target='group')\n",
    "\n",
    "view = msm.view(molecular_system)\n",
    "view.clear()\n",
    "msm.nglview.show_colored_surface_by_scalar_residue_values(view, charge_residues, cmap=cmap)\n",
    "view"
   ]
  },
  {
   "cell_type": "markdown",
   "metadata": {},
   "source": [
    "## Saving as PDB file"
   ]
  },
  {
   "cell_type": "code",
   "execution_count": null,
   "metadata": {},
   "outputs": [],
   "source": [
    "msm.convert(molecular_system, to_form='Trp-cage.pdb')"
   ]
  }
 ],
 "metadata": {
  "kernelspec": {
   "display_name": "Python 3",
   "language": "python",
   "name": "python3"
  },
  "language_info": {
   "codemirror_mode": {
    "name": "ipython",
    "version": 3
   },
   "file_extension": ".py",
   "mimetype": "text/x-python",
   "name": "python",
   "nbconvert_exporter": "python",
   "pygments_lexer": "ipython3",
   "version": "3.7.7"
  }
 },
 "nbformat": 4,
 "nbformat_minor": 4
}
