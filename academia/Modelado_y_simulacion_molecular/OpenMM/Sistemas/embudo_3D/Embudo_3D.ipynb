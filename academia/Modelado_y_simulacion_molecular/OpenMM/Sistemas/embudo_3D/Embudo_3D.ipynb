{
 "cells": [
  {
   "cell_type": "markdown",
   "metadata": {},
   "source": [
    "# Potencial tipo embudo 3D\n",
    "\n",
    "El potencial está todavía por reajustar. Esto se hizo con apoyo del notebook Gaussian_kernel."
   ]
  },
  {
   "cell_type": "code",
   "execution_count": 1,
   "metadata": {},
   "outputs": [],
   "source": [
    "import numpy as np\n",
    "import sympy as sy\n",
    "import matplotlib.pyplot as plt\n",
    "import simtk.openmm as mm\n",
    "import simtk.unit as unit\n",
    "import simtk.openmm.app as app\n",
    "from tqdm import tqdm"
   ]
  },
  {
   "cell_type": "code",
   "execution_count": 2,
   "metadata": {},
   "outputs": [],
   "source": [
    "plt.style.use('ggplot')"
   ]
  },
  {
   "cell_type": "markdown",
   "metadata": {},
   "source": [
    "# Definición del sistema"
   ]
  },
  {
   "cell_type": "code",
   "execution_count": 3,
   "metadata": {},
   "outputs": [
    {
     "data": {
      "text/plain": [
       "0"
      ]
     },
     "execution_count": 3,
     "metadata": {},
     "output_type": "execute_result"
    }
   ],
   "source": [
    "system = mm.System()\n",
    "mass   = 39.948 * unit.amu # masa del átomo Ar\n",
    "system.addParticle(mass)"
   ]
  },
  {
   "cell_type": "markdown",
   "metadata": {},
   "source": [
    "# Potencial tipo embudo 3D"
   ]
  },
  {
   "cell_type": "code",
   "execution_count": 4,
   "metadata": {},
   "outputs": [],
   "source": [
    "def elliptical_gaussian_kernel_3D(x,y,z,xo,yo,zo,A=-1.0,cxx=0.0,cxy=0.0,cxz=0.0,\n",
    "                                  cyy=0.0,cyz=0.0,czz=0.0):\n",
    "    inc_x = x-xo\n",
    "    inc_y = y-yo\n",
    "    inc_z = z-zo\n",
    "    B = cxx*inc_x*inc_x + cyy*inc_y*inc_y + czz*inc_z*inc_z + \\\n",
    "        2*cxy*inc_x*inc_y + 2*cxz*inc_x*inc_z + 2*cyz*inc_y*inc_z\n",
    "    return A*np.exp(-B)\n",
    "\n",
    "def check_positive_3D(embudo):\n",
    "    \n",
    "    pot_i=0\n",
    "    for pot in embudo:\n",
    "        xo, yo, zo, A, cxx, cxy, cxz, cyy, cyz, czz = pot\n",
    "        M = np.array([[cxx, cxy, cxz], [cxy, cyy, cyz], [cxz, cyz, czz]])\n",
    "        is_positive = np.all(np.linalg.eigvals(M+M.transpose()) > 0)\n",
    "        if not is_positive:\n",
    "            print('La gaussiana',pot_i, 'no es definida positiva')\n",
    "        pot_i+=1\n",
    "\n",
    "        \n",
    "def effective_ks_3D(embudo):\n",
    "    \n",
    "    effective_ks = []\n",
    "    pot_i=0\n",
    "    for pot in embudo:\n",
    "\n",
    "        xo, yo, zo, A, cxx, cxy, cxz, cyy, cyz, czz = pot\n",
    "        x = sy.symbols('x')\n",
    "        y = sy.symbols('y')\n",
    "        z = sy.symbols('z')\n",
    "        f = A*sy.exp(-(cxx*(x-xo)**2 + 2*cxy*(x-xo)*(y-yo) + 2*cxz*(x-xo)*(z-zo) + cyy*(y-yo)*(y-yo) + 2*cyz*(y-yo)*(z-zo) + czz*(z-zo)**2 ))\n",
    "        gradient = sy.derive_by_array(f,(x,y,z))\n",
    "        hessian = sy.derive_by_array(gradient,(x,y,z))\n",
    "        M = hessian.subs(x,xo).subs(y,yo).subs(z,zo)\n",
    "        M = np.array(M.tolist(),dtype=float)\n",
    "        eigenvals, eigenvecs = np.linalg.eig(np.array(M))\n",
    "        #print('Gaussiana',pot_i)\n",
    "        for ii in range(eigenvals.shape[0]):\n",
    "            eff_k = eigenvals[ii]\n",
    "            if eff_k > 0.0:\n",
    "                effective_ks.append(eff_k)\n",
    "            #print('\\t effective k',eff_d,'en modo',eigenvecs[:,ii])\n",
    "        pot_i+=1\n",
    "        #print('')\n",
    "    return np.max(effective_ks)\n",
    "\n"
   ]
  },
  {
   "cell_type": "code",
   "execution_count": 5,
   "metadata": {},
   "outputs": [],
   "source": [
    "def plot_embudo_mayavi_3D(embudo):\n",
    "    \n",
    "    xlim = [-10,10]\n",
    "    ylim = [-10,10]\n",
    "    zlim = [-10,10]\n",
    "    xbins = 200\n",
    "    ybins = 200\n",
    "    zbins = 200\n",
    "\n",
    "    x = np.linspace(xlim[0], xlim[1], xbins)\n",
    "    y = np.linspace(ylim[0], ylim[1], ybins)\n",
    "    z = np.linspace(zlim[0], zlim[1], zbins)\n",
    "\n",
    "    X,Y,Z = np.meshgrid(x, y, z)\n",
    "    scalars = 0.0\n",
    "    for pot in embudo:\n",
    "        xo, yo, zo, A, cxx, cxy, cxz, cyy, cyz, czz = pot\n",
    "        scalars += elliptical_gaussian_kernel_3D(X,Y,Z,xo,yo,zo,A,cxx,cxy,cxz,cyy,cyz,czz)\n",
    "\n",
    "\n",
    "    return mlab.contour3d(scalars, contours=14, opacity = 0.2)"
   ]
  },
  {
   "cell_type": "code",
   "execution_count": 6,
   "metadata": {},
   "outputs": [
    {
     "data": {
      "text/plain": [
       "4.994611392664028"
      ]
     },
     "execution_count": 6,
     "metadata": {},
     "output_type": "execute_result"
    }
   ],
   "source": [
    "#pot_i = [  xo,   yo,  zo,    A,  cxx,  cxy, cxz, cyy, cyz, czz]\n",
    "pot_0 =  [ 0.0,  0.0, 0.0, -2.0, 0.05,  0.0, 0.0, 0.05, 0.0, 0.05]\n",
    "pot_1 =  [ 0.0,  0.0, 0.0, -0.6,  2.0,  0.0, 0.0,  2.0, 0.0, 2.0]\n",
    "pot_2 =  [ 3.0,  3.0, 3.0, -0.8,  1.0,  0.5, 0.2,  1.0, 0.1, 1.0]\n",
    "pot_3 =  [ 0.0,  5.0, 0.0, -0.6,  1.0,  0.0, 0.0,  1.0, 0.2, 1.2]\n",
    "pot_4 =  [-2.5, -2.0,-2.0, -0.5,  1.0,  0.0, 0.4,  1.0, 0.0, 1.2]\n",
    "pot_5 =  [ 2.2, -2.0, 2.0, -0.8,  2.0,  0.0, 0.2,  2.0, 0.4, 0.8]\n",
    "pot_6 =  [ 3.0,  6.0, 3.0, -0.8,  2.0,  0.8, 0.0,  2.0, 0.2, 2.0]\n",
    "pot_7 =  [-4.5,  1.0, 2.0, -0.8,  2.0,  0.0, 0.1,  2.0, 0.0, 0.7]\n",
    "pot_8 =  [-3.0,  4.0, 1.0, -0.6,  1.0,  0.4, 0.0,  0.7, 0.0, 1.0]\n",
    "pot_9 =  [ 0.0, -4.0, 0.0, -0.8,  2.0,  0.2, 0.2,  2.0, 0.3, 2.0]\n",
    "pot_10 = [-2.0,  5.8,-3.0, -0.8,  1.0,  0.1, 0.0,  1.0, 0.0, 1.2]\n",
    "pot_11 = [-1.8,  0.8, 3.0, -0.5,  0.9,  0.0, 0.2,  2.0, 0.2, 1.5]\n",
    "pot_12 = [ 5.0, -0.3, 5.0, -0.8,  1.0,  0.4, 0.3,  1.0, 0.0, 1.2]\n",
    "pot_13 = [ 4.0, -4.0, 4.0, -0.8,  1.0,  0.0, 0.0,  1.0, 0.1, 0.7]\n",
    "pot_14 = [ 5.0, -2.5,-4.0, -0.6,  2.0,  0.0, 0.3,  1.0, 0.0, 0.8]\n",
    "pot_15 = [-3.0, -4.0,-4.0, -1.0,  0.8,  0.3, 0.0,  1.0, 0.3, 1.0]\n",
    "pot_16 = [-4.0,  3.0, 4.0, -0.7,  3.5,  0.0, 0.4,  3.5, 0.0, 1.2]\n",
    "pot_17 = [-5.0, -2.0, 6.0, -1.2,  1.5,  0.0, 0.0,  1.5, 0.2, 0.8]\n",
    "pot_18 = [-6.0, -1.8,-6.0, -0.8,  1.0,  0.2, 0.1,  0.8, 0.0, 1.0]\n",
    "pot_19 = [ 2.0, -5.0, 5.0, -1.0,  1.5,  0.0, 0.1,  1.5, 0.1, 1.5]\n",
    "pot_20 = [-6.0,  0.0, 2.0, -1.0,  1.5,  0.1, 0.0,  1.5, 0.0, 0.9]\n",
    "pot_21 = [-6.0,  6.0, 1.0, -1.2,  1.0,  0.5, 0.2,  0.9, 0.2, 0.9]\n",
    "pot_22 = [ 6.2,  2.0, 3.0, -1.2,  1.0,  0.0, 0.0,  1.0, 0.2, 1.0]\n",
    "pot_23 = [ 2.5,  0.5, 0.0, -1.0,  1.5,  0.0, 0.1,  1.5, 0.2, 1.5]\n",
    "pot_24 = [-4.0, -1.0, 3.0, -1.0,  1.2,  0.1, 0.0,  1.5, 0.2, 1.2]\n",
    "pot_25 = [-1.5, -2.0, 3.0, -0.9,  0.7,  0.5, 0.1,  0.9, 0.0, 0.9]\n",
    "pot_26 = [-4.2,  2.0,-3.0, -1.2,  1.2,  0.0, 0.3,  0.8, 0.1, 0.8]\n",
    "pot_27 = [ 4.0,  4.0, 3.0, -0.8,  0.8,  0.5, 0.0,  0.9, 0.0, 1.0]\n",
    "pot_28 = [ 4.2, -2.0,-3.0, -0.8,  1.0,  0.0, 0.4,  1.0, 0.2, 1.0]\n",
    "pot_29 = [-6.0, -1.8,-6.0, -0.8,  1.0,  0.2, 0.1,  0.8, 0.0, 1.0]\n",
    "pot_30 = [ 2.0, -5.0, 5.0, -1.0,  1.5,  0.0, 0.1,  1.5, 0.1, 1.5]\n",
    "pot_31 = [-6.0,  5.0, 2.0, -1.0,  0.8,  0.1, 0.0,  1.5, 0.0, 0.9]\n",
    "pot_32 = [ 6.0,  6.0, 1.0, -1.2,  0.8,  0.5, 0.2,  0.9, 0.2, 0.9]\n",
    "pot_33 = [ 0.2,  5.0, 5.0, -1.2,  1.0,  0.0, 0.0,  0.5, 0.6, 1.0]\n",
    "pot_34 = [-4.0,  2.0, 5.0, -1.2,  1.5,  0.0, 0.2,  1.0, 0.3, 1.5]\n",
    "pot_35 = [-3.0, -1.8,-2.0,  0.4,  1.0,  0.2, 0.1,  0.8, 0.0, 1.0]\n",
    "pot_36 = [ 2.0, -3.0, 4.0,  0.6,  1.5,  0.0, 0.1,  1.5, 0.1, 1.5]\n",
    "pot_37 = [ 3.0,  0.0, 1.0,  0.4,  0.8,  0.1, 0.0,  1.5, 0.0, 0.9]\n",
    "pot_38 = [ 2.0, -4.0,-1.0,  0.6,  0.8,  0.5, 0.2,  0.9, 0.2, 0.9]\n",
    "pot_39 = [ 0.2,  3.0, 3.0,  0.4,  1.0,  0.0, 0.0,  0.5, 0.6, 1.0]\n",
    "pot_40 = [-1.0,  2.0, 3.0,  0.6,  1.5,  0.0, 0.2,  1.0, 0.3, 1.5]\n",
    "\n",
    "\n",
    "embudo = [pot_0, pot_1, pot_2, pot_3, pot_4, pot_5, pot_6, pot_7, pot_8, pot_9, \n",
    "         pot_10, pot_11, pot_12, pot_13, pot_14, pot_15, pot_16, pot_17, pot_18,\n",
    "         pot_19, pot_20, pot_21, pot_22, pot_23, pot_24, pot_25, pot_26, pot_27,\n",
    "         pot_28, pot_29, pot_30, pot_31, pot_32, pot_33, pot_34, pot_35, pot_36,\n",
    "         pot_37, pot_38, pot_39, pot_40]\n",
    "\n",
    "check_positive_3D(embudo)\n",
    "effective_ks_3D(embudo)"
   ]
  },
  {
   "cell_type": "markdown",
   "metadata": {},
   "source": [
    "Calculamos el periodo de oscilación natural en lo mínimos de los kernel gaussianos usados para construir el potencial embudo. Tomamos la máxima k efectiva para tener referencia temporal para la elección del paso de integración."
   ]
  },
  {
   "cell_type": "code",
   "execution_count": 7,
   "metadata": {},
   "outputs": [
    {
     "name": "stdout",
     "output_type": "stream",
     "text": [
      "Periodo T de oscilación 17.769554396705637\n"
     ]
    }
   ],
   "source": [
    "effective_k = effective_ks_3D(embudo)\n",
    "T = 2*np.pi*np.sqrt(mass/(effective_k * unit.kilocalories_per_mole/unit.angstrom**2))\n",
    "print('Periodo T de oscilación',T)"
   ]
  },
  {
   "cell_type": "markdown",
   "metadata": {},
   "source": [
    "### Añadiendo el potencial al sistema"
   ]
  },
  {
   "cell_type": "code",
   "execution_count": 9,
   "metadata": {},
   "outputs": [],
   "source": [
    "### Potencial tipo embudo en X, Y y Z\n",
    "\n",
    "gaussian_kernel = 'A*exp(-(cxx*(x-xo)^2+cyy*(y-yo)^2+czz*(z-zo)^2+ \\\n",
    "                   2.0*cxy*(x-xo)*(y-yo)+2.0*cxz*(x-xo)*(z-zo)+2.0*cyz*(y-yo)*(z-zo)))'\n",
    "\n",
    "for pot in embudo:\n",
    "    xo, yo, zo, A, cxx, cxy, cxz, cyy, cyz, czz = pot\n",
    "    force = mm.CustomExternalForce(gaussian_kernel)\n",
    "    force.addGlobalParameter('A', A * unit.kilocalories_per_mole)\n",
    "    force.addGlobalParameter('cxx', cxx * 1.0/unit.angstrom**2)\n",
    "    force.addGlobalParameter('cxy', cxy * 1.0/unit.angstrom**2)\n",
    "    force.addGlobalParameter('cxz', cxz * 1.0/unit.angstrom**2)\n",
    "    force.addGlobalParameter('cyy', cyy * 1.0/unit.angstrom**2)\n",
    "    force.addGlobalParameter('cyz', cyz * 1.0/unit.angstrom**2)\n",
    "    force.addGlobalParameter('czz', czz * 1.0/unit.angstrom**2)\n",
    "    force.addGlobalParameter('xo', xo * unit.angstrom)\n",
    "    force.addGlobalParameter('yo', yo * unit.angstrom)\n",
    "    force.addGlobalParameter('zo', zo * unit.angstrom)\n",
    "    force.addParticle(0, [])\n",
    "    system.addForce(force)"
   ]
  },
  {
   "cell_type": "markdown",
   "metadata": {},
   "source": [
    "# Estado termodinámico"
   ]
  },
  {
   "cell_type": "code",
   "execution_count": null,
   "metadata": {},
   "outputs": [],
   "source": [
    "# Formalismo NVT\n",
    "kB = unit.BOLTZMANN_CONSTANT_kB * unit.AVOGADRO_CONSTANT_NA\n",
    "temperature = 300*unit.kelvin\n",
    "pressure    = None"
   ]
  },
  {
   "cell_type": "markdown",
   "metadata": {},
   "source": [
    "# Parámetros de la simulación"
   ]
  },
  {
   "cell_type": "code",
   "execution_count": null,
   "metadata": {},
   "outputs": [],
   "source": [
    "step_size       = 0.01*unit.picoseconds\n",
    "num_steps       = 4000000\n",
    "saving_period   = 100\n",
    "num_steps_saved = int(num_steps/saving_period)"
   ]
  },
  {
   "cell_type": "markdown",
   "metadata": {},
   "source": [
    "# Integrador"
   ]
  },
  {
   "cell_type": "code",
   "execution_count": null,
   "metadata": {},
   "outputs": [],
   "source": [
    "friction   = 1.0/unit.picosecond\n",
    "integrator = mm.LangevinIntegrator(temperature, friction, step_size)"
   ]
  },
  {
   "cell_type": "markdown",
   "metadata": {},
   "source": [
    "# Plataforma de simulación"
   ]
  },
  {
   "cell_type": "code",
   "execution_count": null,
   "metadata": {},
   "outputs": [],
   "source": [
    "platform_name = 'CPU'  #platform:     A platform (CPU, OpenCL, CUDA, or reference); default is platform=OpenCL\"\n",
    "# for ii in range(mm.Platform.getNumPlatforms()):\n",
    "#     print(mm.Platform.getPlatform(ii).getName())\n",
    "platform = mm.Platform.getPlatformByName(platform_name)"
   ]
  },
  {
   "cell_type": "markdown",
   "metadata": {},
   "source": [
    "# Reporteros y arrays de salida"
   ]
  },
  {
   "cell_type": "code",
   "execution_count": null,
   "metadata": {},
   "outputs": [],
   "source": [
    "times      = unit.Quantity(np.zeros([num_steps_saved], np.float32), unit.picoseconds)\n",
    "positions  = unit.Quantity(np.zeros([num_steps_saved,3], np.float32), unit.angstroms)\n",
    "velocities = unit.Quantity(np.zeros([num_steps_saved,3], np.float32), unit.angstroms/unit.picosecond)\n",
    "potential_energies   = unit.Quantity(np.zeros([num_steps_saved], np.float32), unit.kilocalories_per_mole)\n",
    "kinetic_energies     = unit.Quantity(np.zeros([num_steps_saved], np.float32), unit.kilocalories_per_mole)"
   ]
  },
  {
   "cell_type": "markdown",
   "metadata": {},
   "source": [
    "# Condiciones iniciales"
   ]
  },
  {
   "cell_type": "code",
   "execution_count": null,
   "metadata": {},
   "outputs": [],
   "source": [
    "initial_positions  = [[0.0, 0.0, 0.0]] * unit.angstroms\n",
    "#initial_velocities = None # Las velocidades serán adjudicadas aleatoriamente según la distribución Maxwell-Boltzmann del estado termodinámico\n",
    "\n",
    "context = mm.Context(system, integrator, platform)\n",
    "context.setPositions(initial_positions)\n",
    "context.setVelocitiesToTemperature(temperature)"
   ]
  },
  {
   "cell_type": "code",
   "execution_count": null,
   "metadata": {},
   "outputs": [],
   "source": [
    "state = context.getState(getEnergy=True, getPositions=True, getVelocities=True)\n",
    "times[0] = state.getTime()\n",
    "positions[0] = state.getPositions()[0]\n",
    "velocities[0] = state.getVelocities()[0]\n",
    "kinetic_energies[0]=state.getKineticEnergy()\n",
    "potential_energies[0]=state.getPotentialEnergy()"
   ]
  },
  {
   "cell_type": "markdown",
   "metadata": {},
   "source": [
    "# Corriendo la simulación"
   ]
  },
  {
   "cell_type": "code",
   "execution_count": null,
   "metadata": {},
   "outputs": [],
   "source": [
    "for ii in tqdm(range(num_steps_saved)):\n",
    "    context.getIntegrator().step(saving_period)\n",
    "    state = context.getState(getEnergy=True, getPositions=True, getVelocities=True)\n",
    "    times[ii] = state.getTime()\n",
    "    positions[ii] = state.getPositions()[0]\n",
    "    velocities[ii] = state.getVelocities()[0]\n",
    "    kinetic_energies[ii]=state.getKineticEnergy()\n",
    "    potential_energies[ii]=state.getPotentialEnergy()"
   ]
  },
  {
   "cell_type": "markdown",
   "metadata": {},
   "source": [
    "# Análisis de resultados"
   ]
  },
  {
   "cell_type": "code",
   "execution_count": null,
   "metadata": {},
   "outputs": [],
   "source": [
    "plt.rcParams['figure.figsize'] = 18, 4\n",
    "for ii, ylabel in zip(range(3),['X','Y','Z']):\n",
    "    plt.plot(times,positions[:,ii])\n",
    "    plt.ylabel(ylabel)\n",
    "    plt.xlabel('time')\n",
    "    plt.show()"
   ]
  },
  {
   "cell_type": "code",
   "execution_count": null,
   "metadata": {},
   "outputs": [],
   "source": [
    "hist, bin_edges = np.histogram(positions[:,0],bins=100, density=True)\n",
    "plt.plot((bin_edges[1:]+bin_edges[:-1])/2.0,hist)\n",
    "plt.show()"
   ]
  },
  {
   "cell_type": "code",
   "execution_count": null,
   "metadata": {},
   "outputs": [],
   "source": [
    "plt.plot((bin_edges[1:]+bin_edges[:-1])/2.0,-np.log(hist))\n",
    "plt.show()"
   ]
  },
  {
   "cell_type": "code",
   "execution_count": null,
   "metadata": {},
   "outputs": [],
   "source": [
    "num_frames = positions.shape[0]\n",
    "averages   = unit.Quantity(np.zeros(num_frames, np.float32), unit.angstroms)\n",
    "std_devs   = unit.Quantity(np.zeros(num_frames, np.float32), unit.angstroms)\n",
    "    \n",
    "for ii in np.arange(num_frames):\n",
    "    averages[ii] = np.mean(positions[:(ii+1),0])\n",
    "    std_devs[ii]  = np.std(positions[:(ii+1),0])\n",
    "\n",
    "plt.plot(times,averages)\n",
    "plt.show()\n",
    "\n",
    "plt.plot(times,std_devs)\n",
    "plt.show()"
   ]
  },
  {
   "cell_type": "code",
   "execution_count": null,
   "metadata": {},
   "outputs": [],
   "source": [
    "writing = False\n",
    "\n",
    "if writing: \n",
    "    h5f = h5py.File('data_double_well_md.h5', 'w')\n",
    "    h5f.create_dataset('times', data=times)\n",
    "    h5f.create_dataset('positions', data=positions)\n",
    "    h5f.create_dataset('velocities', data=velocities)\n",
    "    h5f.create_dataset('kinetic_energies', data=kinetic_energies)\n",
    "    h5f.create_dataset('potential_energies', data=potential_energies)\n",
    "    h5f.close()"
   ]
  },
  {
   "cell_type": "code",
   "execution_count": null,
   "metadata": {},
   "outputs": [],
   "source": [
    "reading =False\n",
    "\n",
    "if reading:\n",
    "    h5f = h5py.File('data_double_well_md.h5', 'r')\n",
    "    #for name in h5f:\n",
    "    #    print(name)\n",
    "    times              = h5f['times'][:]\n",
    "    positions          = h5f['positions'][:]\n",
    "    velocities         = h5f['velocities'][:]\n",
    "    kinetic_energies   = h5f['kinetic_energies'][:]\n",
    "    potential_energies = h5f['potential_energies'][:]\n",
    "    h5f.close()"
   ]
  },
  {
   "cell_type": "code",
   "execution_count": null,
   "metadata": {},
   "outputs": [],
   "source": [
    "\"\"\"\n",
    "T = sqrt(m/K)\n",
    "timestep smaller than ~ T/10\n",
    "standard deviation in each dimension sigma= (kT / K)^(1/2)\n",
    "Expectation and standard deviation of the potential energy of a 3D harmonic oscillator is (3/2)kT\n",
    "\"\"\""
   ]
  },
  {
   "cell_type": "markdown",
   "metadata": {},
   "source": [
    "### Todo:\n",
    "\n",
    "- Los gaussian kernel son demasiado abiertos, la k efectiva es muy baja en comparación con el potencial del eje z"
   ]
  },
  {
   "cell_type": "code",
   "execution_count": null,
   "metadata": {},
   "outputs": [],
   "source": []
  }
 ],
 "metadata": {
  "kernelspec": {
   "display_name": "Python 3",
   "language": "python",
   "name": "python3"
  },
  "language_info": {
   "codemirror_mode": {
    "name": "ipython",
    "version": 3
   },
   "file_extension": ".py",
   "mimetype": "text/x-python",
   "name": "python",
   "nbconvert_exporter": "python",
   "pygments_lexer": "ipython3",
   "version": "3.7.1"
  }
 },
 "nbformat": 4,
 "nbformat_minor": 2
}
