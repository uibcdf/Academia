{
 "cells": [
  {
   "cell_type": "markdown",
   "metadata": {},
   "source": [
    "# Notas"
   ]
  },
  {
   "cell_type": "markdown",
   "metadata": {},
   "source": [
    "https://github.com/openmm/openmmforcefields"
   ]
  },
  {
   "cell_type": "markdown",
   "metadata": {},
   "source": [
    "https://gpantel.github.io/\n",
    "https://github.com/gpantel/MD_methods-and-analysis/tree/master/OpenMM_Tutorial\n",
    "https://gpantel.github.io/assets/PDF/OpenMM_Tutorial.pdf"
   ]
  },
  {
   "cell_type": "markdown",
   "metadata": {},
   "source": [
    "- El sistema puede ser cambiado al vuelo entre pasos de simulación\n",
    "- Se pueden definer integradores\n"
   ]
  },
  {
   "cell_type": "code",
   "execution_count": null,
   "metadata": {},
   "outputs": [],
   "source": [
    "# We can set the precision scheme to use for MD.\n",
    "# \"single\": Nearly all work is done with single precision.\n",
    "# \"mixed\": Forces are in single precision. Integration steps are in double precision.\n",
    "# \"double\": All work is done with double precision. GPUs are bad at this. Can't really use it.\n",
    "# \"mixed\" is generally fast and stable. I always use \"mixed\"."
   ]
  }
 ],
 "metadata": {
  "kernelspec": {
   "display_name": "Python 3",
   "language": "python",
   "name": "python3"
  },
  "language_info": {
   "codemirror_mode": {
    "name": "ipython",
    "version": 3
   },
   "file_extension": ".py",
   "mimetype": "text/x-python",
   "name": "python",
   "nbconvert_exporter": "python",
   "pygments_lexer": "ipython3",
   "version": "3.7.7"
  }
 },
 "nbformat": 4,
 "nbformat_minor": 4
}
