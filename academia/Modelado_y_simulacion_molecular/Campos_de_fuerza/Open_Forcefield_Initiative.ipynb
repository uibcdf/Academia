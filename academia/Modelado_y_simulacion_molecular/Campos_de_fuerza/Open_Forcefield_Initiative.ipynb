{
 "cells": [
  {
   "cell_type": "markdown",
   "id": "087e9088-8cde-49ec-850b-a4a8dac3db15",
   "metadata": {},
   "source": [
    "# The Open Forcefield Initiative"
   ]
  },
  {
   "cell_type": "code",
   "execution_count": null,
   "id": "2b909761-55b1-4a6e-8d98-7b6d0d2ee26c",
   "metadata": {},
   "outputs": [],
   "source": [
    "## SMIRNOFF format"
   ]
  },
  {
   "cell_type": "code",
   "execution_count": null,
   "id": "84af28db-cd8e-4026-9f4c-f755db88434e",
   "metadata": {},
   "outputs": [],
   "source": [
    "https://www.youtube.com/watch?v=0S9Pj33IVk0"
   ]
  },
  {
   "cell_type": "code",
   "execution_count": null,
   "id": "29a263d4-7426-4047-9823-c1509b49f2d8",
   "metadata": {},
   "outputs": [],
   "source": [
    "http://leeping.github.io/forcebalance/doc/html/index.html"
   ]
  }
 ],
 "metadata": {
  "kernelspec": {
   "display_name": "Python 3",
   "language": "python",
   "name": "python3"
  },
  "language_info": {
   "codemirror_mode": {
    "name": "ipython",
    "version": 3
   },
   "file_extension": ".py",
   "mimetype": "text/x-python",
   "name": "python",
   "nbconvert_exporter": "python",
   "pygments_lexer": "ipython3",
   "version": "3.7.10"
  }
 },
 "nbformat": 4,
 "nbformat_minor": 5
}
