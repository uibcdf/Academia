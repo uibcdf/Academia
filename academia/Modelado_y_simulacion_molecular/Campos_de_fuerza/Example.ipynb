{
 "cells": [
  {
   "cell_type": "markdown",
   "id": "3a10420c-7cdb-4dc9-ad06-7ed450c3ccc6",
   "metadata": {},
   "source": [
    "# Example"
   ]
  },
  {
   "cell_type": "code",
   "execution_count": 23,
   "id": "fa2f1252-7b6e-467b-9265-9f081c108367",
   "metadata": {},
   "outputs": [],
   "source": [
    "import os\n",
    "import openff\n",
    "import openforcefields\n",
    "from openff.toolkit.typing.engines.smirnoff import ForceField"
   ]
  },
  {
   "cell_type": "code",
   "execution_count": 28,
   "id": "924b5c47-18e4-42e3-b313-276f6ad01192",
   "metadata": {},
   "outputs": [
    {
     "name": "stdout",
     "output_type": "stream",
     "text": [
      "openff-1.0.0-RC1.offxml\n",
      "openff-1.0.0-RC2.offxml\n",
      "openff-1.0.0.offxml\n",
      "openff-1.0.1.offxml\n",
      "openff-1.1.0.offxml\n",
      "openff-1.1.1.offxml\n",
      "openff-1.2.0.offxml\n",
      "openff-1.2.1.offxml\n",
      "openff-1.3.0.offxml\n",
      "openff-1.3.1-alpha.1.offxml\n",
      "openff-1.3.1.offxml\n",
      "openff-2.0.0-rc.1.offxml\n",
      "openff_unconstrained-1.0.0-RC1.offxml\n",
      "openff_unconstrained-1.0.0-RC2.offxml\n",
      "openff_unconstrained-1.0.0.offxml\n",
      "openff_unconstrained-1.0.1.offxml\n",
      "openff_unconstrained-1.1.0.offxml\n",
      "openff_unconstrained-1.1.1.offxml\n",
      "openff_unconstrained-1.2.0.offxml\n",
      "openff_unconstrained-1.2.1.offxml\n",
      "openff_unconstrained-1.3.0.offxml\n",
      "openff_unconstrained-1.3.1-alpha.1.offxml\n",
      "openff_unconstrained-1.3.1.offxml\n",
      "openff_unconstrained-2.0.0-rc.1.offxml\n"
     ]
    }
   ],
   "source": [
    "dirs_with_offs=openforcefields.get_forcefield_dirs_paths()\n",
    "for dirname in dirs_with_offs:\n",
    "    for filename in sorted(os.listdir(dirname)):\n",
    "        if filename.endswith('.offxml'):\n",
    "            print(filename)"
   ]
  },
  {
   "cell_type": "code",
   "execution_count": 11,
   "id": "35df13e0-1b5e-45ea-ae99-63d4b319ba60",
   "metadata": {},
   "outputs": [],
   "source": [
    "ff = ForceField('openff-2.0.0-rc.1.offxml')"
   ]
  },
  {
   "cell_type": "code",
   "execution_count": null,
   "id": "66d1a971-0ac7-44ec-996f-2a0fa6e94916",
   "metadata": {},
   "outputs": [],
   "source": []
  }
 ],
 "metadata": {
  "kernelspec": {
   "display_name": "Python 3 (ipykernel)",
   "language": "python",
   "name": "python3"
  },
  "language_info": {
   "codemirror_mode": {
    "name": "ipython",
    "version": 3
   },
   "file_extension": ".py",
   "mimetype": "text/x-python",
   "name": "python",
   "nbconvert_exporter": "python",
   "pygments_lexer": "ipython3",
   "version": "3.7.10"
  }
 },
 "nbformat": 4,
 "nbformat_minor": 5
}
