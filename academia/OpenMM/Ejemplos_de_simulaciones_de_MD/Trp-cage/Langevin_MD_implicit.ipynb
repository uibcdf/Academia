{
 "cells": [
  {
   "cell_type": "code",
   "execution_count": 1,
   "metadata": {},
   "outputs": [],
   "source": [
    "%load_ext autoreload\n",
    "%autoreload 2"
   ]
  },
  {
   "cell_type": "markdown",
   "metadata": {},
   "source": [
    "# Langevin MD Implicit Simulation"
   ]
  },
  {
   "cell_type": "code",
   "execution_count": 2,
   "metadata": {},
   "outputs": [
    {
     "data": {
      "application/vnd.jupyter.widget-view+json": {
       "model_id": "5c5f3d46f9a049ef8f1219356ec7c984",
       "version_major": 2,
       "version_minor": 0
      },
      "text/plain": []
     },
     "metadata": {},
     "output_type": "display_data"
    }
   ],
   "source": [
    "import molsysmt as msm\n",
    "import uibcdf_tools as uibcdf_tools\n",
    "import numpy as np\n",
    "from simtk import unit\n",
    "import simtk.openmm as mm\n",
    "import simtk.openmm.app as app\n",
    "from mdtraj.reporters import HDF5Reporter\n",
    "from sys import stdout"
   ]
  },
  {
   "cell_type": "code",
   "execution_count": null,
   "metadata": {},
   "outputs": [],
   "source": [
    "forcefield = app.AmberPrmtopFile('ff99sb_jacs2002.prmtop')\n",
    "#topology = msm.convert('ff99sb_jacs2002.prmtop', to_form='openmm.Topology')\n",
    "topology = forcefield.topology\n",
    "positions = msm.get('Trp-cage.pdb', coordinates=True)[0]"
   ]
  },
  {
   "cell_type": "code",
   "execution_count": null,
   "metadata": {},
   "outputs": [],
   "source": [
    "system = forcefield.createSystem(implicitSolvent=app.OBC2, soluteDielectric=1.0, solventDielectric=78.5)\n",
    "# En el tutorial usan solventDielectric=78.5\n",
    "# Ver http://docs.openmm.org/7.1.0/userguide/application.html#amber-implicit-solvent\n",
    "# Puedo tambien poner implicitSolventKappa=1.0/nanometer\n",
    "\n",
    "# El warning que da es por que el parametro radii para un átomo no es el mismo que el considerado por openmm\n",
    "# como adecuado para OBC2: en el prmtop es 0.12 y debería ser 0.13"
   ]
  },
  {
   "cell_type": "code",
   "execution_count": null,
   "metadata": {},
   "outputs": [],
   "source": [
    "temperature = 325*unit.kelvin\n",
    "integration_timestep = 2.0*unit.femtosecond\n",
    "damping = 1.0/unit.picosecond\n",
    "\n",
    "integrator = mm.LangevinIntegrator(temperature, damping, integration_timestep)"
   ]
  },
  {
   "cell_type": "code",
   "execution_count": null,
   "metadata": {},
   "outputs": [],
   "source": [
    "platform = mm.Platform.getPlatformByName('CUDA')"
   ]
  },
  {
   "cell_type": "code",
   "execution_count": null,
   "metadata": {},
   "outputs": [],
   "source": [
    "properties = {'CudaPrecision': 'mixed'}\n",
    "#properties[\"DeviceIndex\"] = \"0\" # We should also specify which GPU we want to use for the simulation"
   ]
  },
  {
   "cell_type": "code",
   "execution_count": null,
   "metadata": {},
   "outputs": [],
   "source": [
    "simulation = app.Simulation(topology, system, integrator, platform, properties)"
   ]
  },
  {
   "cell_type": "code",
   "execution_count": null,
   "metadata": {},
   "outputs": [],
   "source": [
    "simulation.context.setPositions(positions)\n",
    "simulation.context.setVelocitiesToTemperature(temperature)"
   ]
  },
  {
   "cell_type": "code",
   "execution_count": null,
   "metadata": {},
   "outputs": [],
   "source": [
    "md_time = 5.0 * unit.nanoseconds\n",
    "saving_time_interval = 10.0 * unit.picoseconds\n",
    "log_time_interval = 100.0 * unit.picoseconds\n",
    "\n",
    "md_steps = np.rint(md_time/integration_timestep).astype(int)\n",
    "saving_steps_interval = np.rint(saving_time_interval/integration_timestep).astype(int)\n",
    "log_steps_interval = np.rint(log_time_interval/integration_timestep).astype(int)"
   ]
  },
  {
   "cell_type": "code",
   "execution_count": null,
   "metadata": {},
   "outputs": [],
   "source": [
    "reporter_log_stdout = app.StateDataReporter(stdout, log_steps_interval, step=True, time=True,\n",
    "                                            potentialEnergy=True, kineticEnergy=True,\n",
    "                                            totalEnergy=True, temperature=True,\n",
    "                                            progress=True, remainingTime=True,\n",
    "                                            speed=True, totalSteps=md_steps, separator='\\t')\n",
    "\n",
    "\n",
    "reporter_logfile = app.StateDataReporter('traj.log', log_steps_interval, step=True, time=True,\n",
    "                                            potentialEnergy=True, kineticEnergy=True,\n",
    "                                            totalEnergy=True, temperature=True,\n",
    "                                            progress=True, remainingTime=True,\n",
    "                                            speed=True, totalSteps=md_steps, separator='\\t')\n",
    "\n",
    "reporter_h5file = HDF5Reporter('traj.h5', saving_steps_interval, coordinates=True, time=True,\n",
    "                               potentialEnergy=True, kineticEnergy=True, temperature=True)\n",
    "\n",
    "simulation.reporters.append(reporter_log_stdout)\n",
    "simulation.reporters.append(reporter_logfile)\n",
    "simulation.reporters.append(reporter_h5file)"
   ]
  },
  {
   "cell_type": "code",
   "execution_count": null,
   "metadata": {},
   "outputs": [],
   "source": [
    "print(simulation.context.getState(getEnergy=True).getPotentialEnergy())\n",
    "simulation.minimizeEnergy()\n",
    "print(simulation.context.getState(getEnergy=True).getPotentialEnergy())"
   ]
  },
  {
   "cell_type": "code",
   "execution_count": null,
   "metadata": {},
   "outputs": [],
   "source": [
    "simulation.step(md_steps)"
   ]
  },
  {
   "cell_type": "code",
   "execution_count": null,
   "metadata": {},
   "outputs": [],
   "source": [
    "reporter_h5file.close()"
   ]
  },
  {
   "cell_type": "code",
   "execution_count": 3,
   "metadata": {},
   "outputs": [
    {
     "name": "stderr",
     "output_type": "stream",
     "text": [
      "/home/diego/Myopt/miniconda3/envs/UIBCDF_lab_dev/lib/python3.7/site-packages/tables/leaf.py:544: VisibleDeprecationWarning: Creating an ndarray from ragged nested sequences (which is a list-or-tuple of lists-or-tuples-or ndarrays with different lengths or shapes) is deprecated. If you meant to do this, you must specify 'dtype=object' when creating the ndarray\n",
      "  key = numpy.array(key)\n"
     ]
    },
    {
     "data": {
      "application/vnd.jupyter.widget-view+json": {
       "model_id": "dc0fce6cfdad48c1b4d19fe7f06b55f9",
       "version_major": 2,
       "version_minor": 0
      },
      "text/plain": [
       "NGLWidget(max_frame=499)"
      ]
     },
     "metadata": {},
     "output_type": "display_data"
    }
   ],
   "source": [
    "msm.view('traj.h5')"
   ]
  },
  {
   "cell_type": "code",
   "execution_count": null,
   "metadata": {},
   "outputs": [],
   "source": []
  }
 ],
 "metadata": {
  "kernelspec": {
   "display_name": "Python 3",
   "language": "python",
   "name": "python3"
  },
  "language_info": {
   "codemirror_mode": {
    "name": "ipython",
    "version": 3
   },
   "file_extension": ".py",
   "mimetype": "text/x-python",
   "name": "python",
   "nbconvert_exporter": "python",
   "pygments_lexer": "ipython3",
   "version": "3.7.7"
  }
 },
 "nbformat": 4,
 "nbformat_minor": 4
}
